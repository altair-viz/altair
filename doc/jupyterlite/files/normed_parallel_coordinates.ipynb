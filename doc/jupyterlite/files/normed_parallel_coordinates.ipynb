{
 "cells": [
  {
   "cell_type": "code",
   "execution_count": null,
   "id": "51e3da73",
   "metadata": {},
   "outputs": [],
   "source": [
    "# Running this cell is required to get the examples to work in this online\n",
    "# notebook until there is a way to preinstall packages\n",
    "# You have to wait until it has executed before you click to run the next cell\n",
    "import micropip\n",
    "micropip.install(['altair', 'vega_datasets'])"
   ]
  },
  {
   "cell_type": "code",
   "execution_count": null,
   "id": "507efa06",
   "metadata": {
    "lines_to_next_cell": 3
   },
   "outputs": [],
   "source": [
    "\"\"\"\n",
    "Normalized Parallel Coordinates Example\n",
    "---------------------------------------\n",
    "A `Parallel Coordinates <https://en.wikipedia.org/wiki/Parallel_coordinates>`_\n",
    "chart is a chart that lets you visualize the individual data points by drawing\n",
    "a single line for each of them.\n",
    "\n",
    "Such a chart can be created in Altair by first transforming the data into a\n",
    "suitable representation.\n",
    "\n",
    "This example shows a modified parallel coordinates chart with the Iris dataset,\n",
    "where the y-axis shows the value after min-max rather than the raw value. It's a\n",
    "simplified Altair version of `the VegaLite version <https://vega.github.io/vega-lite/examples/parallel_coordinate.html>`_\n",
    "\"\"\"\n",
    "# category: other charts\n",
    "import altair as alt\n",
    "from vega_datasets import data\n",
    "from altair import datum\n",
    "\n",
    "source = data.iris()\n",
    "\n",
    "alt.Chart(source).transform_window(\n",
    "    index='count()'\n",
    ").transform_fold(\n",
    "    ['petalLength', 'petalWidth', 'sepalLength', 'sepalWidth']\n",
    ").transform_joinaggregate(\n",
    "     min='min(value)', \n",
    "     max='max(value)',\n",
    "     groupby=['key']\n",
    ").transform_calculate(\n",
    "    minmax_value=(datum.value-datum.min)/(datum.max-datum.min), \n",
    "    mid=(datum.min+datum.max)/2\n",
    ").mark_line().encode(\n",
    "    x='key:N',\n",
    "    y='minmax_value:Q',\n",
    "    color='species:N',\n",
    "    detail='index:N',\n",
    "    opacity=alt.value(0.5)\n",
    ").properties(width=500)"
   ]
  }
 ],
 "metadata": {
  "jupytext": {
   "cell_metadata_filter": "-all"
  },
  "kernelspec": {
   "display_name": "Python 3 (ipykernel)",
   "language": "python",
   "name": "python"
  }
 },
 "nbformat": 4,
 "nbformat_minor": 5
}
