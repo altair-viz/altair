{
 "cells": [
  {
   "cell_type": "code",
   "execution_count": null,
   "id": "f13abd10",
   "metadata": {},
   "outputs": [],
   "source": [
    "# Running this cell is required to get the examples to work in this online\n",
    "# notebook until there is a way to preinstall packages\n",
    "# You have to wait until it has executed before you click to run the next cell\n",
    "import micropip\n",
    "micropip.install(['altair', 'vega_datasets'])"
   ]
  },
  {
   "cell_type": "code",
   "execution_count": null,
   "id": "1640fe3b",
   "metadata": {},
   "outputs": [],
   "source": [
    "\"\"\"\n",
    "Trellis Histogram\n",
    "-----------------\n",
    "This example shows how to make a basic trellis histogram.\n",
    "https://vega.github.io/vega-lite/examples/trellis_bar_histogram.html\n",
    "\"\"\"\n",
    "# category: histograms\n",
    "import altair as alt\n",
    "from vega_datasets import data\n",
    "\n",
    "source = data.cars()\n",
    "\n",
    "alt.Chart(source).mark_bar().encode(\n",
    "    alt.X(\"Horsepower:Q\", bin=True),\n",
    "    y='count()',\n",
    "    row='Origin'\n",
    ")"
   ]
  }
 ],
 "metadata": {
  "jupytext": {
   "cell_metadata_filter": "-all"
  },
  "kernelspec": {
   "display_name": "Python 3 (ipykernel)",
   "language": "python",
   "name": "python"
  }
 },
 "nbformat": 4,
 "nbformat_minor": 5
}
