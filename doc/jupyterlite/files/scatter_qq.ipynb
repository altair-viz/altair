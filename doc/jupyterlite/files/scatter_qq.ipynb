{
 "cells": [
  {
   "cell_type": "code",
   "execution_count": null,
   "id": "d1e6c219",
   "metadata": {},
   "outputs": [],
   "source": [
    "# Running this cell is required to get the examples to work in this online\n",
    "# notebook until there is a way to preinstall packages\n",
    "# You have to wait until it has executed before you click to run the next cell\n",
    "import micropip\n",
    "micropip.install(['altair', 'vega_datasets'])"
   ]
  },
  {
   "cell_type": "code",
   "execution_count": null,
   "id": "98d4f6c5",
   "metadata": {},
   "outputs": [],
   "source": [
    "\"\"\"\n",
    "Quantile-Quantile Plot\n",
    "----------------------\n",
    "A quantile-quantile plot comparing input data to theoretical distributions.\n",
    "\"\"\"\n",
    "# category: scatter plots\n",
    "\n",
    "import altair as alt\n",
    "from vega_datasets import data\n",
    "\n",
    "source = data.normal_2d.url\n",
    "\n",
    "base = alt.Chart(source).transform_quantile(\n",
    "    'u',\n",
    "    step=0.01,\n",
    "    as_ = ['p', 'v']\n",
    ").transform_calculate(\n",
    "    uniform = 'quantileUniform(datum.p)',\n",
    "    normal = 'quantileNormal(datum.p)'\n",
    ").mark_point().encode(\n",
    "    alt.Y('v:Q')\n",
    ")\n",
    "\n",
    "base.encode(x='uniform:Q') | base.encode(x='normal:Q')"
   ]
  }
 ],
 "metadata": {
  "jupytext": {
   "cell_metadata_filter": "-all"
  },
  "kernelspec": {
   "display_name": "Python 3 (ipykernel)",
   "language": "python",
   "name": "python"
  }
 },
 "nbformat": 4,
 "nbformat_minor": 5
}
