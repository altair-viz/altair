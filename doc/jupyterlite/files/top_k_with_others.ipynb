{
 "cells": [
  {
   "cell_type": "code",
   "execution_count": null,
   "id": "d3431ceb",
   "metadata": {},
   "outputs": [],
   "source": [
    "# Running this cell is required to get the examples to work in this online\n",
    "# notebook until there is a way to preinstall packages\n",
    "# You have to wait until it has executed before you click to run the next cell\n",
    "import micropip\n",
    "micropip.install(['altair', 'vega_datasets'])"
   ]
  },
  {
   "cell_type": "code",
   "execution_count": null,
   "id": "7e67b73f",
   "metadata": {},
   "outputs": [],
   "source": [
    "\"\"\"\n",
    "Top-K plot with Others\n",
    "----------------------\n",
    "This example shows how to use aggregate, window, and calculate transfromations\n",
    "to display the top-k directors by average worldwide gross while grouping the \n",
    "remaining directors as 'All Others'.\n",
    "\"\"\"\n",
    "# category: case studies\n",
    "import altair as alt\n",
    "from vega_datasets import data\n",
    "\n",
    "source = data.movies.url\n",
    "\n",
    "alt.Chart(source).mark_bar().encode(\n",
    "    x=alt.X(\"aggregate_gross:Q\", aggregate=\"mean\", title=None),\n",
    "    y=alt.Y(\n",
    "        \"ranked_director:N\",\n",
    "        sort=alt.Sort(op=\"mean\", field=\"aggregate_gross\", order=\"descending\"),\n",
    "        title=None,\n",
    "    ),\n",
    ").transform_aggregate(\n",
    "    aggregate_gross='mean(Worldwide_Gross)',\n",
    "    groupby=[\"Director\"],\n",
    ").transform_window(\n",
    "    rank='row_number()',\n",
    "    sort=[alt.SortField(\"aggregate_gross\", order=\"descending\")],\n",
    ").transform_calculate(\n",
    "    ranked_director=\"datum.rank < 10 ? datum.Director : 'All Others'\"\n",
    ").properties(\n",
    "    title=\"Top Directors by Average Worldwide Gross\",\n",
    ")"
   ]
  }
 ],
 "metadata": {
  "jupytext": {
   "cell_metadata_filter": "-all"
  },
  "kernelspec": {
   "display_name": "Python 3 (ipykernel)",
   "language": "python",
   "name": "python"
  }
 },
 "nbformat": 4,
 "nbformat_minor": 5
}
