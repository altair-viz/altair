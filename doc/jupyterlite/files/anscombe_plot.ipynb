{
 "cells": [
  {
   "cell_type": "code",
   "execution_count": null,
   "id": "bfde1e70",
   "metadata": {},
   "outputs": [],
   "source": [
    "# Running this cell is required to get the examples to work in this online\n",
    "# notebook until there is a way to preinstall packages\n",
    "# You have to wait until it has executed before you click to run the next cell\n",
    "import micropip\n",
    "micropip.install(['altair', 'vega_datasets'])"
   ]
  },
  {
   "cell_type": "code",
   "execution_count": null,
   "id": "9021da38",
   "metadata": {},
   "outputs": [],
   "source": [
    "\"\"\"\n",
    "Anscombe's Quartet\n",
    "------------------\n",
    "\n",
    "This example shows how to use the column channel to make a trellis plot. Anscombe's Quartet is a famous dataset constructed by Francis Anscombe. Common summary statistics are identical for each subset of the data, despite the subsets having vastly different characteristics.\n",
    "\"\"\"\n",
    "# category: case studies\n",
    "import altair as alt\n",
    "from vega_datasets import data\n",
    "\n",
    "source = data.anscombe()\n",
    "\n",
    "alt.Chart(source).mark_circle().encode(\n",
    "    alt.X('X', scale=alt.Scale(zero=False)),\n",
    "    alt.Y('Y', scale=alt.Scale(zero=False)),\n",
    "    alt.Facet('Series', columns=2),\n",
    ").properties(\n",
    "    width=180,\n",
    "    height=180,\n",
    ")"
   ]
  }
 ],
 "metadata": {
  "jupytext": {
   "cell_metadata_filter": "-all"
  },
  "kernelspec": {
   "display_name": "Python 3 (ipykernel)",
   "language": "python",
   "name": "python"
  }
 },
 "nbformat": 4,
 "nbformat_minor": 5
}
