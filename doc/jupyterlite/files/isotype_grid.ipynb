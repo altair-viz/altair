{
 "cells": [
  {
   "cell_type": "code",
   "execution_count": null,
   "id": "68a9899e",
   "metadata": {},
   "outputs": [],
   "source": [
    "# Running this cell is required to get the examples to work in this online\n",
    "# notebook until there is a way to preinstall packages\n",
    "# You have to wait until it has executed before you click to run the next cell\n",
    "import micropip\n",
    "micropip.install(['altair', 'vega_datasets'])"
   ]
  },
  {
   "cell_type": "code",
   "execution_count": null,
   "id": "1c515a61",
   "metadata": {},
   "outputs": [],
   "source": [
    "\"\"\"\n",
    "Isotype Grid\n",
    "------------\n",
    "This example is a grid of isotype figures.\n",
    "\"\"\"\n",
    "# category: other charts\n",
    "import altair as alt\n",
    "import pandas as pd\n",
    "\n",
    "data = pd.DataFrame([dict(id=i) for i in range(1, 101)])\n",
    "\n",
    "person = (\n",
    "    \"M1.7 -1.7h-0.8c0.3 -0.2 0.6 -0.5 0.6 -0.9c0 -0.6 \"\n",
    "    \"-0.4 -1 -1 -1c-0.6 0 -1 0.4 -1 1c0 0.4 0.2 0.7 0.6 \"\n",
    "    \"0.9h-0.8c-0.4 0 -0.7 0.3 -0.7 0.6v1.9c0 0.3 0.3 0.6 \"\n",
    "    \"0.6 0.6h0.2c0 0 0 0.1 0 0.1v1.9c0 0.3 0.2 0.6 0.3 \"\n",
    "    \"0.6h1.3c0.2 0 0.3 -0.3 0.3 -0.6v-1.8c0 0 0 -0.1 0 \"\n",
    "    \"-0.1h0.2c0.3 0 0.6 -0.3 0.6 -0.6v-2c0.2 -0.3 -0.1 \"\n",
    "    \"-0.6 -0.4 -0.6z\"\n",
    ")\n",
    "\n",
    "alt.Chart(data).transform_calculate(\n",
    "    row=\"ceil(datum.id/10)\"\n",
    ").transform_calculate(\n",
    "    col=\"datum.id - datum.row*10\"\n",
    ").mark_point(\n",
    "    filled=True,\n",
    "    size=50\n",
    ").encode(\n",
    "    x=alt.X(\"col:O\", axis=None),\n",
    "    y=alt.Y(\"row:O\", axis=None),\n",
    "    shape=alt.ShapeValue(person)\n",
    ").properties(\n",
    "    width=400,\n",
    "    height=400\n",
    ").configure_view(\n",
    "    strokeWidth=0\n",
    ")"
   ]
  }
 ],
 "metadata": {
  "jupytext": {
   "cell_metadata_filter": "-all"
  },
  "kernelspec": {
   "display_name": "Python 3 (ipykernel)",
   "language": "python",
   "name": "python"
  }
 },
 "nbformat": 4,
 "nbformat_minor": 5
}
