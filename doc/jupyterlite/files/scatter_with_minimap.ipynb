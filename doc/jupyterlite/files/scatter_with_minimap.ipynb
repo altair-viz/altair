{
 "cells": [
  {
   "cell_type": "code",
   "execution_count": null,
   "id": "c76b4349",
   "metadata": {},
   "outputs": [],
   "source": [
    "# Running this cell is required to get the examples to work in this online\n",
    "# notebook until there is a way to preinstall packages\n",
    "# You have to wait until it has executed before you click to run the next cell\n",
    "import micropip\n",
    "micropip.install(['altair', 'vega_datasets'])"
   ]
  },
  {
   "cell_type": "code",
   "execution_count": null,
   "id": "0037700e",
   "metadata": {},
   "outputs": [],
   "source": [
    "\"\"\"\n",
    "Scatter Plot with Minimap\n",
    "-------------------------\n",
    "This example shows how to create a miniature version of a plot\n",
    "such that creating a selection in the miniature version\n",
    "adjusts the axis limits in another, more detailed view.\n",
    "\"\"\"\n",
    "# category: scatter plots\n",
    "\n",
    "import altair as alt\n",
    "from vega_datasets import data\n",
    "\n",
    "source = data.seattle_weather()\n",
    "\n",
    "zoom = alt.selection_interval(encodings=[\"x\", \"y\"])\n",
    "\n",
    "minimap = (\n",
    "    alt.Chart(source)\n",
    "    .mark_point()\n",
    "    .add_selection(zoom)\n",
    "    .encode(\n",
    "        x=\"date:T\",\n",
    "        y=\"temp_max:Q\",\n",
    "        color=alt.condition(zoom, \"weather\", alt.value(\"lightgray\")),\n",
    "    )\n",
    "    .properties(\n",
    "        width=200,\n",
    "        height=200,\n",
    "        title=\"Minimap -- click and drag to zoom in the detail view\",\n",
    "    )\n",
    ")\n",
    "\n",
    "detail = (\n",
    "    alt.Chart(source)\n",
    "    .mark_point()\n",
    "    .encode(\n",
    "        x=alt.X(\n",
    "            \"date:T\", scale=alt.Scale(domain={\"param\": zoom.name, \"encoding\": \"x\"})\n",
    "        ),\n",
    "        y=alt.Y(\n",
    "            \"temp_max:Q\",\n",
    "            scale=alt.Scale(domain={\"param\": zoom.name, \"encoding\": \"y\"}),\n",
    "        ),\n",
    "        color=\"weather\",\n",
    "    )\n",
    "    .properties(width=600, height=400, title=\"Seattle weather -- detail view\")\n",
    ")\n",
    "\n",
    "detail | minimap"
   ]
  }
 ],
 "metadata": {
  "jupytext": {
   "cell_metadata_filter": "-all"
  },
  "kernelspec": {
   "display_name": "Python 3 (ipykernel)",
   "language": "python",
   "name": "python"
  }
 },
 "nbformat": 4,
 "nbformat_minor": 5
}
