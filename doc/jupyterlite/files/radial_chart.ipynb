{
 "cells": [
  {
   "cell_type": "code",
   "execution_count": null,
   "id": "ee66f6f1",
   "metadata": {},
   "outputs": [],
   "source": [
    "# Running this cell is required to get the examples to work in this online\n",
    "# notebook until there is a way to preinstall packages\n",
    "# You have to wait until it has executed before you click to run the next cell\n",
    "import micropip\n",
    "micropip.install(['altair', 'vega_datasets'])"
   ]
  },
  {
   "cell_type": "code",
   "execution_count": null,
   "id": "c60be8b9",
   "metadata": {},
   "outputs": [],
   "source": [
    "\"\"\"\n",
    "Radial Chart\n",
    "------------\n",
    "This radial plot uses both angular and radial extent to convey multiple dimensions of data.\n",
    "This is adapted from a corresponding Vega-Lite Example:\n",
    "`Radial Plot <https://vega.github.io/vega-lite/examples/arc_radial.html>`_.\n",
    "\"\"\"\n",
    "# category: circular plots\n",
    "\n",
    "import pandas as pd\n",
    "import altair as alt\n",
    "\n",
    "source = pd.DataFrame({\"values\": [12, 23, 47, 6, 52, 19]})\n",
    "\n",
    "base = alt.Chart(source).encode(\n",
    "    theta=alt.Theta(\"values:Q\", stack=True),\n",
    "    radius=alt.Radius(\"values\", scale=alt.Scale(type=\"sqrt\", zero=True, rangeMin=20)),\n",
    "    color=\"values:N\",\n",
    ")\n",
    "\n",
    "c1 = base.mark_arc(innerRadius=20, stroke=\"#fff\")\n",
    "\n",
    "c2 = base.mark_text(radiusOffset=10).encode(text=\"values:Q\")\n",
    "\n",
    "c1 + c2"
   ]
  }
 ],
 "metadata": {
  "jupytext": {
   "cell_metadata_filter": "-all"
  },
  "kernelspec": {
   "display_name": "Python 3 (ipykernel)",
   "language": "python",
   "name": "python"
  }
 },
 "nbformat": 4,
 "nbformat_minor": 5
}
