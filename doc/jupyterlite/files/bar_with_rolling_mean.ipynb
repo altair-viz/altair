{
 "cells": [
  {
   "cell_type": "code",
   "execution_count": null,
   "id": "6d8408fb",
   "metadata": {},
   "outputs": [],
   "source": [
    "# Running this cell is required to get the examples to work in this online\n",
    "# notebook until there is a way to preinstall packages\n",
    "# You have to wait until it has executed before you click to run the next cell\n",
    "import micropip\n",
    "micropip.install(['altair', 'vega_datasets'])"
   ]
  },
  {
   "cell_type": "code",
   "execution_count": null,
   "id": "fad993e3",
   "metadata": {},
   "outputs": [],
   "source": [
    "\"\"\"\n",
    "Bar Chart with Rolling Mean\n",
    "---------------------------\n",
    "A bar chart overlayed with a rolling mean. In this example the average of values over the previous decade is displayed as a line.\n",
    "\"\"\"\n",
    "# category: bar charts\n",
    "import altair as alt\n",
    "from vega_datasets import data\n",
    "\n",
    "source = data.wheat()\n",
    "\n",
    "bar = alt.Chart(source).mark_bar().encode(\n",
    "    x='year:O',\n",
    "    y='wheat:Q'\n",
    ")\n",
    "\n",
    "line = alt.Chart(source).mark_line(color='red').transform_window(\n",
    "    # The field to average\n",
    "    rolling_mean='mean(wheat)',\n",
    "    # The number of values before and after the current value to include.\n",
    "    frame=[-9, 0]\n",
    ").encode(\n",
    "    x='year:O',\n",
    "    y='rolling_mean:Q'\n",
    ")\n",
    "\n",
    "(bar + line).properties(width=600)"
   ]
  }
 ],
 "metadata": {
  "jupytext": {
   "cell_metadata_filter": "-all"
  },
  "kernelspec": {
   "display_name": "Python 3 (ipykernel)",
   "language": "python",
   "name": "python"
  }
 },
 "nbformat": 4,
 "nbformat_minor": 5
}
