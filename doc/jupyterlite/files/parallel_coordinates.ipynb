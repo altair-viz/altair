{
 "cells": [
  {
   "cell_type": "code",
   "execution_count": null,
   "id": "6f4bfbca",
   "metadata": {},
   "outputs": [],
   "source": [
    "# Running this cell is required to get the examples to work in this online\n",
    "# notebook until there is a way to preinstall packages\n",
    "# You have to wait until it has executed before you click to run the next cell\n",
    "import micropip\n",
    "micropip.install(['altair', 'vega_datasets'])"
   ]
  },
  {
   "cell_type": "code",
   "execution_count": null,
   "id": "8ae7611d",
   "metadata": {},
   "outputs": [],
   "source": [
    "\"\"\"\n",
    "Parallel Coordinates Example\n",
    "----------------------------\n",
    "A `Parallel Coordinates <https://en.wikipedia.org/wiki/Parallel_coordinates>`_\n",
    "chart is a chart that lets you visualize the individual data points by drawing\n",
    "a single line for each of them.\n",
    "Such a chart can be created in Altair by first transforming the data into a\n",
    "suitable representation.\n",
    "This example shows a parallel coordinates chart with the Iris dataset.\n",
    "\"\"\"\n",
    "# category: other charts\n",
    "\n",
    "import altair as alt\n",
    "from vega_datasets import data\n",
    "\n",
    "source = data.iris()\n",
    "\n",
    "alt.Chart(source).transform_window(\n",
    "    index='count()'  \n",
    ").transform_fold(\n",
    "    ['petalLength', 'petalWidth', 'sepalLength', 'sepalWidth']\n",
    ").mark_line().encode(\n",
    "    x='key:N',\n",
    "    y='value:Q',\n",
    "    color='species:N',\n",
    "    detail='index:N',\n",
    "    opacity=alt.value(0.5)\n",
    ").properties(width=500)"
   ]
  }
 ],
 "metadata": {
  "jupytext": {
   "cell_metadata_filter": "-all"
  },
  "kernelspec": {
   "display_name": "Python 3 (ipykernel)",
   "language": "python",
   "name": "python"
  }
 },
 "nbformat": 4,
 "nbformat_minor": 5
}
