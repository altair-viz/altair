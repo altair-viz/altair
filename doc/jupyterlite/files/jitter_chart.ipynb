{
 "cells": [
  {
   "cell_type": "code",
   "execution_count": null,
   "id": "4dd3aee4",
   "metadata": {},
   "outputs": [],
   "source": [
    "# Running this cell is required to get the examples to work in this online\n",
    "# notebook until there is a way to preinstall packages\n",
    "# You have to wait until it has executed before you click to run the next cell\n",
    "import micropip\n",
    "micropip.install(['altair', 'vega_datasets'])"
   ]
  },
  {
   "cell_type": "code",
   "execution_count": null,
   "id": "60ebd3e9",
   "metadata": {},
   "outputs": [],
   "source": [
    "\"\"\"\n",
    "Jitter Chart\n",
    "------------\n",
    "In this chart, we encode the ``Cylinders`` column from the ``cars`` dataset in the ``y``-channel.  Because most cars (all but seven) in this dataset have 4, 6, or 8 cylinders, the default presentation of this data would show most of the data concentrated on three horizontal lines.  Furthermore, in that default presentation, it would be difficult to gauge the relative frequencies with which different values occur (because there would be so much overlap).  To compensate for this, we use the ``yOffset`` channel to incorporate a random offset (jittering).  This is adapted from a corresponding Vega-Lite Example:\n",
    "`Dot Plot with Jittering <https://vega.github.io/vega-lite/examples/point_offset_random.html>`_.\n",
    "\"\"\"\n",
    "# category: scatter plots\n",
    "import altair as alt\n",
    "from vega_datasets import data\n",
    "\n",
    "source = data.cars()\n",
    "\n",
    "alt.Chart(source).mark_point().encode(\n",
    "    x='Horsepower:Q',\n",
    "    y='Cylinders:O',\n",
    "    yOffset='randomCalc:Q'\n",
    ").transform_calculate(\n",
    "    randomCalc='random()'\n",
    ").properties(\n",
    "    height=alt.Step(50)\n",
    ")"
   ]
  }
 ],
 "metadata": {
  "jupytext": {
   "cell_metadata_filter": "-all"
  },
  "kernelspec": {
   "display_name": "Python 3 (ipykernel)",
   "language": "python",
   "name": "python"
  }
 },
 "nbformat": 4,
 "nbformat_minor": 5
}
