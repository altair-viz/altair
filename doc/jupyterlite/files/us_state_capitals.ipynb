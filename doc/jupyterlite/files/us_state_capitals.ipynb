{
 "cells": [
  {
   "cell_type": "code",
   "execution_count": null,
   "id": "f0ad6703",
   "metadata": {},
   "outputs": [],
   "source": [
    "# Running this cell is required to get the examples to work in this online\n",
    "# notebook until there is a way to preinstall packages\n",
    "# You have to wait until it has executed before you click to run the next cell\n",
    "import micropip\n",
    "micropip.install(['altair', 'vega_datasets'])"
   ]
  },
  {
   "cell_type": "code",
   "execution_count": null,
   "id": "5a04ceda",
   "metadata": {},
   "outputs": [],
   "source": [
    "\"\"\"\n",
    "U.S. state capitals overlayed on a map of the U.S\n",
    "-------------------------------------------------\n",
    "This is a layered geographic visualization that shows US capitals\n",
    "overlayed on a map.\n",
    "\"\"\"\n",
    "# category: case studies\n",
    "import altair as alt\n",
    "from vega_datasets import data\n",
    "\n",
    "states = alt.topo_feature(data.us_10m.url, 'states')\n",
    "capitals = data.us_state_capitals.url\n",
    "\n",
    "# US states background\n",
    "background = alt.Chart(states).mark_geoshape(\n",
    "    fill='lightgray',\n",
    "    stroke='white'\n",
    ").properties(\n",
    "    title='US State Capitols',\n",
    "    width=650,\n",
    "    height=400\n",
    ").project('albersUsa')\n",
    "\n",
    "# Points and text\n",
    "hover = alt.selection(type='single', on='mouseover', nearest=True,\n",
    "                      fields=['lat', 'lon'])\n",
    "\n",
    "base = alt.Chart(capitals).encode(\n",
    "    longitude='lon:Q',\n",
    "    latitude='lat:Q',\n",
    ")\n",
    "\n",
    "text = base.mark_text(dy=-5, align='right').encode( \n",
    "    alt.Text('city', type='nominal'),\n",
    "    opacity=alt.condition(~hover, alt.value(0), alt.value(1))\n",
    ")\n",
    "\n",
    "points = base.mark_point().encode(\n",
    "    color=alt.value('black'),\n",
    "    size=alt.condition(~hover, alt.value(30), alt.value(100))\n",
    ").add_selection(hover)\n",
    "\n",
    "background + points + text"
   ]
  }
 ],
 "metadata": {
  "jupytext": {
   "cell_metadata_filter": "-all"
  },
  "kernelspec": {
   "display_name": "Python 3 (ipykernel)",
   "language": "python",
   "name": "python"
  }
 },
 "nbformat": 4,
 "nbformat_minor": 5
}
