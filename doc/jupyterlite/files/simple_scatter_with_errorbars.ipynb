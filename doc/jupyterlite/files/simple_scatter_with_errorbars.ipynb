{
 "cells": [
  {
   "cell_type": "code",
   "execution_count": null,
   "id": "a937e248",
   "metadata": {},
   "outputs": [],
   "source": [
    "# Running this cell is required to get the examples to work in this online\n",
    "# notebook until there is a way to preinstall packages\n",
    "# You have to wait until it has executed before you click to run the next cell\n",
    "import micropip\n",
    "micropip.install(['altair', 'vega_datasets'])"
   ]
  },
  {
   "cell_type": "code",
   "execution_count": null,
   "id": "239f26b4",
   "metadata": {},
   "outputs": [],
   "source": [
    "\"\"\"\n",
    "Simple Scatter Plot with Errorbars\n",
    "----------------------------------\n",
    "A simple scatter plot of a data set with errorbars.\n",
    "\"\"\"\n",
    "# category: scatter plots\n",
    "import altair as alt\n",
    "import pandas as pd\n",
    "import numpy as np\n",
    "\n",
    "# generate some data points with uncertainties\n",
    "np.random.seed(0)\n",
    "x = [1, 2, 3, 4, 5]\n",
    "y = np.random.normal(10, 0.5, size=len(x))\n",
    "yerr = 0.2\n",
    "\n",
    "# set up data frame\n",
    "source = pd.DataFrame({\"x\": x, \"y\": y, \"yerr\": yerr})\n",
    "\n",
    "# the base chart\n",
    "base = alt.Chart(source).transform_calculate(\n",
    "    ymin=\"datum.y-datum.yerr\",\n",
    "    ymax=\"datum.y+datum.yerr\"\n",
    ")\n",
    "\n",
    "# generate the points\n",
    "points = base.mark_point(\n",
    "    filled=True,\n",
    "    size=50,\n",
    "    color='black'\n",
    ").encode(\n",
    "    x=alt.X('x', scale=alt.Scale(domain=(0, 6))),\n",
    "    y=alt.Y('y', scale=alt.Scale(zero=False))\n",
    ")\n",
    "\n",
    "# generate the error bars\n",
    "errorbars = base.mark_errorbar().encode(\n",
    "    x=\"x\",\n",
    "    y=\"ymin:Q\",\n",
    "    y2=\"ymax:Q\"\n",
    ")\n",
    "\n",
    "points + errorbars"
   ]
  }
 ],
 "metadata": {
  "jupytext": {
   "cell_metadata_filter": "-all"
  },
  "kernelspec": {
   "display_name": "Python 3 (ipykernel)",
   "language": "python",
   "name": "python"
  }
 },
 "nbformat": 4,
 "nbformat_minor": 5
}
