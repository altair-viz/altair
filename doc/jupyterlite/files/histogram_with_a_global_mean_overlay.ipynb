{
 "cells": [
  {
   "cell_type": "code",
   "execution_count": null,
   "id": "d8de57bd",
   "metadata": {},
   "outputs": [],
   "source": [
    "# Running this cell is required to get the examples to work in this online\n",
    "# notebook until there is a way to preinstall packages\n",
    "# You have to wait until it has executed before you click to run the next cell\n",
    "import micropip\n",
    "micropip.install(['altair', 'vega_datasets'])"
   ]
  },
  {
   "cell_type": "code",
   "execution_count": null,
   "id": "3ebb6979",
   "metadata": {},
   "outputs": [],
   "source": [
    "\"\"\"\n",
    "Histogram with a Global Mean Overlay\n",
    "------------------------------------\n",
    "This example shows a histogram with a global mean overlay.\n",
    "\"\"\"\n",
    "# category: histograms\n",
    "import altair as alt\n",
    "from vega_datasets import data\n",
    "\n",
    "source = data.movies.url\n",
    "\n",
    "base = alt.Chart(source)\n",
    "\n",
    "bar = base.mark_bar().encode(\n",
    "    x=alt.X('IMDB_Rating:Q', bin=True, axis=None),\n",
    "    y='count()'\n",
    ")\n",
    "\n",
    "rule = base.mark_rule(color='red').encode(\n",
    "    x='mean(IMDB_Rating):Q',\n",
    "    size=alt.value(5)\n",
    ")\n",
    "\n",
    "bar + rule"
   ]
  }
 ],
 "metadata": {
  "jupytext": {
   "cell_metadata_filter": "-all"
  },
  "kernelspec": {
   "display_name": "Python 3 (ipykernel)",
   "language": "python",
   "name": "python"
  }
 },
 "nbformat": 4,
 "nbformat_minor": 5
}
