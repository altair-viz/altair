{
 "cells": [
  {
   "cell_type": "code",
   "execution_count": null,
   "id": "25b7ea25",
   "metadata": {},
   "outputs": [],
   "source": [
    "# Running this cell is required to get the examples to work in this online\n",
    "# notebook until there is a way to preinstall packages\n",
    "# You have to wait until it has executed before you click to run the next cell\n",
    "import micropip\n",
    "micropip.install(['altair', 'vega_datasets'])"
   ]
  },
  {
   "cell_type": "code",
   "execution_count": null,
   "id": "e35993a8",
   "metadata": {},
   "outputs": [],
   "source": [
    "\"\"\"\n",
    "Grouped Bar Chart with Error Bars\n",
    "---------------------------------\n",
    "This example shows a grouped bar chart with error bars.\n",
    "\"\"\"\n",
    "# category: bar charts\n",
    "import altair as alt\n",
    "from vega_datasets import data\n",
    "\n",
    "source = data.barley()\n",
    "\n",
    "bars = alt.Chart().mark_bar().encode(\n",
    "    x='year:O',\n",
    "    y=alt.Y('mean(yield):Q', title='Mean Yield'),\n",
    "    color='year:N',\n",
    ")\n",
    "\n",
    "error_bars = alt.Chart().mark_errorbar(extent='ci').encode(\n",
    "    x='year:O',\n",
    "    y='yield:Q'\n",
    ")\n",
    "\n",
    "alt.layer(bars, error_bars, data=source).facet(\n",
    "    column='site:N'\n",
    ")"
   ]
  }
 ],
 "metadata": {
  "jupytext": {
   "cell_metadata_filter": "-all"
  },
  "kernelspec": {
   "display_name": "Python 3 (ipykernel)",
   "language": "python",
   "name": "python"
  }
 },
 "nbformat": 4,
 "nbformat_minor": 5
}
