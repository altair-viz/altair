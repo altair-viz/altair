{
 "cells": [
  {
   "cell_type": "code",
   "execution_count": null,
   "id": "95ef9ab9",
   "metadata": {},
   "outputs": [],
   "source": [
    "# Running this cell is required to get the examples to work in this online\n",
    "# notebook until there is a way to preinstall packages\n",
    "# You have to wait until it has executed before you click to run the next cell\n",
    "import micropip\n",
    "micropip.install(['altair', 'vega_datasets'])"
   ]
  },
  {
   "cell_type": "code",
   "execution_count": null,
   "id": "94d687b6",
   "metadata": {},
   "outputs": [],
   "source": [
    "\"\"\"\n",
    "Bar Chart with Line on Dual Axis\n",
    "--------------------------------\n",
    "This example shows how to combine two plots and keep their axes.\n",
    "\n",
    "For a more polished version of this chart, see :ref:`gallery_wheat_wages`.\n",
    "\"\"\"\n",
    "# category: bar charts\n",
    "import altair as alt\n",
    "from vega_datasets import data\n",
    "\n",
    "source = data.wheat()\n",
    "\n",
    "base = alt.Chart(source).encode(x='year:O')\n",
    "\n",
    "bar = base.mark_bar().encode(y='wheat:Q')\n",
    "\n",
    "line =  base.mark_line(color='red').encode(\n",
    "    y='wages:Q'\n",
    ")\n",
    "\n",
    "(bar + line).properties(width=600)"
   ]
  }
 ],
 "metadata": {
  "jupytext": {
   "cell_metadata_filter": "-all"
  },
  "kernelspec": {
   "display_name": "Python 3 (ipykernel)",
   "language": "python",
   "name": "python"
  }
 },
 "nbformat": 4,
 "nbformat_minor": 5
}
