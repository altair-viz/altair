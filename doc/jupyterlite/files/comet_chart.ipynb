{
 "cells": [
  {
   "cell_type": "code",
   "execution_count": null,
   "id": "dd7ab6bf",
   "metadata": {},
   "outputs": [],
   "source": [
    "# Running this cell is required to get the examples to work in this online\n",
    "# notebook until there is a way to preinstall packages\n",
    "# You have to wait until it has executed before you click to run the next cell\n",
    "import micropip\n",
    "micropip.install(['altair', 'vega_datasets'])"
   ]
  },
  {
   "cell_type": "code",
   "execution_count": null,
   "id": "6482b131",
   "metadata": {},
   "outputs": [],
   "source": [
    "\"\"\"\n",
    "Comet Chart Example\n",
    "----------------------------\n",
    "Inspired by `Zan Armstrong's comet chart <https://www.zanarmstrong.com/infovisresearch>`_\n",
    "this plot uses ``mark_trail`` to visualize change of grouped data over time.\n",
    "A more elaborate example and explanation of creating comet charts in Altair\n",
    "is shown in `this blogpost <https://medium.com/de-dataverbinders/comet-charts-in-python-visualizing-statistical-mix-effects-and-simpsons-paradox-with-altair-6cd51fb58b7c>`_.\n",
    "\"\"\"\n",
    "# category: other charts\n",
    "\n",
    "import altair as alt\n",
    "import vega_datasets\n",
    "\n",
    "(\n",
    "    alt.Chart(vega_datasets.data.barley.url)\n",
    "    .transform_pivot(\"year\", value=\"yield\", groupby=[\"variety\", \"site\"])\n",
    "    .transform_fold([\"1931\", \"1932\"], as_=[\"year\", \"yield\"])\n",
    "    .transform_calculate(calculate=\"datum['1932'] - datum['1931']\", as_=\"delta\")\n",
    "    .mark_trail()\n",
    "    .encode(\n",
    "        x=alt.X('year:O', title=None), \n",
    "        y=alt.Y('variety:N', title='Variety'),\n",
    "        size=alt.Size('yield:Q', scale=alt.Scale(range=[0, 12]), legend=alt.Legend(values=[20, 60], title='Barley Yield (bushels/acre)')),\n",
    "        color=alt.Color('delta:Q', scale=alt.Scale(domainMid=0), legend=alt.Legend(title='Yield Delta (%)')),\n",
    "        tooltip=alt.Tooltip(['year:O', 'yield:Q']),\n",
    "        column=alt.Column('site:N', title='Site')\n",
    "\n",
    "    )\n",
    "    .configure_view(stroke=None)\n",
    "    .configure_legend(orient='bottom', direction='horizontal')\n",
    "    .properties(title='Barley Yield comparison between 1932 and 1931')\n",
    ")"
   ]
  }
 ],
 "metadata": {
  "jupytext": {
   "cell_metadata_filter": "-all"
  },
  "kernelspec": {
   "display_name": "Python 3 (ipykernel)",
   "language": "python",
   "name": "python"
  }
 },
 "nbformat": 4,
 "nbformat_minor": 5
}
