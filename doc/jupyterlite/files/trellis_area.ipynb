{
 "cells": [
  {
   "cell_type": "code",
   "execution_count": null,
   "id": "d488d2fb",
   "metadata": {},
   "outputs": [],
   "source": [
    "# Running this cell is required to get the examples to work in this online\n",
    "# notebook until there is a way to preinstall packages\n",
    "# You have to wait until it has executed before you click to run the next cell\n",
    "import micropip\n",
    "micropip.install(['altair', 'vega_datasets'])"
   ]
  },
  {
   "cell_type": "code",
   "execution_count": null,
   "id": "ce4bce2d",
   "metadata": {},
   "outputs": [],
   "source": [
    "\"\"\"\n",
    "Trellis Area Chart\n",
    "------------------\n",
    "This example shows small multiples of an area chart.\n",
    "\"\"\"\n",
    "# category: area charts\n",
    "import altair as alt\n",
    "from vega_datasets import data\n",
    "\n",
    "source = data.iowa_electricity()\n",
    "\n",
    "alt.Chart(source).mark_area().encode(\n",
    "    x=\"year:T\",\n",
    "    y=\"net_generation:Q\",\n",
    "    color=\"source:N\",\n",
    "    row=\"source:N\"\n",
    ").properties(\n",
    "    height=100\n",
    ")"
   ]
  }
 ],
 "metadata": {
  "jupytext": {
   "cell_metadata_filter": "-all"
  },
  "kernelspec": {
   "display_name": "Python 3 (ipykernel)",
   "language": "python",
   "name": "python"
  }
 },
 "nbformat": 4,
 "nbformat_minor": 5
}
