{
 "cells": [
  {
   "cell_type": "code",
   "execution_count": null,
   "id": "3a713f24",
   "metadata": {},
   "outputs": [],
   "source": [
    "# Running this cell is required to get the examples to work in this online\n",
    "# notebook until there is a way to preinstall packages\n",
    "# You have to wait until it has executed before you click to run the next cell\n",
    "import micropip\n",
    "micropip.install(['altair', 'vega_datasets'])"
   ]
  },
  {
   "cell_type": "code",
   "execution_count": null,
   "id": "8b6c2c53",
   "metadata": {},
   "outputs": [],
   "source": [
    "\"\"\"\n",
    "Bar Chart with rounded edges\n",
    "----------------------------\n",
    "This example shows how to create a bar chart with rounded edges.\n",
    "\"\"\"\n",
    "# category: bar charts\n",
    "import altair as alt\n",
    "from vega_datasets import data\n",
    "\n",
    "source = data.seattle_weather()\n",
    "\n",
    "alt.Chart(source).mark_bar(\n",
    "    cornerRadiusTopLeft=3,\n",
    "    cornerRadiusTopRight=3\n",
    ").encode(\n",
    "    x='month(date):O',\n",
    "    y='count():Q',\n",
    "    color='weather:N'\n",
    ")"
   ]
  }
 ],
 "metadata": {
  "jupytext": {
   "cell_metadata_filter": "-all"
  },
  "kernelspec": {
   "display_name": "Python 3 (ipykernel)",
   "language": "python",
   "name": "python"
  }
 },
 "nbformat": 4,
 "nbformat_minor": 5
}
