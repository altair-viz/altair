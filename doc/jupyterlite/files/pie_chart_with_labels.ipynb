{
 "cells": [
  {
   "cell_type": "code",
   "execution_count": null,
   "id": "2e32a83b",
   "metadata": {},
   "outputs": [],
   "source": [
    "# Running this cell is required to get the examples to work in this online\n",
    "# notebook until there is a way to preinstall packages\n",
    "# You have to wait until it has executed before you click to run the next cell\n",
    "import micropip\n",
    "micropip.install(['altair', 'vega_datasets'])"
   ]
  },
  {
   "cell_type": "code",
   "execution_count": null,
   "id": "135ee5ec",
   "metadata": {},
   "outputs": [],
   "source": [
    "\"\"\"\n",
    "Pie Chart with Labels\n",
    "---------------------\n",
    "This example shows how to layer text over arc marks (``mark_arc``) to label pie charts.\n",
    "This is adapted from a corresponding Vega-Lite Example:\n",
    "`Pie Chart with Labels <https://vega.github.io/vega-lite/examples/layer_arc_label.html>`_.\n",
    "\"\"\"\n",
    "# category: circular plots\n",
    "\n",
    "import pandas as pd\n",
    "import altair as alt\n",
    "\n",
    "source = pd.DataFrame(\n",
    "    {\"category\": [\"a\", \"b\", \"c\", \"d\", \"e\", \"f\"], \"value\": [4, 6, 10, 3, 7, 8]}\n",
    ")\n",
    "\n",
    "base = alt.Chart(source).encode(\n",
    "    theta=alt.Theta(\"value:Q\", stack=True), color=alt.Color(\"category:N\", legend=None)\n",
    ")\n",
    "\n",
    "pie = base.mark_arc(outerRadius=120)\n",
    "text = base.mark_text(radius=140, size=20).encode(text=\"category:N\")\n",
    "\n",
    "pie + text"
   ]
  }
 ],
 "metadata": {
  "jupytext": {
   "cell_metadata_filter": "-all"
  },
  "kernelspec": {
   "display_name": "Python 3 (ipykernel)",
   "language": "python",
   "name": "python"
  }
 },
 "nbformat": 4,
 "nbformat_minor": 5
}
