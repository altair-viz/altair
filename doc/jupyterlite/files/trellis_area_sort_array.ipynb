{
 "cells": [
  {
   "cell_type": "code",
   "execution_count": null,
   "id": "123879b6",
   "metadata": {},
   "outputs": [],
   "source": [
    "# Running this cell is required to get the examples to work in this online\n",
    "# notebook until there is a way to preinstall packages\n",
    "# You have to wait until it has executed before you click to run the next cell\n",
    "import micropip\n",
    "micropip.install(['altair', 'vega_datasets'])"
   ]
  },
  {
   "cell_type": "code",
   "execution_count": null,
   "id": "fd0063dd",
   "metadata": {},
   "outputs": [],
   "source": [
    "'''\n",
    "Trellis Area Sort Chart\n",
    "-----------------------\n",
    "This example shows small multiples of an area chart.\n",
    "Stock prices of four large companies\n",
    "sorted by `['MSFT', 'AAPL', 'IBM', 'AMZN']`\n",
    "'''\n",
    "# category: area charts\n",
    "import altair as alt\n",
    "from vega_datasets import data\n",
    "\n",
    "source = data.stocks()\n",
    "\n",
    "alt.Chart(source).transform_filter(\n",
    "    alt.datum.symbol != 'GOOG'\n",
    ").mark_area().encode(\n",
    "    x='date:T',\n",
    "    y='price:Q',\n",
    "    color='symbol:N',\n",
    "    row=alt.Row('symbol:N', sort=['MSFT', 'AAPL', 'IBM', 'AMZN'])\n",
    ").properties(height=50, width=400)"
   ]
  }
 ],
 "metadata": {
  "jupytext": {
   "cell_metadata_filter": "-all"
  },
  "kernelspec": {
   "display_name": "Python 3 (ipykernel)",
   "language": "python",
   "name": "python"
  }
 },
 "nbformat": 4,
 "nbformat_minor": 5
}
