{
 "cells": [
  {
   "cell_type": "code",
   "execution_count": null,
   "id": "1ca789d2",
   "metadata": {},
   "outputs": [],
   "source": [
    "# Running this cell is required to get the examples to work in this online\n",
    "# notebook until there is a way to preinstall packages\n",
    "# You have to wait until it has executed before you click to run the next cell\n",
    "import micropip\n",
    "micropip.install(['altair', 'vega_datasets'])"
   ]
  },
  {
   "cell_type": "code",
   "execution_count": null,
   "id": "05f81b90",
   "metadata": {},
   "outputs": [],
   "source": [
    "\"\"\"\n",
    "Simple Histogram\n",
    "----------------\n",
    "This example shows how to make a basic histogram, based on the vega-lite docs\n",
    "https://vega.github.io/vega-lite/examples/histogram.html\n",
    "\"\"\"\n",
    "# category: simple charts\n",
    "import altair as alt\n",
    "from vega_datasets import data\n",
    "\n",
    "source = data.movies.url\n",
    "\n",
    "alt.Chart(source).mark_bar().encode(\n",
    "    alt.X(\"IMDB_Rating:Q\", bin=True),\n",
    "    y='count()',\n",
    ")"
   ]
  }
 ],
 "metadata": {
  "jupytext": {
   "cell_metadata_filter": "-all"
  },
  "kernelspec": {
   "display_name": "Python 3 (ipykernel)",
   "language": "python",
   "name": "python"
  }
 },
 "nbformat": 4,
 "nbformat_minor": 5
}
