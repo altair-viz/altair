{
 "cells": [
  {
   "cell_type": "code",
   "execution_count": null,
   "id": "aad04f0a",
   "metadata": {},
   "outputs": [],
   "source": [
    "# Running this cell is required to get the examples to work in this online\n",
    "# notebook until there is a way to preinstall packages\n",
    "# You have to wait until it has executed before you click to run the next cell\n",
    "import micropip\n",
    "micropip.install(['altair', 'vega_datasets'])"
   ]
  },
  {
   "cell_type": "code",
   "execution_count": null,
   "id": "2e532b30",
   "metadata": {},
   "outputs": [],
   "source": [
    "\"\"\"\n",
    "Ranged Dot Plot\n",
    "-----------------\n",
    "This example shows a ranged dot plot that uses 'layer' to convey changing life expectancy for the five most populous countries (between 1955 and 2000).\n",
    "\"\"\"\n",
    "# category: other charts\n",
    "import altair as alt\n",
    "from vega_datasets import data\n",
    "\n",
    "source = data.countries.url\n",
    "\n",
    "chart = alt.layer(\n",
    "    data=source\n",
    ").transform_filter(\n",
    "    filter={\"field\": 'country',\n",
    "            \"oneOf\": [\"China\", \"India\", \"United States\", \"Indonesia\", \"Brazil\"]}\n",
    ").transform_filter(\n",
    "    filter={'field': 'year',\n",
    "            \"oneOf\": [1955, 2000]}\n",
    ")\n",
    "\n",
    "chart += alt.Chart().mark_line(color='#db646f').encode(\n",
    "    x='life_expect:Q',\n",
    "    y='country:N',\n",
    "    detail='country:N'\n",
    ")\n",
    "# Add points for life expectancy in 1955 & 2000\n",
    "chart += alt.Chart().mark_point(\n",
    "    size=100,\n",
    "    opacity=1,\n",
    "    filled=True\n",
    ").encode(\n",
    "    x='life_expect:Q',\n",
    "    y='country:N',\n",
    "    color=alt.Color('year:O',\n",
    "        scale=alt.Scale(\n",
    "            domain=['1955', '2000'],\n",
    "            range=['#e6959c', '#911a24']\n",
    "        )\n",
    "    )\n",
    ").interactive()\n",
    "\n",
    "chart"
   ]
  }
 ],
 "metadata": {
  "jupytext": {
   "cell_metadata_filter": "-all"
  },
  "kernelspec": {
   "display_name": "Python 3 (ipykernel)",
   "language": "python",
   "name": "python"
  }
 },
 "nbformat": 4,
 "nbformat_minor": 5
}
