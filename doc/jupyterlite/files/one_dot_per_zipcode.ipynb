{
 "cells": [
  {
   "cell_type": "code",
   "execution_count": null,
   "id": "30de3228",
   "metadata": {},
   "outputs": [],
   "source": [
    "# Running this cell is required to get the examples to work in this online\n",
    "# notebook until there is a way to preinstall packages\n",
    "# You have to wait until it has executed before you click to run the next cell\n",
    "import micropip\n",
    "micropip.install(['altair', 'vega_datasets'])"
   ]
  },
  {
   "cell_type": "code",
   "execution_count": null,
   "id": "2d14c35d",
   "metadata": {},
   "outputs": [],
   "source": [
    "\"\"\"\n",
    "One Dot Per Zipcode\n",
    "-----------------------\n",
    "This example shows a geographical plot with one dot per zipcode.\n",
    "\"\"\"\n",
    "# category: case studies\n",
    "import altair as alt\n",
    "from vega_datasets import data\n",
    "\n",
    "# Since the data is more than 5,000 rows we'll import it from a URL\n",
    "source = data.zipcodes.url\n",
    "\n",
    "alt.Chart(source).transform_calculate(\n",
    "    \"leading digit\", alt.expr.substring(alt.datum.zip_code, 0, 1)\n",
    ").mark_circle(size=3).encode(\n",
    "    longitude='longitude:Q',\n",
    "    latitude='latitude:Q',\n",
    "    color='leading digit:N',\n",
    "    tooltip='zip_code:N'\n",
    ").project(\n",
    "    type='albersUsa'\n",
    ").properties(\n",
    "    width=650,\n",
    "    height=400\n",
    ")"
   ]
  }
 ],
 "metadata": {
  "jupytext": {
   "cell_metadata_filter": "-all"
  },
  "kernelspec": {
   "display_name": "Python 3 (ipykernel)",
   "language": "python",
   "name": "python"
  }
 },
 "nbformat": 4,
 "nbformat_minor": 5
}
