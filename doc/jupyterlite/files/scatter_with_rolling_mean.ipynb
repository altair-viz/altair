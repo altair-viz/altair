{
 "cells": [
  {
   "cell_type": "code",
   "execution_count": null,
   "id": "d463dba7",
   "metadata": {},
   "outputs": [],
   "source": [
    "# Running this cell is required to get the examples to work in this online\n",
    "# notebook until there is a way to preinstall packages\n",
    "# You have to wait until it has executed before you click to run the next cell\n",
    "import micropip\n",
    "micropip.install(['altair', 'vega_datasets'])"
   ]
  },
  {
   "cell_type": "code",
   "execution_count": null,
   "id": "b754c1d3",
   "metadata": {},
   "outputs": [],
   "source": [
    "\"\"\"\n",
    "Scatter Plot with Rolling Mean\n",
    "------------------------------\n",
    "A scatter plot with a rolling mean overlay. In this example a 30 day window\n",
    "is used to calculate the mean of the maximum temperature around each date.\n",
    "\"\"\"\n",
    "# category: scatter plots\n",
    "\n",
    "import altair as alt\n",
    "from vega_datasets import data\n",
    "\n",
    "source = data.seattle_weather()\n",
    "\n",
    "line = alt.Chart(source).mark_line(\n",
    "    color='red', \n",
    "    size=3\n",
    ").transform_window(\n",
    "    rolling_mean='mean(temp_max)',\n",
    "    frame=[-15, 15]\n",
    ").encode(\n",
    "    x='date:T',\n",
    "    y='rolling_mean:Q'\n",
    ")\n",
    "\n",
    "points = alt.Chart(source).mark_point().encode(\n",
    "    x='date:T', \n",
    "    y=alt.Y('temp_max:Q', \n",
    "            axis=alt.Axis(title='Max Temp'))\n",
    ")\n",
    "\n",
    "points + line"
   ]
  }
 ],
 "metadata": {
  "jupytext": {
   "cell_metadata_filter": "-all"
  },
  "kernelspec": {
   "display_name": "Python 3 (ipykernel)",
   "language": "python",
   "name": "python"
  }
 },
 "nbformat": 4,
 "nbformat_minor": 5
}
