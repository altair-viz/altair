{
 "cells": [
  {
   "cell_type": "code",
   "execution_count": null,
   "id": "58e12561",
   "metadata": {},
   "outputs": [],
   "source": [
    "# Running this cell is required to get the examples to work in this online\n",
    "# notebook until there is a way to preinstall packages\n",
    "# You have to wait until it has executed before you click to run the next cell\n",
    "import micropip\n",
    "micropip.install(['altair', 'vega_datasets'])"
   ]
  },
  {
   "cell_type": "code",
   "execution_count": null,
   "id": "d91deb43",
   "metadata": {},
   "outputs": [],
   "source": [
    "\"\"\"\n",
    "Bar and Tick Chart\n",
    "------------------\n",
    "How to layer a tick chart on top of a bar chart.\n",
    "\"\"\"\n",
    "# category: bar charts\n",
    "import altair as alt\n",
    "import pandas as pd\n",
    "\n",
    "source = pd.DataFrame({\n",
    "    'project': ['a', 'b', 'c', 'd', 'e', 'f', 'g'],\n",
    "    'score': [25, 57, 23, 19, 8, 47, 8],\n",
    "    'goal': [25, 47, 30, 27, 38, 19, 4]\n",
    "})\n",
    "\n",
    "bar = alt.Chart(source).mark_bar().encode(\n",
    "    x='project',\n",
    "    y='score'\n",
    ").properties(\n",
    "    width=alt.Step(40)  # controls width of bar.\n",
    ")\n",
    "\n",
    "tick = alt.Chart(source).mark_tick(\n",
    "    color='red',\n",
    "    thickness=2,\n",
    "    size=40 * 0.9,  # controls width of tick.\n",
    ").encode(\n",
    "    x='project',\n",
    "    y='goal'\n",
    ")\n",
    "\n",
    "bar + tick"
   ]
  }
 ],
 "metadata": {
  "jupytext": {
   "cell_metadata_filter": "-all"
  },
  "kernelspec": {
   "display_name": "Python 3 (ipykernel)",
   "language": "python",
   "name": "python"
  }
 },
 "nbformat": 4,
 "nbformat_minor": 5
}
