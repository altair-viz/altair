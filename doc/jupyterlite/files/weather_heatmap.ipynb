{
 "cells": [
  {
   "cell_type": "code",
   "execution_count": null,
   "id": "37047da6",
   "metadata": {},
   "outputs": [],
   "source": [
    "# Running this cell is required to get the examples to work in this online\n",
    "# notebook until there is a way to preinstall packages\n",
    "# You have to wait until it has executed before you click to run the next cell\n",
    "import micropip\n",
    "micropip.install(['altair', 'vega_datasets'])"
   ]
  },
  {
   "cell_type": "code",
   "execution_count": null,
   "id": "1f01629a",
   "metadata": {},
   "outputs": [],
   "source": [
    "\"\"\"\n",
    "Seattle Weather Heatmap\n",
    "-----------------------\n",
    "This example shows the 2010 daily high temperature (F) in Seattle, WA.\n",
    "\"\"\"\n",
    "# category: case studies\n",
    "import altair as alt\n",
    "from vega_datasets import data\n",
    "\n",
    "# Since the data is more than 5,000 rows we'll import it from a URL\n",
    "source = data.seattle_temps.url\n",
    "\n",
    "alt.Chart(\n",
    "    source,\n",
    "    title=\"2010 Daily High Temperature (F) in Seattle, WA\"\n",
    ").mark_rect().encode(\n",
    "    x='date(date):O',\n",
    "    y='month(date):O',\n",
    "    color=alt.Color('max(temp):Q', scale=alt.Scale(scheme=\"inferno\")),\n",
    "    tooltip=[\n",
    "        alt.Tooltip('monthdate(date):T', title='Date'),\n",
    "        alt.Tooltip('max(temp):Q', title='Max Temp')\n",
    "    ]\n",
    ").properties(width=550)"
   ]
  }
 ],
 "metadata": {
  "jupytext": {
   "cell_metadata_filter": "-all"
  },
  "kernelspec": {
   "display_name": "Python 3 (ipykernel)",
   "language": "python",
   "name": "python"
  }
 },
 "nbformat": 4,
 "nbformat_minor": 5
}
