{
 "cells": [
  {
   "cell_type": "code",
   "execution_count": null,
   "id": "8ea862e5",
   "metadata": {},
   "outputs": [],
   "source": [
    "# Running this cell is required to get the examples to work in this online\n",
    "# notebook until there is a way to preinstall packages\n",
    "# You have to wait until it has executed before you click to run the next cell\n",
    "import micropip\n",
    "micropip.install(['altair', 'vega_datasets'])"
   ]
  },
  {
   "cell_type": "code",
   "execution_count": null,
   "id": "7c14b78a",
   "metadata": {},
   "outputs": [],
   "source": [
    "\"\"\"\n",
    "Scatter Plot and Histogram with Interval Selection\n",
    "==================================================\n",
    "\n",
    "This example shows how to link a scatter plot and a histogram\n",
    "together such that an interval selection in the histogram will\n",
    "plot the selected values in the scatter plot.\n",
    "\n",
    "Note that both subplots need to know about the `mbin` field created\n",
    "by the `transform_bin` method. In order to achieve this, the data is\n",
    "not passed to the `Chart()` instances creating the subplots, but\n",
    "directly in the `hconcat()` function, which joins the two plots together.\n",
    "\"\"\"\n",
    "# category: interactive charts\n",
    "\n",
    "import altair as alt\n",
    "import pandas as pd\n",
    "import numpy as np\n",
    "\n",
    "x = np.random.normal(size=100)\n",
    "y = np.random.normal(size=100)\n",
    "\n",
    "m = np.random.normal(15, 1, size=100)\n",
    "\n",
    "source = pd.DataFrame({\"x\": x, \"y\":y, \"m\":m})\n",
    "\n",
    "# interval selection in the scatter plot\n",
    "pts = alt.selection(type=\"interval\", encodings=[\"x\"])\n",
    "\n",
    "# left panel: scatter plot\n",
    "points = alt.Chart().mark_point(filled=True, color=\"black\").encode(\n",
    "    x='x',\n",
    "    y='y'\n",
    ").transform_filter(\n",
    "    pts\n",
    ").properties(\n",
    "    width=300,\n",
    "    height=300\n",
    ")\n",
    "\n",
    "# right panel: histogram\n",
    "mag = alt.Chart().mark_bar().encode(\n",
    "    x='mbin:N',\n",
    "    y=\"count()\",\n",
    "    color=alt.condition(pts, alt.value(\"black\"), alt.value(\"lightgray\"))\n",
    ").properties(\n",
    "    width=300,\n",
    "    height=300\n",
    ").add_selection(pts)\n",
    "\n",
    "# build the chart:\n",
    "alt.hconcat(\n",
    "    points,\n",
    "    mag,\n",
    "    data=source\n",
    ").transform_bin(\n",
    "    \"mbin\",\n",
    "    field=\"m\",\n",
    "    bin=alt.Bin(maxbins=20)\n",
    ")"
   ]
  }
 ],
 "metadata": {
  "jupytext": {
   "cell_metadata_filter": "-all"
  },
  "kernelspec": {
   "display_name": "Python 3 (ipykernel)",
   "language": "python",
   "name": "python"
  }
 },
 "nbformat": 4,
 "nbformat_minor": 5
}
