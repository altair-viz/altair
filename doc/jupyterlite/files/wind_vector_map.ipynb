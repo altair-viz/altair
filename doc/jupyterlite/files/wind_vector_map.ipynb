{
 "cells": [
  {
   "cell_type": "code",
   "execution_count": null,
   "id": "f6bd2b86",
   "metadata": {},
   "outputs": [],
   "source": [
    "# Running this cell is required to get the examples to work in this online\n",
    "# notebook until there is a way to preinstall packages\n",
    "# You have to wait until it has executed before you click to run the next cell\n",
    "import micropip\n",
    "micropip.install(['altair', 'vega_datasets'])"
   ]
  },
  {
   "cell_type": "code",
   "execution_count": null,
   "id": "6c857ace",
   "metadata": {},
   "outputs": [],
   "source": [
    "\"\"\"\n",
    "Wind Vector Map\n",
    "---------------\n",
    "An example showing a vector array map showing wind speed and direction using ``wedge``\n",
    "as shape for ``mark_point`` and ``angle`` encoding for the wind direction.\n",
    "This is adapted from this corresponding Vega-Lite Example:\n",
    "`Wind Vector Map <https://vega.github.io/vega-lite/examples/point_angle_windvector.html>`_.\n",
    "\"\"\"\n",
    "# category: scatter plots\n",
    "\n",
    "import altair as alt\n",
    "from vega_datasets import data\n",
    "\n",
    "source = data.windvectors()\n",
    "\n",
    "alt.Chart(source).mark_point(shape=\"wedge\", filled=True).encode(\n",
    "    latitude=\"latitude\",\n",
    "    longitude=\"longitude\",\n",
    "    color=alt.Color(\n",
    "        \"dir\", scale=alt.Scale(domain=[0, 360], scheme=\"rainbow\"), legend=None\n",
    "    ),\n",
    "    angle=alt.Angle(\"dir\", scale=alt.Scale(domain=[0, 360], range=[180, 540])),\n",
    "    size=alt.Size(\"speed\", scale=alt.Scale(rangeMax=500)),\n",
    ").project(\"equalEarth\")"
   ]
  }
 ],
 "metadata": {
  "jupytext": {
   "cell_metadata_filter": "-all"
  },
  "kernelspec": {
   "display_name": "Python 3 (ipykernel)",
   "language": "python",
   "name": "python"
  }
 },
 "nbformat": 4,
 "nbformat_minor": 5
}
