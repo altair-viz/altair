{
 "cells": [
  {
   "cell_type": "code",
   "execution_count": null,
   "id": "ad68b6b4",
   "metadata": {},
   "outputs": [],
   "source": [
    "# Running this cell is required to get the examples to work in this online\n",
    "# notebook until there is a way to preinstall packages\n",
    "# You have to wait until it has executed before you click to run the next cell\n",
    "import micropip\n",
    "micropip.install(['altair', 'vega_datasets'])"
   ]
  },
  {
   "cell_type": "code",
   "execution_count": null,
   "id": "221401f6",
   "metadata": {},
   "outputs": [],
   "source": [
    "\"\"\"\n",
    "Area Chart with Gradient\n",
    "------------------------\n",
    "This example shows how to make an area chart with a gradient fill. \n",
    "For more information about gradient options see the Vega-Lite `Gradient documentation <https://vega.github.io/vega-lite/docs/types.html#gradient>`_.\n",
    "\"\"\"\n",
    "# category: area charts\n",
    "\n",
    "import altair as alt\n",
    "from vega_datasets import data\n",
    "\n",
    "source = data.stocks()\n",
    "\n",
    "alt.Chart(source).transform_filter(\n",
    "    'datum.symbol===\"GOOG\"'\n",
    ").mark_area(\n",
    "    line={'color':'darkgreen'},\n",
    "    color=alt.Gradient(\n",
    "        gradient='linear', \n",
    "        stops=[alt.GradientStop(color='white', offset=0), \n",
    "               alt.GradientStop(color='darkgreen', offset=1)], \n",
    "        x1=1, \n",
    "        x2=1, \n",
    "        y1=1, \n",
    "        y2=0\n",
    "    )\n",
    ").encode(\n",
    "    alt.X('date:T'), \n",
    "    alt.Y('price:Q')\n",
    ")"
   ]
  }
 ],
 "metadata": {
  "jupytext": {
   "cell_metadata_filter": "-all"
  },
  "kernelspec": {
   "display_name": "Python 3 (ipykernel)",
   "language": "python",
   "name": "python"
  }
 },
 "nbformat": 4,
 "nbformat_minor": 5
}
