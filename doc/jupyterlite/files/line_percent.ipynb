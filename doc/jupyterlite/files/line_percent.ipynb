{
 "cells": [
  {
   "cell_type": "code",
   "execution_count": null,
   "id": "ff292a63",
   "metadata": {},
   "outputs": [],
   "source": [
    "# Running this cell is required to get the examples to work in this online\n",
    "# notebook until there is a way to preinstall packages\n",
    "# You have to wait until it has executed before you click to run the next cell\n",
    "import micropip\n",
    "micropip.install(['altair', 'vega_datasets'])"
   ]
  },
  {
   "cell_type": "code",
   "execution_count": null,
   "id": "4f683fca",
   "metadata": {},
   "outputs": [],
   "source": [
    "\"\"\"\n",
    "Line Chart with Percent axis\n",
    "----------------------------\n",
    "This example shows how to format the tick labels of the y-axis of a chart as percentages.\n",
    "\"\"\"\n",
    "# category: line charts\n",
    "import altair as alt\n",
    "from vega_datasets import data\n",
    "\n",
    "source = data.jobs.url\n",
    "\n",
    "alt.Chart(source).mark_line().encode(\n",
    "    alt.X('year:O'),\n",
    "    alt.Y('perc:Q', axis=alt.Axis(format='%')),\n",
    "    color='sex:N'\n",
    ").transform_filter(\n",
    "    alt.datum.job == 'Welder'\n",
    ")"
   ]
  }
 ],
 "metadata": {
  "jupytext": {
   "cell_metadata_filter": "-all"
  },
  "kernelspec": {
   "display_name": "Python 3 (ipykernel)",
   "language": "python",
   "name": "python"
  }
 },
 "nbformat": 4,
 "nbformat_minor": 5
}
