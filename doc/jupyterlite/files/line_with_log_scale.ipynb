{
 "cells": [
  {
   "cell_type": "code",
   "execution_count": null,
   "id": "629b7f9b",
   "metadata": {},
   "outputs": [],
   "source": [
    "# Running this cell is required to get the examples to work in this online\n",
    "# notebook until there is a way to preinstall packages\n",
    "# You have to wait until it has executed before you click to run the next cell\n",
    "import micropip\n",
    "micropip.install(['altair', 'vega_datasets'])"
   ]
  },
  {
   "cell_type": "code",
   "execution_count": null,
   "id": "ee25f1cc",
   "metadata": {},
   "outputs": [],
   "source": [
    "\"\"\"\n",
    "Line Chart with Logarithmic Scale\n",
    "---------------------------------\n",
    "How to make a line chart on a `Logarithmic scale <https://en.wikipedia.org/wiki/Logarithmic_scale>`_.\n",
    "\"\"\"\n",
    "# category: line charts\n",
    "import altair as alt\n",
    "from vega_datasets import data\n",
    "\n",
    "source = data.population()\n",
    "\n",
    "alt.Chart(source).mark_line().encode(\n",
    "    x='year:O',\n",
    "    y=alt.Y(\n",
    "        'sum(people)',\n",
    "        scale=alt.Scale(type=\"log\")  # Here the scale is applied\n",
    "    )\n",
    ")"
   ]
  }
 ],
 "metadata": {
  "jupytext": {
   "cell_metadata_filter": "-all"
  },
  "kernelspec": {
   "display_name": "Python 3 (ipykernel)",
   "language": "python",
   "name": "python"
  }
 },
 "nbformat": 4,
 "nbformat_minor": 5
}
