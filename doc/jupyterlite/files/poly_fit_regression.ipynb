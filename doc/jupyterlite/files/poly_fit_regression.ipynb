{
 "cells": [
  {
   "cell_type": "code",
   "execution_count": null,
   "id": "ae0ca7c1",
   "metadata": {},
   "outputs": [],
   "source": [
    "# Running this cell is required to get the examples to work in this online\n",
    "# notebook until there is a way to preinstall packages\n",
    "# You have to wait until it has executed before you click to run the next cell\n",
    "import micropip\n",
    "micropip.install(['altair', 'vega_datasets'])"
   ]
  },
  {
   "cell_type": "code",
   "execution_count": null,
   "id": "7dc9afc8",
   "metadata": {},
   "outputs": [],
   "source": [
    "\"\"\"\n",
    "Polynomial Fit Plot with Regression Transform\n",
    "=============================================\n",
    "This example shows how to overlay data with multiple fitted polynomials using\n",
    "the regression transform.\n",
    "\"\"\"\n",
    "# category: scatter plots\n",
    "\n",
    "import numpy as np\n",
    "import pandas as pd\n",
    "import altair as alt\n",
    "\n",
    "# Generate some random data\n",
    "rng = np.random.RandomState(1)\n",
    "x = rng.rand(40) ** 2\n",
    "y = 10 - 1.0 / (x + 0.1) + rng.randn(40)\n",
    "source = pd.DataFrame({\"x\": x, \"y\": y})\n",
    "\n",
    "# Define the degree of the polynomial fits\n",
    "degree_list = [1, 3, 5]\n",
    "\n",
    "base = alt.Chart(source).mark_circle(color=\"black\").encode(\n",
    "        alt.X(\"x\"), alt.Y(\"y\")\n",
    ")\n",
    "\n",
    "polynomial_fit = [\n",
    "    base.transform_regression(\n",
    "        \"x\", \"y\", method=\"poly\", order=order, as_=[\"x\", str(order)]\n",
    "    )\n",
    "    .mark_line()\n",
    "    .transform_fold([str(order)], as_=[\"degree\", \"y\"])\n",
    "    .encode(alt.Color(\"degree:N\"))\n",
    "    for order in degree_list\n",
    "]\n",
    "\n",
    "alt.layer(base, *polynomial_fit)"
   ]
  }
 ],
 "metadata": {
  "jupytext": {
   "cell_metadata_filter": "-all"
  },
  "kernelspec": {
   "display_name": "Python 3 (ipykernel)",
   "language": "python",
   "name": "python"
  }
 },
 "nbformat": 4,
 "nbformat_minor": 5
}
