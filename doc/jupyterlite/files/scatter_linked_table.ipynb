{
 "cells": [
  {
   "cell_type": "code",
   "execution_count": null,
   "id": "14144cb1",
   "metadata": {},
   "outputs": [],
   "source": [
    "# Running this cell is required to get the examples to work in this online\n",
    "# notebook until there is a way to preinstall packages\n",
    "# You have to wait until it has executed before you click to run the next cell\n",
    "import micropip\n",
    "micropip.install(['altair', 'vega_datasets'])"
   ]
  },
  {
   "cell_type": "code",
   "execution_count": null,
   "id": "b16d79f4",
   "metadata": {},
   "outputs": [],
   "source": [
    "\"\"\"\n",
    "Brushing Scatter Plot to show data on a table\n",
    "---------------------------------------------\n",
    "A scatter plot of the cars dataset, with data tables for horsepower, MPG, and origin. \n",
    "The tables update to reflect the selection on the scatter plot.\n",
    "\"\"\"\n",
    "# category: scatter plots\n",
    "\n",
    "import altair as alt\n",
    "from vega_datasets import data\n",
    "\n",
    "source = data.cars()\n",
    "\n",
    "# Brush for selection\n",
    "brush = alt.selection(type='interval')\n",
    "\n",
    "# Scatter Plot\n",
    "points = alt.Chart(source).mark_point().encode(\n",
    "    x='Horsepower:Q',\n",
    "    y='Miles_per_Gallon:Q',\n",
    "    color=alt.condition(brush, 'Cylinders:O', alt.value('grey'))\n",
    ").add_selection(brush)\n",
    "\n",
    "# Base chart for data tables\n",
    "ranked_text = alt.Chart(source).mark_text().encode(\n",
    "    y=alt.Y('row_number:O',axis=None)\n",
    ").transform_window(\n",
    "    row_number='row_number()'\n",
    ").transform_filter(\n",
    "    brush\n",
    ").transform_window(\n",
    "    rank='rank(row_number)'\n",
    ").transform_filter(\n",
    "    alt.datum.rank<20\n",
    ")\n",
    "\n",
    "# Data Tables\n",
    "horsepower = ranked_text.encode(text='Horsepower:N').properties(title='Horsepower')\n",
    "mpg = ranked_text.encode(text='Miles_per_Gallon:N').properties(title='MPG')\n",
    "origin = ranked_text.encode(text='Origin:N').properties(title='Origin')\n",
    "text = alt.hconcat(horsepower, mpg, origin) # Combine data tables\n",
    "\n",
    "# Build chart\n",
    "alt.hconcat(\n",
    "    points,\n",
    "    text\n",
    ").resolve_legend(\n",
    "    color=\"independent\"\n",
    ")"
   ]
  }
 ],
 "metadata": {
  "jupytext": {
   "cell_metadata_filter": "-all"
  },
  "kernelspec": {
   "display_name": "Python 3 (ipykernel)",
   "language": "python",
   "name": "python"
  }
 },
 "nbformat": 4,
 "nbformat_minor": 5
}
