{
 "cells": [
  {
   "cell_type": "code",
   "execution_count": null,
   "id": "d1c36785",
   "metadata": {},
   "outputs": [],
   "source": [
    "# Running this cell is required to get the examples to work in this online\n",
    "# notebook until there is a way to preinstall packages\n",
    "# You have to wait until it has executed before you click to run the next cell\n",
    "import micropip\n",
    "micropip.install(['altair', 'vega_datasets'])"
   ]
  },
  {
   "cell_type": "code",
   "execution_count": null,
   "id": "09549d1e",
   "metadata": {},
   "outputs": [],
   "source": [
    "\"\"\"\n",
    "Cumulative Count Chart\n",
    "----------------------\n",
    "This example shows an area chart with cumulative count.\n",
    "Adapted from https://vega.github.io/vega-lite/examples/area_cumulative_freq.html\n",
    "\n",
    "\"\"\"\n",
    "# category: area charts\n",
    "\n",
    "import altair as alt\n",
    "from vega_datasets import data\n",
    "\n",
    "source = data.movies.url\n",
    "\n",
    "alt.Chart(source).transform_window(\n",
    "    cumulative_count=\"count()\",\n",
    "    sort=[{\"field\": \"IMDB_Rating\"}],\n",
    ").mark_area().encode(\n",
    "    x=\"IMDB_Rating:Q\",\n",
    "    y=\"cumulative_count:Q\"\n",
    ")"
   ]
  }
 ],
 "metadata": {
  "jupytext": {
   "cell_metadata_filter": "-all"
  },
  "kernelspec": {
   "display_name": "Python 3 (ipykernel)",
   "language": "python",
   "name": "python"
  }
 },
 "nbformat": 4,
 "nbformat_minor": 5
}
