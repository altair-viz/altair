{
 "cells": [
  {
   "cell_type": "code",
   "execution_count": null,
   "id": "5c716d06",
   "metadata": {},
   "outputs": [],
   "source": [
    "# Running this cell is required to get the examples to work in this online\n",
    "# notebook until there is a way to preinstall packages\n",
    "# You have to wait until it has executed before you click to run the next cell\n",
    "import micropip\n",
    "micropip.install(['altair', 'vega_datasets'])"
   ]
  },
  {
   "cell_type": "code",
   "execution_count": null,
   "id": "37ed8bb4",
   "metadata": {},
   "outputs": [],
   "source": [
    "\"\"\"\n",
    "Repeated Choropleth Map\n",
    "=======================\n",
    "Three choropleths representing disjoint data from the same table.\n",
    "\"\"\"\n",
    "# category: maps\n",
    "import altair as alt\n",
    "from vega_datasets import data\n",
    "\n",
    "states = alt.topo_feature(data.us_10m.url, 'states')\n",
    "source = data.population_engineers_hurricanes.url\n",
    "variable_list = ['population', 'engineers', 'hurricanes']\n",
    "\n",
    "alt.Chart(states).mark_geoshape().encode(\n",
    "    alt.Color(alt.repeat('row'), type='quantitative')\n",
    ").transform_lookup(\n",
    "    lookup='id',\n",
    "    from_=alt.LookupData(source, 'id', variable_list)\n",
    ").properties(\n",
    "    width=500,\n",
    "    height=300\n",
    ").project(\n",
    "    type='albersUsa'\n",
    ").repeat(\n",
    "    row=variable_list\n",
    ").resolve_scale(\n",
    "    color='independent'\n",
    ")"
   ]
  }
 ],
 "metadata": {
  "jupytext": {
   "cell_metadata_filter": "-all"
  },
  "kernelspec": {
   "display_name": "Python 3 (ipykernel)",
   "language": "python",
   "name": "python"
  }
 },
 "nbformat": 4,
 "nbformat_minor": 5
}
