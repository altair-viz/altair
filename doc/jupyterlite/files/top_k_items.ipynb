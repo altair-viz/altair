{
 "cells": [
  {
   "cell_type": "code",
   "execution_count": null,
   "id": "7ddd9895",
   "metadata": {},
   "outputs": [],
   "source": [
    "# Running this cell is required to get the examples to work in this online\n",
    "# notebook until there is a way to preinstall packages\n",
    "# You have to wait until it has executed before you click to run the next cell\n",
    "import micropip\n",
    "micropip.install(['altair', 'vega_datasets'])"
   ]
  },
  {
   "cell_type": "code",
   "execution_count": null,
   "id": "201c2bf3",
   "metadata": {},
   "outputs": [],
   "source": [
    "\"\"\"\n",
    "Top K Items\n",
    "-----------\n",
    "This example shows how to use the window and transformation filter to display\n",
    "the Top items of a long list of items in decreasing order.\n",
    "Here we sort the top 10 highest ranking movies of IMDB.\n",
    "\"\"\"\n",
    "# category: case studies\n",
    "import altair as alt\n",
    "from vega_datasets import data\n",
    "\n",
    "source = data.movies.url\n",
    "\n",
    "# Top 10 movies by IMBD rating\n",
    "alt.Chart(\n",
    "    source,\n",
    ").mark_bar().encode(\n",
    "    x=alt.X('Title:N', sort='-y'),\n",
    "    y=alt.Y('IMDB_Rating:Q'),\n",
    "    color=alt.Color('IMDB_Rating:Q')\n",
    "    \n",
    ").transform_window(\n",
    "    rank='rank(IMDB_Rating)',\n",
    "    sort=[alt.SortField('IMDB_Rating', order='descending')]\n",
    ").transform_filter(\n",
    "    (alt.datum.rank < 10)\n",
    ")"
   ]
  }
 ],
 "metadata": {
  "jupytext": {
   "cell_metadata_filter": "-all"
  },
  "kernelspec": {
   "display_name": "Python 3 (ipykernel)",
   "language": "python",
   "name": "python"
  }
 },
 "nbformat": 4,
 "nbformat_minor": 5
}
