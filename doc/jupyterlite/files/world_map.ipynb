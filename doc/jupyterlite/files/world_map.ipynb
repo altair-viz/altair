{
 "cells": [
  {
   "cell_type": "code",
   "execution_count": null,
   "id": "96d5d3bb",
   "metadata": {},
   "outputs": [],
   "source": [
    "# Running this cell is required to get the examples to work in this online\n",
    "# notebook until there is a way to preinstall packages\n",
    "# You have to wait until it has executed before you click to run the next cell\n",
    "import micropip\n",
    "micropip.install(['altair', 'vega_datasets'])"
   ]
  },
  {
   "cell_type": "code",
   "execution_count": null,
   "id": "77320784",
   "metadata": {},
   "outputs": [],
   "source": [
    "\"\"\"\n",
    "World Map\n",
    "---------\n",
    "\n",
    "This example shows how to create a world map using data generators for\n",
    "different background layers.\n",
    "\"\"\"\n",
    "# category: maps\n",
    "\n",
    "import altair as alt\n",
    "from vega_datasets import data\n",
    "\n",
    "# Data generators for the background\n",
    "sphere = alt.sphere()\n",
    "graticule = alt.graticule()\n",
    "\n",
    "# Source of land data\n",
    "source = alt.topo_feature(data.world_110m.url, 'countries')\n",
    "\n",
    "# Layering and configuring the components \n",
    "alt.layer(\n",
    "    alt.Chart(sphere).mark_geoshape(fill='lightblue'), \n",
    "    alt.Chart(graticule).mark_geoshape(stroke='white', strokeWidth=0.5), \n",
    "    alt.Chart(source).mark_geoshape(fill='ForestGreen', stroke='black')\n",
    ").project(\n",
    "    'naturalEarth1'\n",
    ").properties(width=600, height=400).configure_view(stroke=None)"
   ]
  }
 ],
 "metadata": {
  "jupytext": {
   "cell_metadata_filter": "-all"
  },
  "kernelspec": {
   "display_name": "Python 3 (ipykernel)",
   "language": "python",
   "name": "python"
  }
 },
 "nbformat": 4,
 "nbformat_minor": 5
}
