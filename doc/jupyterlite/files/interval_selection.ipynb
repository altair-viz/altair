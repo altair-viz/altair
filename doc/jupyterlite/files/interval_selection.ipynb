{
 "cells": [
  {
   "cell_type": "code",
   "execution_count": null,
   "id": "29ed1729",
   "metadata": {},
   "outputs": [],
   "source": [
    "# Running this cell is required to get the examples to work in this online\n",
    "# notebook until there is a way to preinstall packages\n",
    "# You have to wait until it has executed before you click to run the next cell\n",
    "import micropip\n",
    "micropip.install(['altair', 'vega_datasets'])"
   ]
  },
  {
   "cell_type": "code",
   "execution_count": null,
   "id": "9a2146dc",
   "metadata": {},
   "outputs": [],
   "source": [
    "\"\"\"\n",
    "Interval Selection Example\n",
    "==========================\n",
    "\n",
    "This is an example of creating a stacked chart for which the domain of the\n",
    "top chart can be selected by interacting with the bottom chart.\n",
    "\"\"\"\n",
    "# category: area charts\n",
    "import altair as alt\n",
    "from vega_datasets import data\n",
    "\n",
    "source = data.sp500.url\n",
    "\n",
    "brush = alt.selection(type='interval', encodings=['x'])\n",
    "\n",
    "base = alt.Chart(source).mark_area().encode(\n",
    "    x = 'date:T',\n",
    "    y = 'price:Q'\n",
    ").properties(\n",
    "    width=600,\n",
    "    height=200\n",
    ")\n",
    "\n",
    "upper = base.encode(\n",
    "    alt.X('date:T', scale=alt.Scale(domain=brush))\n",
    ")\n",
    "\n",
    "lower = base.properties(\n",
    "    height=60\n",
    ").add_selection(brush)\n",
    "\n",
    "upper & lower"
   ]
  }
 ],
 "metadata": {
  "jupytext": {
   "cell_metadata_filter": "-all"
  },
  "kernelspec": {
   "display_name": "Python 3 (ipykernel)",
   "language": "python",
   "name": "python"
  }
 },
 "nbformat": 4,
 "nbformat_minor": 5
}
