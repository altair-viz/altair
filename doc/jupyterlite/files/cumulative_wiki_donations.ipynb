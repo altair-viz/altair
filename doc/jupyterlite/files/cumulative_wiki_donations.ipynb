{
 "cells": [
  {
   "cell_type": "code",
   "execution_count": null,
   "id": "572c5044",
   "metadata": {},
   "outputs": [],
   "source": [
    "# Running this cell is required to get the examples to work in this online\n",
    "# notebook until there is a way to preinstall packages\n",
    "# You have to wait until it has executed before you click to run the next cell\n",
    "import micropip\n",
    "micropip.install(['altair', 'vega_datasets'])"
   ]
  },
  {
   "cell_type": "code",
   "execution_count": null,
   "id": "903299f8",
   "metadata": {},
   "outputs": [],
   "source": [
    "\"\"\"\n",
    "Cumulative Wikipedia Donations\n",
    "==============================\n",
    "\n",
    "This chart shows cumulative donations to Wikipedia over the past 10 years. Inspired by this `Reddit post <https://www.reddit.com/r/dataisbeautiful/comments/7guwd0/cumulative_wikimedia_donations_over_the_past_10/>`_ but using lines instead of areas.\n",
    "\"\"\"\n",
    "# category: case studies\n",
    "import altair as alt\n",
    "\n",
    "source = \"https://frdata.wikimedia.org/donationdata-vs-day.csv\"\n",
    "\n",
    "alt.Chart(source).mark_line().encode(\n",
    "    alt.X('monthdate(date):T', title='Month', axis=alt.Axis(format='%B')),\n",
    "    alt.Y('max(ytdsum):Q', title='Cumulative Donations', stack=None),\n",
    "    alt.Color('year(date):O', legend=alt.Legend(title='Year')),\n",
    "    alt.Order('year(data):O')\n",
    ")"
   ]
  }
 ],
 "metadata": {
  "jupytext": {
   "cell_metadata_filter": "-all"
  },
  "kernelspec": {
   "display_name": "Python 3 (ipykernel)",
   "language": "python",
   "name": "python"
  }
 },
 "nbformat": 4,
 "nbformat_minor": 5
}
