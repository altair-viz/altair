{
 "cells": [
  {
   "cell_type": "code",
   "execution_count": null,
   "id": "e1a8e37a",
   "metadata": {},
   "outputs": [],
   "source": [
    "# Running this cell is required to get the examples to work in this online\n",
    "# notebook until there is a way to preinstall packages\n",
    "# You have to wait until it has executed before you click to run the next cell\n",
    "import micropip\n",
    "micropip.install(['altair', 'vega_datasets'])"
   ]
  },
  {
   "cell_type": "code",
   "execution_count": null,
   "id": "0d0e3111",
   "metadata": {},
   "outputs": [],
   "source": [
    "\"\"\"\n",
    "Grouped Bar Chart with xOffset\n",
    "------------------------------\n",
    "Like :ref:`gallery_grouped_bar_chart`, this example shows a grouped bar chart.  Whereas :ref:`gallery_grouped_bar_chart` used the ``column`` encoding channel, this example uses the ``xOffset`` encoding channel.  This is adapted from a corresponding Vega-Lite Example:\n",
    "`Grouped Bar Chart <https://vega.github.io/vega-lite/examples/bar_grouped.html>`_.\n",
    "\"\"\"\n",
    "# category: bar charts\n",
    "import altair as alt\n",
    "import pandas as pd\n",
    "\n",
    "source = pd.DataFrame({\"Category\":list(\"AAABBBCCC\"),\n",
    "                     \"Group\":list(\"xyzxyzxyz\"),\n",
    "                     \"Value\":[0.1, 0.6, 0.9, 0.7, 0.2, 1.1, 0.6, 0.1, 0.2]})\n",
    "\n",
    "alt.Chart(source).mark_bar().encode(\n",
    "    x=\"Category:N\",\n",
    "    y=\"Value:Q\",\n",
    "    xOffset=\"Group:N\",\n",
    "    color=\"Group:N\"\n",
    ")"
   ]
  }
 ],
 "metadata": {
  "jupytext": {
   "cell_metadata_filter": "-all"
  },
  "kernelspec": {
   "display_name": "Python 3 (ipykernel)",
   "language": "python",
   "name": "python"
  }
 },
 "nbformat": 4,
 "nbformat_minor": 5
}
