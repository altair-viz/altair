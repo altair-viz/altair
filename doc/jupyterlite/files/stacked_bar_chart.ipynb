{
 "cells": [
  {
   "cell_type": "code",
   "execution_count": null,
   "id": "8e9666cc",
   "metadata": {},
   "outputs": [],
   "source": [
    "# Running this cell is required to get the examples to work in this online\n",
    "# notebook until there is a way to preinstall packages\n",
    "# You have to wait until it has executed before you click to run the next cell\n",
    "import micropip\n",
    "micropip.install(['altair', 'vega_datasets'])"
   ]
  },
  {
   "cell_type": "code",
   "execution_count": null,
   "id": "d0ca8a9a",
   "metadata": {},
   "outputs": [],
   "source": [
    "\"\"\"\n",
    "Stacked Bar Chart\n",
    "-----------------\n",
    "\n",
    "This is an example of a stacked bar chart using data which contains crop yields over different regions and different years in the 1930s.\n",
    "\"\"\"\n",
    "# category: bar charts\n",
    "import altair as alt\n",
    "from vega_datasets import data\n",
    "\n",
    "source = data.barley()\n",
    "\n",
    "alt.Chart(source).mark_bar().encode(\n",
    "    x='variety',\n",
    "    y='sum(yield)',\n",
    "    color='site'\n",
    ")"
   ]
  }
 ],
 "metadata": {
  "jupytext": {
   "cell_metadata_filter": "-all"
  },
  "kernelspec": {
   "display_name": "Python 3 (ipykernel)",
   "language": "python",
   "name": "python"
  }
 },
 "nbformat": 4,
 "nbformat_minor": 5
}
