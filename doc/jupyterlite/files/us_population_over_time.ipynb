{
 "cells": [
  {
   "cell_type": "code",
   "execution_count": null,
   "id": "e42f3f92",
   "metadata": {},
   "outputs": [],
   "source": [
    "# Running this cell is required to get the examples to work in this online\n",
    "# notebook until there is a way to preinstall packages\n",
    "# You have to wait until it has executed before you click to run the next cell\n",
    "import micropip\n",
    "micropip.install(['altair', 'vega_datasets'])"
   ]
  },
  {
   "cell_type": "code",
   "execution_count": null,
   "id": "e9185e8e",
   "metadata": {},
   "outputs": [],
   "source": [
    "\"\"\"\n",
    "US Population Over Time\n",
    "=======================\n",
    "This chart visualizes the age distribution of the US population over time.\n",
    "It uses a slider widget that is bound to the year to visualize the age\n",
    "distribution over time.\n",
    "\"\"\"\n",
    "# category: case studies\n",
    "import altair as alt\n",
    "from vega_datasets import data\n",
    "\n",
    "source = data.population.url\n",
    "\n",
    "pink_blue = alt.Scale(domain=('Male', 'Female'),\n",
    "                      range=[\"steelblue\", \"salmon\"])\n",
    "\n",
    "slider = alt.binding_range(min=1900, max=2000, step=10)\n",
    "select_year = alt.selection_single(name=\"year\", fields=['year'],\n",
    "                                   bind=slider, init={'year': 2000})\n",
    "\n",
    "alt.Chart(source).mark_bar().encode(\n",
    "    x=alt.X('sex:N', title=None),\n",
    "    y=alt.Y('people:Q', scale=alt.Scale(domain=(0, 12000000))),\n",
    "    color=alt.Color('sex:N', scale=pink_blue),\n",
    "    column='age:O'\n",
    ").properties(\n",
    "    width=20\n",
    ").add_selection(\n",
    "    select_year\n",
    ").transform_calculate(\n",
    "    \"sex\", alt.expr.if_(alt.datum.sex == 1, \"Male\", \"Female\")\n",
    ").transform_filter(\n",
    "    select_year\n",
    ").configure_facet(\n",
    "    spacing=8\n",
    ")"
   ]
  }
 ],
 "metadata": {
  "jupytext": {
   "cell_metadata_filter": "-all"
  },
  "kernelspec": {
   "display_name": "Python 3 (ipykernel)",
   "language": "python",
   "name": "python"
  }
 },
 "nbformat": 4,
 "nbformat_minor": 5
}
