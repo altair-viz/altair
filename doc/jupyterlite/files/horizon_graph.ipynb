{
 "cells": [
  {
   "cell_type": "code",
   "execution_count": null,
   "id": "f4d5c2bb",
   "metadata": {},
   "outputs": [],
   "source": [
    "# Running this cell is required to get the examples to work in this online\n",
    "# notebook until there is a way to preinstall packages\n",
    "# You have to wait until it has executed before you click to run the next cell\n",
    "import micropip\n",
    "micropip.install(['altair', 'vega_datasets'])"
   ]
  },
  {
   "cell_type": "code",
   "execution_count": null,
   "id": "0bf68c27",
   "metadata": {},
   "outputs": [],
   "source": [
    "\"\"\"\n",
    "Horizon Graph\n",
    "-------------\n",
    "This example shows how to make a Horizon Graph with 2 layers. (See https://idl.cs.washington.edu/papers/horizon/ for more details on Horizon Graphs.)\n",
    "\"\"\"\n",
    "# category: area charts\n",
    "import altair as alt\n",
    "import pandas as pd\n",
    "\n",
    "source = pd.DataFrame([\n",
    "    {\"x\": 1,  \"y\": 28}, {\"x\": 2,  \"y\": 55},\n",
    "    {\"x\": 3,  \"y\": 43}, {\"x\": 4,  \"y\": 91},\n",
    "    {\"x\": 5,  \"y\": 81}, {\"x\": 6,  \"y\": 53},\n",
    "    {\"x\": 7,  \"y\": 19}, {\"x\": 8,  \"y\": 87},\n",
    "    {\"x\": 9,  \"y\": 52}, {\"x\": 10, \"y\": 48},\n",
    "    {\"x\": 11, \"y\": 24}, {\"x\": 12, \"y\": 49},\n",
    "    {\"x\": 13, \"y\": 87}, {\"x\": 14, \"y\": 66},\n",
    "    {\"x\": 15, \"y\": 17}, {\"x\": 16, \"y\": 27},\n",
    "    {\"x\": 17, \"y\": 68}, {\"x\": 18, \"y\": 16},\n",
    "    {\"x\": 19, \"y\": 49}, {\"x\": 20, \"y\": 15}\n",
    "])\n",
    "\n",
    "area1 = alt.Chart(source).mark_area(\n",
    "    clip=True,\n",
    "    interpolate='monotone'\n",
    ").encode(\n",
    "    alt.X('x', scale=alt.Scale(zero=False, nice=False)),\n",
    "    alt.Y('y', scale=alt.Scale(domain=[0, 50]), title='y'),\n",
    "    opacity=alt.value(0.6)\n",
    ").properties(\n",
    "    width=500,\n",
    "    height=75\n",
    ")\n",
    "\n",
    "area2 = area1.encode(\n",
    "    alt.Y('ny:Q', scale=alt.Scale(domain=[0, 50]))\n",
    ").transform_calculate(\n",
    "    \"ny\", alt.datum.y - 50\n",
    ")\n",
    "\n",
    "area1 + area2"
   ]
  }
 ],
 "metadata": {
  "jupytext": {
   "cell_metadata_filter": "-all"
  },
  "kernelspec": {
   "display_name": "Python 3 (ipykernel)",
   "language": "python",
   "name": "python"
  }
 },
 "nbformat": 4,
 "nbformat_minor": 5
}
