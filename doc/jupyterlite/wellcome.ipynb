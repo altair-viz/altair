{
 "cells": [
  {
   "cell_type": "markdown",
   "id": "20d4269c-0505-4f49-841e-4810bb8e630c",
   "metadata": {},
   "source": [
    "# Welcome to Altair's interactive example gallery\n",
    "\n",
    "You can play around with any example from the Altair gallery\n",
    "by opening the corresponding notebook from the File menu in the left hand sidebar.\n",
    "\n",
    "This programming environment is called [JupyterLite](https://jupyterlite.readthedocs.io/)\n",
    "and it runs entirely in your web browser.\n",
    "This allows you to explore Altair without having to install anything on your computer!\n",
    "In JupyterLite we always need to execute some boiler plate startup code\n",
    "before we can run our Altair code.\n",
    "Try running the cell below\n",
    "by clicking on it and either clicking the play button on the toolbar above\n",
    "or hitting <kbd>Shift</kbd> + <kbd>Enter</kbd>."
   ]
  },
  {
   "cell_type": "code",
   "execution_count": null,
   "id": "434d4581-7ddf-405d-a05f-4082e1b0f48e",
   "metadata": {},
   "outputs": [],
   "source": [
    "# You have to wait until it has executed before you click to run the next cell\n",
    "import micropip\n",
    "micropip.install(['altair', 'vega_datasets'])"
   ]
  },
  {
   "cell_type": "markdown",
   "id": "5c8c73bd-e90b-4354-bcfd-8d12dc9164d7",
   "metadata": {},
   "source": [
    "Now you can try running the Altair code in the next cell."
   ]
  },
  {
   "cell_type": "code",
   "execution_count": null,
   "id": "d878f631-0075-4e12-85df-4883b92434ad",
   "metadata": {},
   "outputs": [],
   "source": [
    "import altair as alt\n",
    "from vega_datasets import data\n",
    "\n",
    "cars = data.cars()\n",
    "\n",
    "alt.Chart(cars).mark_point().encode(\n",
    "    x='Horsepower',\n",
    "    y='Miles_per_Gallon',\n",
    "    color='Origin',\n",
    "    tooltip='Name'\n",
    ").interactive()"
   ]
  },
  {
   "cell_type": "markdown",
   "id": "5bc9fd00-59e5-40ad-9352-8ab40aae09ff",
   "metadata": {},
   "source": [
    "You can see which version of Altair we are running like so:"
   ]
  },
  {
   "cell_type": "code",
   "execution_count": null,
   "id": "6fd2a34b-cafe-46e5-b84c-569b2fbff2cd",
   "metadata": {},
   "outputs": [],
   "source": [
    "alt.__version__"
   ]
  },
  {
   "cell_type": "markdown",
   "id": "49c79ccc-c2c6-4e62-b084-3fac20f56702",
   "metadata": {},
   "source": [
    "Keep exploring the gallery examples via the left sidebar!"
   ]
  }
 ],
 "metadata": {
  "kernelspec": {
   "display_name": "Pyolite",
   "language": "python",
   "name": "python"
  },
  "language_info": {
   "codemirror_mode": {
    "name": "ipython",
    "version": 3
   },
   "file_extension": ".py",
   "mimetype": "text/x-python",
   "name": "python",
   "nbconvert_exporter": "python",
   "pygments_lexer": "ipython3",
   "version": "3.9.10"
  }
 },
 "nbformat": 4,
 "nbformat_minor": 5
}
