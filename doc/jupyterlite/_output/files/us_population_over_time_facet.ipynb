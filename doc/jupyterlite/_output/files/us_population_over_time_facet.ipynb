{
 "cells": [
  {
   "cell_type": "code",
   "execution_count": null,
   "id": "8190e554",
   "metadata": {},
   "outputs": [],
   "source": [
    "# Running this cell is required to get the examples to work in this online\n",
    "# notebook until there is a way to preinstall packages\n",
    "# You have to wait until it has executed before you click to run the next cell\n",
    "import micropip\n",
    "micropip.install(['altair', 'vega_datasets'])"
   ]
  },
  {
   "cell_type": "code",
   "execution_count": null,
   "id": "c6a42101",
   "metadata": {},
   "outputs": [],
   "source": [
    "\"\"\"\n",
    "US Population: Wrapped Facet\n",
    "============================\n",
    "This chart visualizes the age distribution of the US population over time,\n",
    "using a wrapped faceting of the data by decade.\n",
    "\"\"\"\n",
    "# category: case studies\n",
    "import altair as alt\n",
    "from vega_datasets import data\n",
    "\n",
    "source = data.population.url\n",
    "\n",
    "alt.Chart(source).mark_area().encode(\n",
    "    x='age:O',\n",
    "    y=alt.Y(\n",
    "        'sum(people):Q',\n",
    "        title='Population',\n",
    "        axis=alt.Axis(format='~s')\n",
    "    ),\n",
    "    facet=alt.Facet('year:O', columns=5),\n",
    ").properties(\n",
    "    title='US Age Distribution By Year',\n",
    "    width=90,\n",
    "    height=80\n",
    ")"
   ]
  }
 ],
 "metadata": {
  "jupytext": {
   "cell_metadata_filter": "-all"
  },
  "kernelspec": {
   "display_name": "Python 3 (ipykernel)",
   "language": "python",
   "name": "python"
  }
 },
 "nbformat": 4,
 "nbformat_minor": 5
}
