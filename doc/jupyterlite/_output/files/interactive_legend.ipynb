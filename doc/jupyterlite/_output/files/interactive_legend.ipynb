{
 "cells": [
  {
   "cell_type": "code",
   "execution_count": null,
   "id": "5fcdf63e",
   "metadata": {},
   "outputs": [],
   "source": [
    "# Running this cell is required to get the examples to work in this online\n",
    "# notebook until there is a way to preinstall packages\n",
    "# You have to wait until it has executed before you click to run the next cell\n",
    "import micropip\n",
    "micropip.install(['altair', 'vega_datasets'])"
   ]
  },
  {
   "cell_type": "code",
   "execution_count": null,
   "id": "e92c89e1",
   "metadata": {},
   "outputs": [],
   "source": [
    "\"\"\"\n",
    "Interactive Legend\n",
    "------------------\n",
    "The following shows how to create a chart with an interactive legend, by\n",
    "binding the selection to ``\"legend\"``. Such a binding only works with\n",
    "``selection_single`` or ``selection_multi`` when projected over a single\n",
    "field or encoding.\n",
    "\"\"\"\n",
    "# category: interactive charts\n",
    "import altair as alt\n",
    "from vega_datasets import data\n",
    "\n",
    "source = data.unemployment_across_industries.url\n",
    "\n",
    "selection = alt.selection_multi(fields=['series'], bind='legend')\n",
    "\n",
    "alt.Chart(source).mark_area().encode(\n",
    "    alt.X('yearmonth(date):T', axis=alt.Axis(domain=False, format='%Y', tickSize=0)),\n",
    "    alt.Y('sum(count):Q', stack='center', axis=None),\n",
    "    alt.Color('series:N', scale=alt.Scale(scheme='category20b')),\n",
    "    opacity=alt.condition(selection, alt.value(1), alt.value(0.2))\n",
    ").add_selection(\n",
    "    selection\n",
    ")"
   ]
  }
 ],
 "metadata": {
  "jupytext": {
   "cell_metadata_filter": "-all"
  },
  "kernelspec": {
   "display_name": "Python 3 (ipykernel)",
   "language": "python",
   "name": "python"
  }
 },
 "nbformat": 4,
 "nbformat_minor": 5
}
