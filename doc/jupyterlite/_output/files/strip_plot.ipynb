{
 "cells": [
  {
   "cell_type": "code",
   "execution_count": null,
   "id": "c0ecf32b",
   "metadata": {},
   "outputs": [],
   "source": [
    "# Running this cell is required to get the examples to work in this online\n",
    "# notebook until there is a way to preinstall packages\n",
    "# You have to wait until it has executed before you click to run the next cell\n",
    "import micropip\n",
    "micropip.install(['altair', 'vega_datasets'])"
   ]
  },
  {
   "cell_type": "code",
   "execution_count": null,
   "id": "a055a5c9",
   "metadata": {},
   "outputs": [],
   "source": [
    "\"\"\"\n",
    "Simple Strip Plot\n",
    "-----------------\n",
    "A simple example of how to make a strip plot. \n",
    "\"\"\"\n",
    "# category: simple charts\n",
    "import altair as alt\n",
    "from vega_datasets import data\n",
    "\n",
    "source = data.cars()\n",
    "\n",
    "alt.Chart(source).mark_tick().encode(\n",
    "    x='Horsepower:Q',\n",
    "    y='Cylinders:O'\n",
    ")"
   ]
  }
 ],
 "metadata": {
  "jupytext": {
   "cell_metadata_filter": "-all"
  },
  "kernelspec": {
   "display_name": "Python 3 (ipykernel)",
   "language": "python",
   "name": "python"
  }
 },
 "nbformat": 4,
 "nbformat_minor": 5
}
