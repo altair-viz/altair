{
 "cells": [
  {
   "cell_type": "code",
   "execution_count": null,
   "id": "92ce890e",
   "metadata": {},
   "outputs": [],
   "source": [
    "# Running this cell is required to get the examples to work in this online\n",
    "# notebook until there is a way to preinstall packages\n",
    "# You have to wait until it has executed before you click to run the next cell\n",
    "import micropip\n",
    "micropip.install(['altair', 'vega_datasets'])"
   ]
  },
  {
   "cell_type": "code",
   "execution_count": null,
   "id": "3a95be8f",
   "metadata": {},
   "outputs": [],
   "source": [
    "\"\"\"\n",
    "Interactive Chart with Cross-Highlight\n",
    "======================================\n",
    "This example shows an interactive chart where selections in one portion of\n",
    "the chart affect what is shown in other panels. Click on the bar chart to\n",
    "see a detail of the distribution in the upper panel.\n",
    "\"\"\"\n",
    "# category: interactive charts\n",
    "import altair as alt\n",
    "from vega_datasets import data\n",
    "\n",
    "source = data.movies.url\n",
    "\n",
    "pts = alt.selection(type=\"single\", encodings=['x'])\n",
    "\n",
    "rect = alt.Chart(data.movies.url).mark_rect().encode(\n",
    "    alt.X('IMDB_Rating:Q', bin=True),\n",
    "    alt.Y('Rotten_Tomatoes_Rating:Q', bin=True),\n",
    "    alt.Color('count()',\n",
    "        scale=alt.Scale(scheme='greenblue'),\n",
    "        legend=alt.Legend(title='Total Records')\n",
    "    )\n",
    ")\n",
    "\n",
    "circ = rect.mark_point().encode(\n",
    "    alt.ColorValue('grey'),\n",
    "    alt.Size('count()',\n",
    "        legend=alt.Legend(title='Records in Selection')\n",
    "    )\n",
    ").transform_filter(\n",
    "    pts\n",
    ")\n",
    "\n",
    "bar = alt.Chart(source).mark_bar().encode(\n",
    "    x='Major_Genre:N',\n",
    "    y='count()',\n",
    "    color=alt.condition(pts, alt.ColorValue(\"steelblue\"), alt.ColorValue(\"grey\"))\n",
    ").properties(\n",
    "    width=550,\n",
    "    height=200\n",
    ").add_selection(pts)\n",
    "\n",
    "alt.vconcat(\n",
    "    rect + circ,\n",
    "    bar\n",
    ").resolve_legend(\n",
    "    color=\"independent\",\n",
    "    size=\"independent\"\n",
    ")"
   ]
  }
 ],
 "metadata": {
  "jupytext": {
   "cell_metadata_filter": "-all"
  },
  "kernelspec": {
   "display_name": "Python 3 (ipykernel)",
   "language": "python",
   "name": "python"
  }
 },
 "nbformat": 4,
 "nbformat_minor": 5
}
