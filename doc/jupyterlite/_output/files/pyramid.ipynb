{
 "cells": [
  {
   "cell_type": "code",
   "execution_count": null,
   "id": "e177764e",
   "metadata": {},
   "outputs": [],
   "source": [
    "# Running this cell is required to get the examples to work in this online\n",
    "# notebook until there is a way to preinstall packages\n",
    "# You have to wait until it has executed before you click to run the next cell\n",
    "import micropip\n",
    "micropip.install(['altair', 'vega_datasets'])"
   ]
  },
  {
   "cell_type": "code",
   "execution_count": null,
   "id": "8ab4fbd8",
   "metadata": {},
   "outputs": [],
   "source": [
    "\"\"\"\n",
    "Pyramid Pie Chart\n",
    "-----------------\n",
    "Altair reproduction of http://robslink.com/SAS/democd91/pyramid_pie.htm\n",
    "\"\"\"\n",
    "import altair as alt\n",
    "import pandas as pd\n",
    "\n",
    "category = ['Sky', 'Shady side of a pyramid', 'Sunny side of a pyramid']\n",
    "color = [\"#416D9D\", \"#674028\", \"#DEAC58\"]\n",
    "df = pd.DataFrame({'category': category, 'value': [75, 10, 15]})\n",
    "\n",
    "alt.Chart(df).mark_arc(outerRadius=80).encode(\n",
    "    alt.Theta('value:Q', scale=alt.Scale(range=[2.356, 8.639])),\n",
    "    alt.Color('category:N',\n",
    "        scale=alt.Scale(domain=category, range=color),\n",
    "        legend=alt.Legend(title=None, orient='none', legendX=160, legendY=50)),\n",
    "    order='value:Q'\n",
    ").properties(width=150, height=150).configure_view(strokeOpacity=0)"
   ]
  }
 ],
 "metadata": {
  "jupytext": {
   "cell_metadata_filter": "-all"
  },
  "kernelspec": {
   "display_name": "Python 3 (ipykernel)",
   "language": "python",
   "name": "python"
  }
 },
 "nbformat": 4,
 "nbformat_minor": 5
}
