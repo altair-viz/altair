{
 "cells": [
  {
   "cell_type": "code",
   "execution_count": null,
   "id": "117dd276",
   "metadata": {},
   "outputs": [],
   "source": [
    "# Running this cell is required to get the examples to work in this online\n",
    "# notebook until there is a way to preinstall packages\n",
    "# You have to wait until it has executed before you click to run the next cell\n",
    "import micropip\n",
    "micropip.install(['altair', 'vega_datasets'])"
   ]
  },
  {
   "cell_type": "code",
   "execution_count": null,
   "id": "d3c3e729",
   "metadata": {},
   "outputs": [],
   "source": [
    "\"\"\"\n",
    "Histogram with Responsive Bins\n",
    "------------------------------\n",
    "This shows an example of a histogram with bins that are responsive to a\n",
    "selection domain. Click and drag on the bottom panel to see the bins\n",
    "change on the top panel.\n",
    "\"\"\"\n",
    "# category: histograms\n",
    "import altair as alt\n",
    "from vega_datasets import data\n",
    "\n",
    "source = data.flights_5k.url\n",
    "\n",
    "brush = alt.selection_interval(encodings=['x'])\n",
    "\n",
    "base = alt.Chart(source).transform_calculate(\n",
    "    time=\"hours(datum.date) + minutes(datum.date) / 60\"\n",
    ").mark_bar().encode(\n",
    "    y='count():Q'\n",
    ").properties(\n",
    "    width=600,\n",
    "    height=100\n",
    ")\n",
    "\n",
    "alt.vconcat(\n",
    "  base.encode(\n",
    "    alt.X('time:Q',\n",
    "      bin=alt.Bin(maxbins=30, extent=brush),\n",
    "      scale=alt.Scale(domain=brush)\n",
    "    )\n",
    "  ),\n",
    "  base.encode(\n",
    "    alt.X('time:Q', bin=alt.Bin(maxbins=30)),\n",
    "  ).add_selection(brush)\n",
    ")"
   ]
  }
 ],
 "metadata": {
  "jupytext": {
   "cell_metadata_filter": "-all"
  },
  "kernelspec": {
   "display_name": "Python 3 (ipykernel)",
   "language": "python",
   "name": "python"
  }
 },
 "nbformat": 4,
 "nbformat_minor": 5
}
