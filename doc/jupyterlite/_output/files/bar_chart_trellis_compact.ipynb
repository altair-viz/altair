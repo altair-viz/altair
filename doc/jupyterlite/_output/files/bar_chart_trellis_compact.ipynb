{
 "cells": [
  {
   "cell_type": "code",
   "execution_count": null,
   "id": "4ac8c885",
   "metadata": {},
   "outputs": [],
   "source": [
    "# Running this cell is required to get the examples to work in this online\n",
    "# notebook until there is a way to preinstall packages\n",
    "# You have to wait until it has executed before you click to run the next cell\n",
    "import micropip\n",
    "micropip.install(['altair', 'vega_datasets'])"
   ]
  },
  {
   "cell_type": "code",
   "execution_count": null,
   "id": "85957167",
   "metadata": {},
   "outputs": [],
   "source": [
    "\"\"\"\n",
    "Compact Trellis Grid of Bar Charts\n",
    "==================================\n",
    "This example shows a simple grid of bar charts to compare performance data..\n",
    "\"\"\"\n",
    "# category: bar charts\n",
    "import altair as alt\n",
    "import pandas as pd\n",
    "\n",
    "source = pd.DataFrame(\n",
    "    [\n",
    "        {\"a\": \"a1\", \"b\": \"b1\", \"c\": \"x\", \"p\": \"0.14\"},\n",
    "        {\"a\": \"a1\", \"b\": \"b1\", \"c\": \"y\", \"p\": \"0.60\"},\n",
    "        {\"a\": \"a1\", \"b\": \"b1\", \"c\": \"z\", \"p\": \"0.03\"},\n",
    "        {\"a\": \"a1\", \"b\": \"b2\", \"c\": \"x\", \"p\": \"0.80\"},\n",
    "        {\"a\": \"a1\", \"b\": \"b2\", \"c\": \"y\", \"p\": \"0.38\"},\n",
    "        {\"a\": \"a1\", \"b\": \"b2\", \"c\": \"z\", \"p\": \"0.55\"},\n",
    "        {\"a\": \"a1\", \"b\": \"b3\", \"c\": \"x\", \"p\": \"0.11\"},\n",
    "        {\"a\": \"a1\", \"b\": \"b3\", \"c\": \"y\", \"p\": \"0.58\"},\n",
    "        {\"a\": \"a1\", \"b\": \"b3\", \"c\": \"z\", \"p\": \"0.79\"},\n",
    "        {\"a\": \"a2\", \"b\": \"b1\", \"c\": \"x\", \"p\": \"0.83\"},\n",
    "        {\"a\": \"a2\", \"b\": \"b1\", \"c\": \"y\", \"p\": \"0.87\"},\n",
    "        {\"a\": \"a2\", \"b\": \"b1\", \"c\": \"z\", \"p\": \"0.67\"},\n",
    "        {\"a\": \"a2\", \"b\": \"b2\", \"c\": \"x\", \"p\": \"0.97\"},\n",
    "        {\"a\": \"a2\", \"b\": \"b2\", \"c\": \"y\", \"p\": \"0.84\"},\n",
    "        {\"a\": \"a2\", \"b\": \"b2\", \"c\": \"z\", \"p\": \"0.90\"},\n",
    "        {\"a\": \"a2\", \"b\": \"b3\", \"c\": \"x\", \"p\": \"0.74\"},\n",
    "        {\"a\": \"a2\", \"b\": \"b3\", \"c\": \"y\", \"p\": \"0.64\"},\n",
    "        {\"a\": \"a2\", \"b\": \"b3\", \"c\": \"z\", \"p\": \"0.19\"},\n",
    "        {\"a\": \"a3\", \"b\": \"b1\", \"c\": \"x\", \"p\": \"0.57\"},\n",
    "        {\"a\": \"a3\", \"b\": \"b1\", \"c\": \"y\", \"p\": \"0.35\"},\n",
    "        {\"a\": \"a3\", \"b\": \"b1\", \"c\": \"z\", \"p\": \"0.49\"},\n",
    "        {\"a\": \"a3\", \"b\": \"b2\", \"c\": \"x\", \"p\": \"0.91\"},\n",
    "        {\"a\": \"a3\", \"b\": \"b2\", \"c\": \"y\", \"p\": \"0.38\"},\n",
    "        {\"a\": \"a3\", \"b\": \"b2\", \"c\": \"z\", \"p\": \"0.91\"},\n",
    "        {\"a\": \"a3\", \"b\": \"b3\", \"c\": \"x\", \"p\": \"0.99\"},\n",
    "        {\"a\": \"a3\", \"b\": \"b3\", \"c\": \"y\", \"p\": \"0.80\"},\n",
    "        {\"a\": \"a3\", \"b\": \"b3\", \"c\": \"z\", \"p\": \"0.37\"},\n",
    "    ]\n",
    ")\n",
    "\n",
    "alt.Chart(source, width=60, height=alt.Step(8)).mark_bar().encode(\n",
    "    y=alt.Y(\"c:N\", axis=None),\n",
    "    x=alt.X(\"p:Q\", title=None, axis=alt.Axis(format=\"%\")),\n",
    "    color=alt.Color(\n",
    "        \"c:N\", title=\"settings\", legend=alt.Legend(orient=\"bottom\", titleOrient=\"left\")\n",
    "    ),\n",
    "    row=alt.Row(\"a:N\", title=\"Factor A\", header=alt.Header(labelAngle=0)),\n",
    "    column=alt.Column(\"b:N\", title=\"Factor B\"),\n",
    ")"
   ]
  }
 ],
 "metadata": {
  "jupytext": {
   "cell_metadata_filter": "-all"
  },
  "kernelspec": {
   "display_name": "Python 3 (ipykernel)",
   "language": "python",
   "name": "python"
  }
 },
 "nbformat": 4,
 "nbformat_minor": 5
}
