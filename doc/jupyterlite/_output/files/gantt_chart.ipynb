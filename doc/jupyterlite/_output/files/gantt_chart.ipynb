{
 "cells": [
  {
   "cell_type": "code",
   "execution_count": null,
   "id": "27b16e81",
   "metadata": {},
   "outputs": [],
   "source": [
    "# Running this cell is required to get the examples to work in this online\n",
    "# notebook until there is a way to preinstall packages\n",
    "# You have to wait until it has executed before you click to run the next cell\n",
    "import micropip\n",
    "micropip.install(['altair', 'vega_datasets'])"
   ]
  },
  {
   "cell_type": "code",
   "execution_count": null,
   "id": "4a8581d8",
   "metadata": {},
   "outputs": [],
   "source": [
    "\"\"\"\n",
    "Gantt Chart\n",
    "-----------------\n",
    "This example shows how to make a simple Gantt chart.\n",
    "\"\"\"\n",
    "# category: other charts\n",
    "import altair as alt\n",
    "import pandas as pd\n",
    "\n",
    "source = pd.DataFrame([\n",
    "    {\"task\": \"A\", \"start\": 1, \"end\": 3},\n",
    "    {\"task\": \"B\", \"start\": 3, \"end\": 8},\n",
    "    {\"task\": \"C\", \"start\": 8, \"end\": 10}\n",
    "])\n",
    "\n",
    "alt.Chart(source).mark_bar().encode(\n",
    "    x='start',\n",
    "    x2='end',\n",
    "    y='task'\n",
    ")"
   ]
  }
 ],
 "metadata": {
  "jupytext": {
   "cell_metadata_filter": "-all"
  },
  "kernelspec": {
   "display_name": "Python 3 (ipykernel)",
   "language": "python",
   "name": "python"
  }
 },
 "nbformat": 4,
 "nbformat_minor": 5
}
