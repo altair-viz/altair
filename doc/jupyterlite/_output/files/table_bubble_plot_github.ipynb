{
 "cells": [
  {
   "cell_type": "code",
   "execution_count": null,
   "id": "db7f1fe5",
   "metadata": {},
   "outputs": [],
   "source": [
    "# Running this cell is required to get the examples to work in this online\n",
    "# notebook until there is a way to preinstall packages\n",
    "# You have to wait until it has executed before you click to run the next cell\n",
    "import micropip\n",
    "micropip.install(['altair', 'vega_datasets'])"
   ]
  },
  {
   "cell_type": "code",
   "execution_count": null,
   "id": "71756246",
   "metadata": {},
   "outputs": [],
   "source": [
    "\"\"\"\n",
    "Table Bubble Plot (Github Punch Card)\n",
    "-------------------------------------\n",
    "This example shows github contributions by the day of week and hour of the day.\n",
    "\"\"\"\n",
    "# category: scatter plots\n",
    "import altair as alt\n",
    "from vega_datasets import data\n",
    "\n",
    "source = data.github.url\n",
    "\n",
    "alt.Chart(source).mark_circle().encode(\n",
    "    x='hours(time):O',\n",
    "    y='day(time):O',\n",
    "    size='sum(count):Q'\n",
    ")"
   ]
  }
 ],
 "metadata": {
  "jupytext": {
   "cell_metadata_filter": "-all"
  },
  "kernelspec": {
   "display_name": "Python 3 (ipykernel)",
   "language": "python",
   "name": "python"
  }
 },
 "nbformat": 4,
 "nbformat_minor": 5
}
