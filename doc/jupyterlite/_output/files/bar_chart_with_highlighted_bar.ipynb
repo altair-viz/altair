{
 "cells": [
  {
   "cell_type": "code",
   "execution_count": null,
   "id": "c0a106b3",
   "metadata": {},
   "outputs": [],
   "source": [
    "# Running this cell is required to get the examples to work in this online\n",
    "# notebook until there is a way to preinstall packages\n",
    "# You have to wait until it has executed before you click to run the next cell\n",
    "import micropip\n",
    "micropip.install(['altair', 'vega_datasets'])"
   ]
  },
  {
   "cell_type": "code",
   "execution_count": null,
   "id": "d4c9c2e3",
   "metadata": {},
   "outputs": [],
   "source": [
    "\"\"\"\n",
    "Bar Chart with Highlighted Bar\n",
    "------------------------------\n",
    "This example shows a basic bar chart with a single bar highlighted.\n",
    "\"\"\"\n",
    "# category: bar charts\n",
    "import altair as alt\n",
    "from vega_datasets import data\n",
    "\n",
    "source = data.wheat()\n",
    "\n",
    "alt.Chart(source).mark_bar().encode(\n",
    "    x='year:O',\n",
    "    y=\"wheat:Q\",\n",
    "    # The highlight will be set on the result of a conditional statement\n",
    "    color=alt.condition(\n",
    "        alt.datum.year == 1810,  # If the year is 1810 this test returns True,\n",
    "        alt.value('orange'),     # which sets the bar orange.\n",
    "        alt.value('steelblue')   # And if it's not true it sets the bar steelblue.\n",
    "    )\n",
    ").properties(width=600)"
   ]
  }
 ],
 "metadata": {
  "jupytext": {
   "cell_metadata_filter": "-all"
  },
  "kernelspec": {
   "display_name": "Python 3 (ipykernel)",
   "language": "python",
   "name": "python"
  }
 },
 "nbformat": 4,
 "nbformat_minor": 5
}
