{
 "cells": [
  {
   "cell_type": "code",
   "execution_count": null,
   "id": "962df83e",
   "metadata": {},
   "outputs": [],
   "source": [
    "# Running this cell is required to get the examples to work in this online\n",
    "# notebook until there is a way to preinstall packages\n",
    "# You have to wait until it has executed before you click to run the next cell\n",
    "import micropip\n",
    "micropip.install(['altair', 'vega_datasets'])"
   ]
  },
  {
   "cell_type": "code",
   "execution_count": null,
   "id": "e3b9e274",
   "metadata": {},
   "outputs": [],
   "source": [
    "\"\"\"\n",
    "Scatter Plot with LOESS Lines\n",
    "-----------------------------\n",
    "This example shows how to add a trend line to a scatter plot using \n",
    "the LOESS transform (LOcally Estimated Scatterplot Smoothing).\n",
    "\"\"\"\n",
    "# category: scatter plots\n",
    "\n",
    "import altair as alt\n",
    "import pandas as pd\n",
    "import numpy as np\n",
    "\n",
    "np.random.seed(1)\n",
    "\n",
    "source = pd.DataFrame({\n",
    "    'x': np.arange(100),\n",
    "    'A': np.random.randn(100).cumsum(),\n",
    "    'B': np.random.randn(100).cumsum(),\n",
    "    'C': np.random.randn(100).cumsum(),\n",
    "})\n",
    "\n",
    "base = alt.Chart(source).mark_circle(opacity=0.5).transform_fold(\n",
    "    fold=['A', 'B', 'C'], \n",
    "    as_=['category', 'y']\n",
    ").encode(\n",
    "    alt.X('x:Q'), \n",
    "    alt.Y('y:Q'), \n",
    "    alt.Color('category:N')\n",
    ")\n",
    "\n",
    "base + base.transform_loess('x', 'y', groupby=['category']).mark_line(size=4)"
   ]
  }
 ],
 "metadata": {
  "jupytext": {
   "cell_metadata_filter": "-all"
  },
  "kernelspec": {
   "display_name": "Python 3 (ipykernel)",
   "language": "python",
   "name": "python"
  }
 },
 "nbformat": 4,
 "nbformat_minor": 5
}
