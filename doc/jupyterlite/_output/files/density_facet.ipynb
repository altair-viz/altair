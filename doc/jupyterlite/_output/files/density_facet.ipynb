{
 "cells": [
  {
   "cell_type": "code",
   "execution_count": null,
   "id": "042d638d",
   "metadata": {},
   "outputs": [],
   "source": [
    "# Running this cell is required to get the examples to work in this online\n",
    "# notebook until there is a way to preinstall packages\n",
    "# You have to wait until it has executed before you click to run the next cell\n",
    "import micropip\n",
    "micropip.install(['altair', 'vega_datasets'])"
   ]
  },
  {
   "cell_type": "code",
   "execution_count": null,
   "id": "6f3a51b5",
   "metadata": {},
   "outputs": [],
   "source": [
    "\"\"\"\n",
    "Faceted Density Estimates\n",
    "-------------------------\n",
    "Density estimates of measurements for each iris flower feature\n",
    "\"\"\"\n",
    "# category: area charts\n",
    "\n",
    "import altair as alt\n",
    "from vega_datasets import data\n",
    "\n",
    "source = data.iris()\n",
    "\n",
    "alt.Chart(source).transform_fold(\n",
    "    ['petalWidth', \n",
    "     'petalLength', \n",
    "     'sepalWidth', \n",
    "     'sepalLength'], \n",
    "    as_ = ['Measurement_type', 'value']\n",
    ").transform_density(\n",
    "    density='value', \n",
    "    bandwidth=0.3, \n",
    "    groupby=['Measurement_type'], \n",
    "    extent= [0, 8]\n",
    ").mark_area().encode(\n",
    "    alt.X('value:Q'), \n",
    "    alt.Y('density:Q'),\n",
    "    alt.Row('Measurement_type:N')\n",
    ").properties(width=300, height=50)"
   ]
  }
 ],
 "metadata": {
  "jupytext": {
   "cell_metadata_filter": "-all"
  },
  "kernelspec": {
   "display_name": "Python 3 (ipykernel)",
   "language": "python",
   "name": "python"
  }
 },
 "nbformat": 4,
 "nbformat_minor": 5
}
