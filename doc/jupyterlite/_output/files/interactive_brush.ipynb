{
 "cells": [
  {
   "cell_type": "code",
   "execution_count": null,
   "id": "c895e01a",
   "metadata": {},
   "outputs": [],
   "source": [
    "# Running this cell is required to get the examples to work in this online\n",
    "# notebook until there is a way to preinstall packages\n",
    "# You have to wait until it has executed before you click to run the next cell\n",
    "import micropip\n",
    "micropip.install(['altair', 'vega_datasets'])"
   ]
  },
  {
   "cell_type": "code",
   "execution_count": null,
   "id": "b55702ef",
   "metadata": {},
   "outputs": [],
   "source": [
    "\"\"\"\n",
    "Interactive Rectangular Brush\n",
    "=============================\n",
    "This example shows how to add a simple rectangular brush to a scatter plot.\n",
    "By clicking and dragging on the plot, you can highlight points within the\n",
    "range.\n",
    "\"\"\"\n",
    "# category: interactive charts\n",
    "import altair as alt\n",
    "from vega_datasets import data\n",
    "\n",
    "source = data.cars()\n",
    "brush = alt.selection(type='interval')\n",
    "\n",
    "alt.Chart(source).mark_point().encode(\n",
    "    x='Horsepower:Q',\n",
    "    y='Miles_per_Gallon:Q',\n",
    "    color=alt.condition(brush, 'Cylinders:O', alt.value('grey')),\n",
    ").add_selection(brush)"
   ]
  }
 ],
 "metadata": {
  "jupytext": {
   "cell_metadata_filter": "-all"
  },
  "kernelspec": {
   "display_name": "Python 3 (ipykernel)",
   "language": "python",
   "name": "python"
  }
 },
 "nbformat": 4,
 "nbformat_minor": 5
}
