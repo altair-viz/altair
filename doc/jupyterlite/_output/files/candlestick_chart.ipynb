{
 "cells": [
  {
   "cell_type": "code",
   "execution_count": null,
   "id": "2c010a35",
   "metadata": {},
   "outputs": [],
   "source": [
    "# Running this cell is required to get the examples to work in this online\n",
    "# notebook until there is a way to preinstall packages\n",
    "# You have to wait until it has executed before you click to run the next cell\n",
    "import micropip\n",
    "micropip.install(['altair', 'vega_datasets'])"
   ]
  },
  {
   "cell_type": "code",
   "execution_count": null,
   "id": "170576db",
   "metadata": {},
   "outputs": [],
   "source": [
    "\"\"\"\n",
    "Candlestick Chart\n",
    "=================\n",
    "A candlestick chart inspired from `Protovis <http://mbostock.github.io/protovis/ex/candlestick.html>`_. \n",
    "This example shows the performance of the Chicago Board Options Exchange `Volatility Index <https://en.wikipedia.org/wiki/VIX>`_ (VIX) \n",
    "in the summer of 2009. The thick bar represents the opening and closing prices, \n",
    "while the thin bar shows intraday high and low prices; if the index closed higher on a given day, the bars are colored green rather than red.\n",
    "\"\"\"\n",
    "# category: other charts\n",
    "import altair as alt\n",
    "from vega_datasets import data\n",
    "\n",
    "source = data.ohlc()\n",
    "\n",
    "open_close_color = alt.condition(\"datum.open <= datum.close\",\n",
    "                                 alt.value(\"#06982d\"),\n",
    "                                 alt.value(\"#ae1325\"))\n",
    "\n",
    "base = alt.Chart(source).encode(\n",
    "    alt.X('date:T',\n",
    "          axis=alt.Axis(\n",
    "              format='%m/%d', \n",
    "              labelAngle=-45, \n",
    "              title='Date in 2009'\n",
    "          )\n",
    "    ),\n",
    "    color=open_close_color\n",
    ")\n",
    "\n",
    "rule = base.mark_rule().encode(\n",
    "    alt.Y(\n",
    "        'low:Q',\n",
    "        title='Price',\n",
    "        scale=alt.Scale(zero=False),\n",
    "    ),\n",
    "    alt.Y2('high:Q')\n",
    ")\n",
    "\n",
    "bar = base.mark_bar().encode(\n",
    "    alt.Y('open:Q'),\n",
    "    alt.Y2('close:Q')\n",
    ")\n",
    "\n",
    "rule + bar"
   ]
  }
 ],
 "metadata": {
  "jupytext": {
   "cell_metadata_filter": "-all"
  },
  "kernelspec": {
   "display_name": "Python 3 (ipykernel)",
   "language": "python",
   "name": "python"
  }
 },
 "nbformat": 4,
 "nbformat_minor": 5
}
