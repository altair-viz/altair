{
 "cells": [
  {
   "cell_type": "code",
   "execution_count": null,
   "id": "edac8f31",
   "metadata": {},
   "outputs": [],
   "source": [
    "# Running this cell is required to get the examples to work in this online\n",
    "# notebook until there is a way to preinstall packages\n",
    "# You have to wait until it has executed before you click to run the next cell\n",
    "import micropip\n",
    "micropip.install(['altair', 'vega_datasets'])"
   ]
  },
  {
   "cell_type": "code",
   "execution_count": null,
   "id": "f67d0212",
   "metadata": {},
   "outputs": [],
   "source": [
    "\"\"\"\n",
    "Window Rank Line Chart\n",
    "----------------------\n",
    "This example shows the Group F rankings in the 2018 World Cup after each matchday. \n",
    "A window transformation is used to rank each after each match day, sorting by points and difference.\n",
    "\"\"\"\n",
    "# category: case studies\n",
    "import altair as alt\n",
    "import pandas as pd\n",
    "\n",
    "source = pd.DataFrame(\n",
    "    [\n",
    "        {\"team\": \"Germany\", \"matchday\": 1, \"point\": 0, \"diff\": -1},\n",
    "        {\"team\": \"Germany\", \"matchday\": 2, \"point\": 3, \"diff\": 0},\n",
    "        {\"team\": \"Germany\", \"matchday\": 3, \"point\": 3, \"diff\": -2},\n",
    "        {\"team\": \"Mexico\", \"matchday\": 1, \"point\": 3, \"diff\": 1},\n",
    "        {\"team\": \"Mexico\", \"matchday\": 2, \"point\": 6, \"diff\": 2},\n",
    "        {\"team\": \"Mexico\", \"matchday\": 3, \"point\": 6, \"diff\": -1},\n",
    "        {\"team\": \"South Korea\", \"matchday\": 1, \"point\": 0, \"diff\": -1},\n",
    "        {\"team\": \"South Korea\", \"matchday\": 2, \"point\": 0, \"diff\": -2},\n",
    "        {\"team\": \"South Korea\", \"matchday\": 3, \"point\": 3, \"diff\": 0},\n",
    "        {\"team\": \"Sweden\", \"matchday\": 1, \"point\": 3, \"diff\": 1},\n",
    "        {\"team\": \"Sweden\", \"matchday\": 2, \"point\": 3, \"diff\": 0},\n",
    "        {\"team\": \"Sweden\", \"matchday\": 3, \"point\": 6, \"diff\": 3},\n",
    "    ]\n",
    ")\n",
    "\n",
    "color_scale = alt.Scale(\n",
    "    domain=[\"Germany\", \"Mexico\", \"South Korea\", \"Sweden\"],\n",
    "    range=[\"#000000\", \"#127153\", \"#C91A3C\", \"#0C71AB\"],\n",
    ")\n",
    "\n",
    "alt.Chart(source).mark_line().encode(\n",
    "    x=\"matchday:O\", y=\"rank:O\", color=alt.Color(\"team:N\", scale=color_scale)\n",
    ").transform_window(\n",
    "    rank=\"rank()\",\n",
    "    sort=[\n",
    "        alt.SortField(\"point\", order=\"descending\"),\n",
    "        alt.SortField(\"diff\", order=\"descending\"),\n",
    "    ],\n",
    "    groupby=[\"matchday\"],\n",
    ").properties(title=\"World Cup 2018: Group F Rankings\")"
   ]
  }
 ],
 "metadata": {
  "jupytext": {
   "cell_metadata_filter": "-all"
  },
  "kernelspec": {
   "display_name": "Python 3 (ipykernel)",
   "language": "python",
   "name": "python"
  }
 },
 "nbformat": 4,
 "nbformat_minor": 5
}
