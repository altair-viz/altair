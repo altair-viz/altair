{
 "cells": [
  {
   "cell_type": "code",
   "execution_count": null,
   "id": "c69ff022",
   "metadata": {},
   "outputs": [],
   "source": [
    "# Running this cell is required to get the examples to work in this online\n",
    "# notebook until there is a way to preinstall packages\n",
    "# You have to wait until it has executed before you click to run the next cell\n",
    "import micropip\n",
    "micropip.install(['altair', 'vega_datasets'])"
   ]
  },
  {
   "cell_type": "code",
   "execution_count": null,
   "id": "675cbfb5",
   "metadata": {},
   "outputs": [],
   "source": [
    "\"\"\"\n",
    "Hexbin Chart\n",
    "-----------------\n",
    "This example shows a hexbin chart.\n",
    "\"\"\"\n",
    "import altair as alt\n",
    "from vega_datasets import data\n",
    "\n",
    "source = data.seattle_weather()\n",
    "\n",
    "# Size of the hexbins\n",
    "size = 15\n",
    "# Count of distinct x features\n",
    "xFeaturesCount = 12\n",
    "# Count of distinct y features\n",
    "yFeaturesCount = 7\n",
    "# Name of the x field\n",
    "xField = 'date'\n",
    "# Name of the y field\n",
    "yField = 'date'\n",
    "\n",
    "# the shape of a hexagon\n",
    "hexagon = \"M0,-2.3094010768L2,-1.1547005384 2,1.1547005384 0,2.3094010768 -2,1.1547005384 -2,-1.1547005384Z\"\n",
    "\n",
    "alt.Chart(source).mark_point(size=size**2, shape=hexagon).encode(\n",
    "    x=alt.X('xFeaturePos:Q', axis=alt.Axis(title='Month',\n",
    "                                           grid=False, tickOpacity=0, domainOpacity=0)),\n",
    "    y=alt.Y('day(' + yField + '):O', axis=alt.Axis(title='Weekday',\n",
    "                                                   labelPadding=20, tickOpacity=0, domainOpacity=0)),\n",
    "    stroke=alt.value('black'),\n",
    "    strokeWidth=alt.value(0.2),\n",
    "    fill=alt.Color('mean(temp_max):Q', scale=alt.Scale(scheme='darkblue')),\n",
    "    tooltip=['month(' + xField + '):O', 'day(' + yField + '):O', 'mean(temp_max):Q']\n",
    ").transform_calculate(\n",
    "    # This field is required for the hexagonal X-Offset\n",
    "    xFeaturePos='(day(datum.' + yField + ') % 2) / 2 + month(datum.' + xField + ')'\n",
    ").properties(\n",
    "    # Exact scaling factors to make the hexbins fit\n",
    "    width=size * xFeaturesCount * 2,\n",
    "    height=size * yFeaturesCount * 1.7320508076,  # 1.7320508076 is approx. sin(60°)*2\n",
    ").configure_view(\n",
    "    strokeWidth=0\n",
    ")"
   ]
  }
 ],
 "metadata": {
  "jupytext": {
   "cell_metadata_filter": "-all"
  },
  "kernelspec": {
   "display_name": "Python 3 (ipykernel)",
   "language": "python",
   "name": "python"
  }
 },
 "nbformat": 4,
 "nbformat_minor": 5
}
