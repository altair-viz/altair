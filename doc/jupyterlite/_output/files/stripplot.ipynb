{
 "cells": [
  {
   "cell_type": "code",
   "execution_count": null,
   "id": "9e0359df",
   "metadata": {},
   "outputs": [],
   "source": [
    "# Running this cell is required to get the examples to work in this online\n",
    "# notebook until there is a way to preinstall packages\n",
    "# You have to wait until it has executed before you click to run the next cell\n",
    "import micropip\n",
    "micropip.install(['altair', 'vega_datasets'])"
   ]
  },
  {
   "cell_type": "code",
   "execution_count": null,
   "id": "27bab372",
   "metadata": {},
   "outputs": [],
   "source": [
    "\"\"\"\n",
    "Stripplot\n",
    "---------\n",
    "This example shows how to make a Stripplot.\n",
    "\"\"\"\n",
    "# category: scatter plots\n",
    "import altair as alt\n",
    "from vega_datasets import data\n",
    "\n",
    "source = data.movies.url\n",
    "\n",
    "stripplot =  alt.Chart(source, width=40).mark_circle(size=8).encode(\n",
    "    x=alt.X(\n",
    "        'jitter:Q',\n",
    "        title=None,\n",
    "        axis=alt.Axis(values=[0], ticks=True, grid=False, labels=False),\n",
    "        scale=alt.Scale(),\n",
    "    ),\n",
    "    y=alt.Y('IMDB_Rating:Q'),\n",
    "    color=alt.Color('Major_Genre:N', legend=None),\n",
    "    column=alt.Column(\n",
    "        'Major_Genre:N',\n",
    "        header=alt.Header(\n",
    "            labelAngle=-90,\n",
    "            titleOrient='top',\n",
    "            labelOrient='bottom',\n",
    "            labelAlign='right',\n",
    "            labelPadding=3,\n",
    "        ),\n",
    "    ),\n",
    ").transform_calculate(\n",
    "    # Generate Gaussian jitter with a Box-Muller transform\n",
    "    jitter='sqrt(-2*log(random()))*cos(2*PI*random())'\n",
    ").configure_facet(\n",
    "    spacing=0\n",
    ").configure_view(\n",
    "    stroke=None\n",
    ")\n",
    "\n",
    "stripplot"
   ]
  }
 ],
 "metadata": {
  "jupytext": {
   "cell_metadata_filter": "-all"
  },
  "kernelspec": {
   "display_name": "Python 3 (ipykernel)",
   "language": "python",
   "name": "python"
  }
 },
 "nbformat": 4,
 "nbformat_minor": 5
}
