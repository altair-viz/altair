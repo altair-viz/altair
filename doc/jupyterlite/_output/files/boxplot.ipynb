{
 "cells": [
  {
   "cell_type": "code",
   "execution_count": null,
   "id": "4dc78a07",
   "metadata": {},
   "outputs": [],
   "source": [
    "# Running this cell is required to get the examples to work in this online\n",
    "# notebook until there is a way to preinstall packages\n",
    "# You have to wait until it has executed before you click to run the next cell\n",
    "import micropip\n",
    "micropip.install(['altair', 'vega_datasets'])"
   ]
  },
  {
   "cell_type": "code",
   "execution_count": null,
   "id": "00f35613",
   "metadata": {},
   "outputs": [],
   "source": [
    "\"\"\"\n",
    "Boxplot with Min/Max Whiskers\n",
    "------------------------------\n",
    "This example shows how to make a boxplot using US Population data from 2000.  \n",
    "Note that the default value of the `extent` property is 1.5,\n",
    "which represents the convention of extending the whiskers\n",
    "to the furthest points within 1.5 * IQR from the first and third quartile.\n",
    "\"\"\"\n",
    "# category: other charts\n",
    "import altair as alt\n",
    "from vega_datasets import data\n",
    "\n",
    "source = data.population.url\n",
    "\n",
    "alt.Chart(source).mark_boxplot(extent='min-max').encode(\n",
    "    x='age:O',\n",
    "    y='people:Q'\n",
    ")"
   ]
  }
 ],
 "metadata": {
  "jupytext": {
   "cell_metadata_filter": "-all"
  },
  "kernelspec": {
   "display_name": "Python 3 (ipykernel)",
   "language": "python",
   "name": "python"
  }
 },
 "nbformat": 4,
 "nbformat_minor": 5
}
