{
 "cells": [
  {
   "cell_type": "code",
   "execution_count": null,
   "id": "4f42ed2b",
   "metadata": {},
   "outputs": [],
   "source": [
    "# Running this cell is required to get the examples to work in this online\n",
    "# notebook until there is a way to preinstall packages\n",
    "# You have to wait until it has executed before you click to run the next cell\n",
    "import micropip\n",
    "micropip.install(['altair', 'vega_datasets'])"
   ]
  },
  {
   "cell_type": "code",
   "execution_count": null,
   "id": "f41838df",
   "metadata": {},
   "outputs": [],
   "source": [
    "\"\"\"\n",
    "Bump Chart\n",
    "----------\n",
    "This example shows a bump chart.  The data is first grouped into six-month\n",
    "intervals using pandas. The ranks are computed by Altair using a \n",
    "window transform.\n",
    "\"\"\"\n",
    "# category: line charts\n",
    "\n",
    "import altair as alt\n",
    "from vega_datasets import data\n",
    "import pandas as pd\n",
    "\n",
    "stocks = data.stocks()\n",
    "source = stocks.groupby([pd.Grouper(key=\"date\", freq=\"6M\"),\"symbol\"]).mean().reset_index()\n",
    "\n",
    "alt.Chart(source).mark_line(point = True).encode(\n",
    "    x = alt.X(\"date:O\", timeUnit=\"yearmonth\", title=\"date\"),\n",
    "    y=\"rank:O\",\n",
    "    color=alt.Color(\"symbol:N\")\n",
    ").transform_window(\n",
    "    rank=\"rank()\",\n",
    "    sort=[alt.SortField(\"price\", order=\"descending\")],\n",
    "    groupby=[\"date\"]\n",
    ").properties(\n",
    "    title=\"Bump Chart for Stock Prices\",\n",
    "    width=600,\n",
    "    height=150,\n",
    ")"
   ]
  }
 ],
 "metadata": {
  "jupytext": {
   "cell_metadata_filter": "-all"
  },
  "kernelspec": {
   "display_name": "Python 3 (ipykernel)",
   "language": "python",
   "name": "python"
  }
 },
 "nbformat": 4,
 "nbformat_minor": 5
}
