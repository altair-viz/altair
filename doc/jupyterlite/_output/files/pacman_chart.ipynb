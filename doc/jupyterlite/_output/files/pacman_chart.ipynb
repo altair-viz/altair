{
 "cells": [
  {
   "cell_type": "code",
   "execution_count": null,
   "id": "c6ae208f",
   "metadata": {},
   "outputs": [],
   "source": [
    "# Running this cell is required to get the examples to work in this online\n",
    "# notebook until there is a way to preinstall packages\n",
    "# You have to wait until it has executed before you click to run the next cell\n",
    "import micropip\n",
    "micropip.install(['altair', 'vega_datasets'])"
   ]
  },
  {
   "cell_type": "code",
   "execution_count": null,
   "id": "1d18faca",
   "metadata": {},
   "outputs": [],
   "source": [
    "\"\"\"\n",
    "Pacman Chart\n",
    "------------\n",
    "Chart made using ``mark_arc`` and constant values.\n",
    "This could also be made using \n",
    "``alt.Chart(source).mark_arc(color = \"gold\", theta = (5/8)*np.pi, theta2 = (19/8)*np.pi,radius=100)``.\n",
    "\"\"\"\n",
    "# category: circular plots\n",
    "\n",
    "import numpy as np\n",
    "import altair as alt\n",
    "\n",
    "alt.Chart().mark_arc(color=\"gold\").encode(\n",
    "    theta=alt.datum((5 / 8) * np.pi, scale=None),\n",
    "    theta2=alt.datum((19 / 8) * np.pi),\n",
    "    radius=alt.datum(100, scale=None),\n",
    ")"
   ]
  }
 ],
 "metadata": {
  "jupytext": {
   "cell_metadata_filter": "-all"
  },
  "kernelspec": {
   "display_name": "Python 3 (ipykernel)",
   "language": "python",
   "name": "python"
  }
 },
 "nbformat": 4,
 "nbformat_minor": 5
}
