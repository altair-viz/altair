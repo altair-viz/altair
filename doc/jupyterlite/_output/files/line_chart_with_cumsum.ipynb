{
 "cells": [
  {
   "cell_type": "code",
   "execution_count": null,
   "id": "cd7546a3",
   "metadata": {},
   "outputs": [],
   "source": [
    "# Running this cell is required to get the examples to work in this online\n",
    "# notebook until there is a way to preinstall packages\n",
    "# You have to wait until it has executed before you click to run the next cell\n",
    "import micropip\n",
    "micropip.install(['altair', 'vega_datasets'])"
   ]
  },
  {
   "cell_type": "code",
   "execution_count": null,
   "id": "4afe4382",
   "metadata": {},
   "outputs": [],
   "source": [
    "\"\"\"\n",
    "Line Chart with Cumulative Sum\n",
    "------------------------------\n",
    "This chart creates a simple line chart from the cumulative sum of a fields.\n",
    "\"\"\"\n",
    "# category: line charts\n",
    "import altair as alt\n",
    "from vega_datasets import data\n",
    "\n",
    "source = data.wheat()\n",
    "\n",
    "alt.Chart(source).mark_line().transform_window(\n",
    "    # Sort the data chronologically\n",
    "    sort=[{'field': 'year'}],\n",
    "    # Include all previous records before the current record and none after\n",
    "    # (This is the default value so you could skip it and it would still work.)\n",
    "    frame=[None, 0],\n",
    "    # What to add up as you go\n",
    "    cumulative_wheat='sum(wheat)'\n",
    ").encode(\n",
    "    x='year:O',\n",
    "    # Plot the calculated field created by the transformation\n",
    "    y='cumulative_wheat:Q'\n",
    ").properties(width=600)"
   ]
  }
 ],
 "metadata": {
  "jupytext": {
   "cell_metadata_filter": "-all"
  },
  "kernelspec": {
   "display_name": "Python 3 (ipykernel)",
   "language": "python",
   "name": "python"
  }
 },
 "nbformat": 4,
 "nbformat_minor": 5
}
