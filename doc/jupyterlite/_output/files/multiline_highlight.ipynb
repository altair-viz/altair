{
 "cells": [
  {
   "cell_type": "code",
   "execution_count": null,
   "id": "51d5b73a",
   "metadata": {},
   "outputs": [],
   "source": [
    "# Running this cell is required to get the examples to work in this online\n",
    "# notebook until there is a way to preinstall packages\n",
    "# You have to wait until it has executed before you click to run the next cell\n",
    "import micropip\n",
    "micropip.install(['altair', 'vega_datasets'])"
   ]
  },
  {
   "cell_type": "code",
   "execution_count": null,
   "id": "9dc2b624",
   "metadata": {},
   "outputs": [],
   "source": [
    "\"\"\"\n",
    "Multi-Line Highlight\n",
    "====================\n",
    "This multi-line chart uses an invisible Voronoi tessellation to handle mouseover to\n",
    "identify the nearest point and then highlight the line on which the point falls.\n",
    "It is adapted from the Vega-Lite example found at\n",
    "https://bl.ocks.org/amitkaps/fe4238e716db53930b2f1a70d3401701\n",
    "\"\"\"\n",
    "# category: interactive charts\n",
    "import altair as alt\n",
    "from vega_datasets import data\n",
    "\n",
    "source = data.stocks()\n",
    "\n",
    "highlight = alt.selection(type='single', on='mouseover',\n",
    "                          fields=['symbol'], nearest=True)\n",
    "\n",
    "base = alt.Chart(source).encode(\n",
    "    x='date:T',\n",
    "    y='price:Q',\n",
    "    color='symbol:N'\n",
    ")\n",
    "\n",
    "points = base.mark_circle().encode(\n",
    "    opacity=alt.value(0)\n",
    ").add_selection(\n",
    "    highlight\n",
    ").properties(\n",
    "    width=600\n",
    ")\n",
    "\n",
    "lines = base.mark_line().encode(\n",
    "    size=alt.condition(~highlight, alt.value(1), alt.value(3))\n",
    ")\n",
    "\n",
    "points + lines"
   ]
  }
 ],
 "metadata": {
  "jupytext": {
   "cell_metadata_filter": "-all"
  },
  "kernelspec": {
   "display_name": "Python 3 (ipykernel)",
   "language": "python",
   "name": "python"
  }
 },
 "nbformat": 4,
 "nbformat_minor": 5
}
