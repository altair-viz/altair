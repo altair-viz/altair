{
 "cells": [
  {
   "cell_type": "code",
   "execution_count": null,
   "id": "caee913b",
   "metadata": {},
   "outputs": [],
   "source": [
    "# Running this cell is required to get the examples to work in this online\n",
    "# notebook until there is a way to preinstall packages\n",
    "# You have to wait until it has executed before you click to run the next cell\n",
    "import micropip\n",
    "micropip.install(['altair', 'vega_datasets'])"
   ]
  },
  {
   "cell_type": "code",
   "execution_count": null,
   "id": "e1dee815",
   "metadata": {},
   "outputs": [],
   "source": [
    "\"\"\"\n",
    "Slider Cutoff\n",
    "=============\n",
    "This example shows how to bind a variable parameter to a slider, and how to use the corresponding bound value to color data points.  This example is based on an example from the Altair 4 documentation for Interactions, in which the  interactivity was accomplished using a selection.  The version below has been simplified significantly through the use of a variable parameter.  Variable parameters were added in Altair 5.\n",
    "\"\"\"\n",
    "# category: interactive charts\n",
    "import altair as alt\n",
    "import pandas as pd\n",
    "import numpy as np\n",
    "\n",
    "rand = np.random.RandomState(42)\n",
    "\n",
    "df = pd.DataFrame({\n",
    "    'xval': range(100),\n",
    "    'yval': rand.randn(100).cumsum()\n",
    "})\n",
    "\n",
    "slider = alt.binding_range(min=0, max=100, step=1)\n",
    "cutoff = alt.parameter(bind=slider, value=50)\n",
    "\n",
    "alt.Chart(df).mark_point().encode(\n",
    "    x='xval',\n",
    "    y='yval',\n",
    "    color=alt.condition(\n",
    "        alt.datum.xval < cutoff,\n",
    "        alt.value('red'), alt.value('blue')\n",
    "    )\n",
    ").add_parameter(\n",
    "    cutoff\n",
    ")"
   ]
  }
 ],
 "metadata": {
  "jupytext": {
   "cell_metadata_filter": "-all"
  },
  "kernelspec": {
   "display_name": "Python 3 (ipykernel)",
   "language": "python",
   "name": "python"
  }
 },
 "nbformat": 4,
 "nbformat_minor": 5
}
