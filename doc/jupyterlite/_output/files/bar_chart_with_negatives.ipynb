{
 "cells": [
  {
   "cell_type": "code",
   "execution_count": null,
   "id": "12f357e6",
   "metadata": {},
   "outputs": [],
   "source": [
    "# Running this cell is required to get the examples to work in this online\n",
    "# notebook until there is a way to preinstall packages\n",
    "# You have to wait until it has executed before you click to run the next cell\n",
    "import micropip\n",
    "micropip.install(['altair', 'vega_datasets'])"
   ]
  },
  {
   "cell_type": "code",
   "execution_count": null,
   "id": "da9b466b",
   "metadata": {},
   "outputs": [],
   "source": [
    "\"\"\"\n",
    "Bar Chart with Negative Values\n",
    "==============================\n",
    "This example shows a bar chart with both positive and negative values.\n",
    "\"\"\"\n",
    "# category: bar charts\n",
    "import altair as alt\n",
    "from vega_datasets import data\n",
    "\n",
    "source = data.us_employment()\n",
    "\n",
    "alt.Chart(source).mark_bar().encode(\n",
    "    x=\"month:T\",\n",
    "    y=\"nonfarm_change:Q\",\n",
    "    color=alt.condition(\n",
    "        alt.datum.nonfarm_change > 0,\n",
    "        alt.value(\"steelblue\"),  # The positive color\n",
    "        alt.value(\"orange\")  # The negative color\n",
    "    )\n",
    ").properties(width=600)"
   ]
  }
 ],
 "metadata": {
  "jupytext": {
   "cell_metadata_filter": "-all"
  },
  "kernelspec": {
   "display_name": "Python 3 (ipykernel)",
   "language": "python",
   "name": "python"
  }
 },
 "nbformat": 4,
 "nbformat_minor": 5
}
