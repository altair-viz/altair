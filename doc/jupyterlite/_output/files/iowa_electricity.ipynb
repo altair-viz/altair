{
 "cells": [
  {
   "cell_type": "code",
   "execution_count": null,
   "id": "6c746af3",
   "metadata": {},
   "outputs": [],
   "source": [
    "# Running this cell is required to get the examples to work in this online\n",
    "# notebook until there is a way to preinstall packages\n",
    "# You have to wait until it has executed before you click to run the next cell\n",
    "import micropip\n",
    "micropip.install(['altair', 'vega_datasets'])"
   ]
  },
  {
   "cell_type": "code",
   "execution_count": null,
   "id": "177496e9",
   "metadata": {},
   "outputs": [],
   "source": [
    "\"\"\"\n",
    "Iowa's renewable energy boom\n",
    "----------------------------\n",
    "This example is a fully developed stacked chart using the sample dataset of Iowa's electricity sources.\n",
    "\"\"\"\n",
    "# category: case studies\n",
    "import altair as alt\n",
    "from vega_datasets import data\n",
    "\n",
    "source = data.iowa_electricity()\n",
    "\n",
    "alt.Chart(source, title=\"Iowa's renewable energy boom\").mark_area().encode(\n",
    "    x=alt.X(\n",
    "        \"year:T\",\n",
    "        title=\"Year\"\n",
    "    ),\n",
    "    y=alt.Y(\n",
    "        \"net_generation:Q\",\n",
    "        stack=\"normalize\",\n",
    "        title=\"Share of net generation\",\n",
    "        axis=alt.Axis(format=\".0%\"),\n",
    "    ),\n",
    "    color=alt.Color(\n",
    "        \"source:N\",\n",
    "        legend=alt.Legend(title=\"Electricity source\"),\n",
    "    )\n",
    ")"
   ]
  }
 ],
 "metadata": {
  "jupytext": {
   "cell_metadata_filter": "-all"
  },
  "kernelspec": {
   "display_name": "Python 3 (ipykernel)",
   "language": "python",
   "name": "python"
  }
 },
 "nbformat": 4,
 "nbformat_minor": 5
}
