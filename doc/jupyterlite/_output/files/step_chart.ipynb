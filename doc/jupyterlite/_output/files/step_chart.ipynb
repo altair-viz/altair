{
 "cells": [
  {
   "cell_type": "code",
   "execution_count": null,
   "id": "ebd38f14",
   "metadata": {},
   "outputs": [],
   "source": [
    "# Running this cell is required to get the examples to work in this online\n",
    "# notebook until there is a way to preinstall packages\n",
    "# You have to wait until it has executed before you click to run the next cell\n",
    "import micropip\n",
    "micropip.install(['altair', 'vega_datasets'])"
   ]
  },
  {
   "cell_type": "code",
   "execution_count": null,
   "id": "1779040e",
   "metadata": {},
   "outputs": [],
   "source": [
    "\"\"\"\n",
    "Step Chart\n",
    "----------\n",
    "This example shows Google's stock price over time.\n",
    "This uses the \"step-after\" interpolation scheme.\n",
    "The full list of interpolation options includes 'linear',\n",
    "'linear-closed', 'step', 'step-before', 'step-after', 'basis',\n",
    "'basis-open', 'basis-closed', 'cardinal', 'cardinal-open',\n",
    "'cardinal-closed', 'bundle', and 'monotone'.\n",
    "\"\"\"\n",
    "# category: line charts\n",
    "import altair as alt\n",
    "from vega_datasets import data\n",
    "\n",
    "source = data.stocks()\n",
    "\n",
    "alt.Chart(source).mark_line(interpolate='step-after').encode(\n",
    "    x='date',\n",
    "    y='price'\n",
    ").transform_filter(\n",
    "    alt.datum.symbol == 'GOOG'\n",
    ")"
   ]
  }
 ],
 "metadata": {
  "jupytext": {
   "cell_metadata_filter": "-all"
  },
  "kernelspec": {
   "display_name": "Python 3 (ipykernel)",
   "language": "python",
   "name": "python"
  }
 },
 "nbformat": 4,
 "nbformat_minor": 5
}
