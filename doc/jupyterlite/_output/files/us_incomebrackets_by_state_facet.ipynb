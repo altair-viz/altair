{
 "cells": [
  {
   "cell_type": "code",
   "execution_count": null,
   "id": "7419ecc6",
   "metadata": {},
   "outputs": [],
   "source": [
    "# Running this cell is required to get the examples to work in this online\n",
    "# notebook until there is a way to preinstall packages\n",
    "# You have to wait until it has executed before you click to run the next cell\n",
    "import micropip\n",
    "micropip.install(['altair', 'vega_datasets'])"
   ]
  },
  {
   "cell_type": "code",
   "execution_count": null,
   "id": "10426131",
   "metadata": {},
   "outputs": [],
   "source": [
    "\"\"\"\n",
    "US Income by State: Wrapped Facet\n",
    "---------------------------------\n",
    "This example shows how to create a map of income in the US by state,\n",
    "faceted over income brackets \n",
    "\"\"\"\n",
    "# category: maps\n",
    "\n",
    "import altair as alt\n",
    "from vega_datasets import data\n",
    "\n",
    "states = alt.topo_feature(data.us_10m.url, 'states')\n",
    "source = data.income.url\n",
    "\n",
    "alt.Chart(source).mark_geoshape().encode(\n",
    "    shape='geo:G',\n",
    "    color='pct:Q',\n",
    "    tooltip=['name:N', 'pct:Q'],\n",
    "    facet=alt.Facet('group:N', columns=2),\n",
    ").transform_lookup(\n",
    "    lookup='id',\n",
    "    from_=alt.LookupData(data=states, key='id'),\n",
    "    as_='geo'\n",
    ").properties(\n",
    "    width=300,\n",
    "    height=175,\n",
    ").project(\n",
    "    type='albersUsa'\n",
    ")"
   ]
  }
 ],
 "metadata": {
  "jupytext": {
   "cell_metadata_filter": "-all"
  },
  "kernelspec": {
   "display_name": "Python 3 (ipykernel)",
   "language": "python",
   "name": "python"
  }
 },
 "nbformat": 4,
 "nbformat_minor": 5
}
