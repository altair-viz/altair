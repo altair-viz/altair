{
 "cells": [
  {
   "cell_type": "code",
   "execution_count": null,
   "id": "ff860614",
   "metadata": {},
   "outputs": [],
   "source": [
    "# Running this cell is required to get the examples to work in this online\n",
    "# notebook until there is a way to preinstall packages\n",
    "# You have to wait until it has executed before you click to run the next cell\n",
    "import micropip\n",
    "micropip.install(['altair', 'vega_datasets'])"
   ]
  },
  {
   "cell_type": "code",
   "execution_count": null,
   "id": "5a13f68a",
   "metadata": {},
   "outputs": [],
   "source": [
    "\"\"\"\n",
    "Facetted Scatterplot with marginal histograms\n",
    "---------------------------------------------\n",
    "This example demonstrates how to generate a facetted scatterplot,\n",
    "with marginal facetted histograms, and how to share their respective\n",
    "- x,some y-limits.\n",
    "\"\"\"\n",
    "# category: other charts\n",
    "import altair as alt\n",
    "from vega_datasets import data\n",
    "\n",
    "source = data.iris()\n",
    "\n",
    "base = alt.Chart(source)\n",
    "\n",
    "xscale = alt.Scale(domain=(4.0, 8.0))\n",
    "yscale = alt.Scale(domain=(1.9, 4.55))\n",
    "\n",
    "bar_args = {'opacity': .3, 'binSpacing': 0}\n",
    "\n",
    "points = base.mark_circle().encode(\n",
    "    alt.X('sepalLength', scale=xscale),\n",
    "    alt.Y('sepalWidth', scale=yscale),\n",
    "    color='species',\n",
    ")\n",
    "\n",
    "top_hist = base.mark_bar(**bar_args).encode(\n",
    "    alt.X('sepalLength:Q',\n",
    "          # when using bins, the axis scale is set through\n",
    "          # the bin extent, so we do not specify the scale here\n",
    "          # (which would be ignored anyway)\n",
    "          bin=alt.Bin(maxbins=20, extent=xscale.domain),\n",
    "          stack=None,\n",
    "          title=''\n",
    "         ),\n",
    "    alt.Y('count()', stack=None, title=''),\n",
    "    alt.Color('species:N'),\n",
    ").properties(height=60)\n",
    "\n",
    "right_hist = base.mark_bar(**bar_args).encode(\n",
    "    alt.Y('sepalWidth:Q',\n",
    "          bin=alt.Bin(maxbins=20, extent=yscale.domain),\n",
    "          stack=None,\n",
    "          title='',\n",
    "         ),\n",
    "    alt.X('count()', stack=None, title=''),\n",
    "    alt.Color('species:N'),\n",
    ").properties(width=60)\n",
    "\n",
    "top_hist & (points | right_hist)"
   ]
  }
 ],
 "metadata": {
  "jupytext": {
   "cell_metadata_filter": "-all"
  },
  "kernelspec": {
   "display_name": "Python 3 (ipykernel)",
   "language": "python",
   "name": "python"
  }
 },
 "nbformat": 4,
 "nbformat_minor": 5
}
