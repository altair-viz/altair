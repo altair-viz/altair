{
 "cells": [
  {
   "cell_type": "code",
   "execution_count": null,
   "id": "01eaeff1",
   "metadata": {},
   "outputs": [],
   "source": [
    "# Running this cell is required to get the examples to work in this online\n",
    "# notebook until there is a way to preinstall packages\n",
    "# You have to wait until it has executed before you click to run the next cell\n",
    "import micropip\n",
    "micropip.install(['altair', 'vega_datasets'])"
   ]
  },
  {
   "cell_type": "code",
   "execution_count": null,
   "id": "6d2dbf92",
   "metadata": {},
   "outputs": [],
   "source": [
    "\"\"\"\n",
    "Stem and Leaf Plot\n",
    "------------------\n",
    "This example shows how to make a stem and leaf plot.\n",
    "\"\"\"\n",
    "# category: other charts\n",
    "import altair as alt\n",
    "import pandas as pd\n",
    "import numpy as np\n",
    "np.random.seed(42)\n",
    "\n",
    "# Generating random data\n",
    "source = pd.DataFrame({'samples': np.random.normal(50, 15, 100).astype(int).astype(str)})\n",
    "\n",
    "# Splitting stem and leaf\n",
    "source['stem'] = source['samples'].str[:-1]\n",
    "source['leaf'] = source['samples'].str[-1]\n",
    "\n",
    "source = source.sort_values(by=['stem', 'leaf'])\n",
    "\n",
    "# Determining leaf position\n",
    "source['position'] = source.groupby('stem').cumcount().add(1)\n",
    "\n",
    "# Creating stem and leaf plot\n",
    "alt.Chart(source).mark_text(\n",
    "    align='left',\n",
    "    baseline='middle',\n",
    "    dx=-5\n",
    ").encode(\n",
    "    alt.X('position:Q', title='',\n",
    "        axis=alt.Axis(ticks=False, labels=False, grid=False)\n",
    "    ),\n",
    "    alt.Y('stem:N', title='', axis=alt.Axis(tickSize=0)),\n",
    "    text='leaf:N',\n",
    ").configure_axis(\n",
    "    labelFontSize=20\n",
    ").configure_text(\n",
    "    fontSize=20\n",
    ")"
   ]
  }
 ],
 "metadata": {
  "jupytext": {
   "cell_metadata_filter": "-all"
  },
  "kernelspec": {
   "display_name": "Python 3 (ipykernel)",
   "language": "python",
   "name": "python"
  }
 },
 "nbformat": 4,
 "nbformat_minor": 5
}
