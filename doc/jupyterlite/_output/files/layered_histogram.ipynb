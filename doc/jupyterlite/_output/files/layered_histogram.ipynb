{
 "cells": [
  {
   "cell_type": "code",
   "execution_count": null,
   "id": "35e9413f",
   "metadata": {},
   "outputs": [],
   "source": [
    "# Running this cell is required to get the examples to work in this online\n",
    "# notebook until there is a way to preinstall packages\n",
    "# You have to wait until it has executed before you click to run the next cell\n",
    "import micropip\n",
    "micropip.install(['altair', 'vega_datasets'])"
   ]
  },
  {
   "cell_type": "code",
   "execution_count": null,
   "id": "7f7d1ba9",
   "metadata": {},
   "outputs": [],
   "source": [
    "\"\"\"\n",
    "Layered Histogram\n",
    "=================\n",
    "This example shows how to use opacity to make a layered histogram in Altair.\n",
    "\"\"\"\n",
    "# category: histograms\n",
    "import pandas as pd\n",
    "import altair as alt\n",
    "import numpy as np\n",
    "np.random.seed(42)\n",
    "\n",
    "# Generating Data\n",
    "source = pd.DataFrame({\n",
    "    'Trial A': np.random.normal(0, 0.8, 1000),\n",
    "    'Trial B': np.random.normal(-2, 1, 1000),\n",
    "    'Trial C': np.random.normal(3, 2, 1000)\n",
    "})\n",
    "\n",
    "alt.Chart(source).transform_fold(\n",
    "    ['Trial A', 'Trial B', 'Trial C'],\n",
    "    as_=['Experiment', 'Measurement']\n",
    ").mark_bar(\n",
    "    opacity=0.3,\n",
    "    binSpacing=0\n",
    ").encode(\n",
    "    alt.X('Measurement:Q', bin=alt.Bin(maxbins=100)),\n",
    "    alt.Y('count()', stack=None),\n",
    "    alt.Color('Experiment:N')\n",
    ")"
   ]
  }
 ],
 "metadata": {
  "jupytext": {
   "cell_metadata_filter": "-all"
  },
  "kernelspec": {
   "display_name": "Python 3 (ipykernel)",
   "language": "python",
   "name": "python"
  }
 },
 "nbformat": 4,
 "nbformat_minor": 5
}
