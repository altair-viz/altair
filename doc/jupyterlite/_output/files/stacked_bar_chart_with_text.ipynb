{
 "cells": [
  {
   "cell_type": "code",
   "execution_count": null,
   "id": "f44c32a5",
   "metadata": {},
   "outputs": [],
   "source": [
    "# Running this cell is required to get the examples to work in this online\n",
    "# notebook until there is a way to preinstall packages\n",
    "# You have to wait until it has executed before you click to run the next cell\n",
    "import micropip\n",
    "micropip.install(['altair', 'vega_datasets'])"
   ]
  },
  {
   "cell_type": "code",
   "execution_count": null,
   "id": "fe404a55",
   "metadata": {},
   "outputs": [],
   "source": [
    "\"\"\"\n",
    "Stacked Bar Chart with Text Overlay\n",
    "===================================\n",
    "This example shows how to overlay text on a stacked bar chart. For both the\n",
    "bar and text marks, we use the ``stack`` argument in the ``x`` encoding to\n",
    "cause the values to be stacked horizontally.\n",
    "\"\"\"\n",
    "# category: bar charts\n",
    "import altair as alt\n",
    "from vega_datasets import data\n",
    "\n",
    "source=data.barley()\n",
    "\n",
    "bars = alt.Chart(source).mark_bar().encode(\n",
    "    x=alt.X('sum(yield):Q', stack='zero'),\n",
    "    y=alt.Y('variety:N'),\n",
    "    color=alt.Color('site')\n",
    ")\n",
    "\n",
    "text = alt.Chart(source).mark_text(dx=-15, dy=3, color='white').encode(\n",
    "    x=alt.X('sum(yield):Q', stack='zero'),\n",
    "    y=alt.Y('variety:N'),\n",
    "    detail='site:N',\n",
    "    text=alt.Text('sum(yield):Q', format='.1f')\n",
    ")\n",
    "\n",
    "bars + text"
   ]
  }
 ],
 "metadata": {
  "jupytext": {
   "cell_metadata_filter": "-all"
  },
  "kernelspec": {
   "display_name": "Python 3 (ipykernel)",
   "language": "python",
   "name": "python"
  }
 },
 "nbformat": 4,
 "nbformat_minor": 5
}
