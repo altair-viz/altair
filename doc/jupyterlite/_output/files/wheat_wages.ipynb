{
 "cells": [
  {
   "cell_type": "code",
   "execution_count": null,
   "id": "def0b19a",
   "metadata": {},
   "outputs": [],
   "source": [
    "# Running this cell is required to get the examples to work in this online\n",
    "# notebook until there is a way to preinstall packages\n",
    "# You have to wait until it has executed before you click to run the next cell\n",
    "import micropip\n",
    "micropip.install(['altair', 'vega_datasets'])"
   ]
  },
  {
   "cell_type": "code",
   "execution_count": null,
   "id": "2bd07dc6",
   "metadata": {},
   "outputs": [],
   "source": [
    "\"\"\"\n",
    "Wheat and Wages\n",
    "---------------\n",
    "A recreation of William Playfair's classic chart visualizing\n",
    "the price of wheat, the wages of a mechanic, and the reigning British monarch.\n",
    "\n",
    "This is a more polished version of the simpler chart in :ref:`gallery_bar_and_line_with_dual_axis`.\n",
    "\"\"\"\n",
    "# category: case studies\n",
    "import altair as alt\n",
    "from vega_datasets import data\n",
    "\n",
    "\n",
    "base_wheat = alt.Chart(data.wheat.url).transform_calculate(\n",
    "    year_end=\"+datum.year + 5\")\n",
    "\n",
    "base_monarchs = alt.Chart(data.monarchs.url).transform_calculate(\n",
    "    offset=\"((!datum.commonwealth && datum.index % 2) ? -1: 1) * 2 + 95\",\n",
    "    off2=\"((!datum.commonwealth && datum.index % 2) ? -1: 1) + 95\",\n",
    "    y=\"95\",\n",
    "    x=\"+datum.start + (+datum.end - +datum.start)/2\"\n",
    ")\n",
    "\n",
    "bars = base_wheat.mark_bar(**{\"fill\": \"#aaa\", \"stroke\": \"#999\"}).encode(\n",
    "    x=alt.X(\"year:Q\", axis=alt.Axis(format='d', tickCount=5)),\n",
    "    y=alt.Y(\"wheat:Q\", axis=alt.Axis(zindex=1)),\n",
    "    x2=alt.X2(\"year_end\")\n",
    ")\n",
    "\n",
    "area = base_wheat.mark_area(**{\"color\": \"#a4cedb\", \"opacity\": 0.7}).encode(\n",
    "    x=alt.X(\"year:Q\"),\n",
    "    y=alt.Y(\"wages:Q\")\n",
    ")\n",
    "\n",
    "area_line_1 = area.mark_line(**{\"color\": \"#000\", \"opacity\": 0.7})\n",
    "area_line_2 = area.mark_line(**{\"yOffset\": -2, \"color\": \"#EE8182\"})\n",
    "\n",
    "top_bars = base_monarchs.mark_bar(stroke=\"#000\").encode(\n",
    "    x=alt.X(\"start:Q\"),\n",
    "    x2=alt.X2(\"end\"),\n",
    "    y=alt.Y(\"y:Q\"),\n",
    "    y2=alt.Y2(\"offset\"),\n",
    "    fill=alt.Fill(\"commonwealth:N\", legend=None, scale=alt.Scale(range=[\"black\", \"white\"]))\n",
    ")\n",
    "\n",
    "top_text = base_monarchs.mark_text(**{\"yOffset\": 14, \"fontSize\": 9, \"fontStyle\": \"italic\"}).encode(\n",
    "    x=alt.X(\"x:Q\"),\n",
    "    y=alt.Y(\"off2:Q\"),\n",
    "    text=alt.Text(\"name:N\")\n",
    ")\n",
    "\n",
    "(bars + area + area_line_1 + area_line_2 + top_bars + top_text).properties(\n",
    "    width=900, height=400\n",
    ").configure_axis(\n",
    "    title=None, gridColor=\"white\", gridOpacity=0.25, domain=False\n",
    ").configure_view(\n",
    "    stroke=\"transparent\"\n",
    ")"
   ]
  }
 ],
 "metadata": {
  "jupytext": {
   "cell_metadata_filter": "-all"
  },
  "kernelspec": {
   "display_name": "Python 3 (ipykernel)",
   "language": "python",
   "name": "python"
  }
 },
 "nbformat": 4,
 "nbformat_minor": 5
}
