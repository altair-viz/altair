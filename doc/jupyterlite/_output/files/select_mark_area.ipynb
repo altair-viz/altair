{
 "cells": [
  {
   "cell_type": "code",
   "execution_count": null,
   "id": "5f64ac54",
   "metadata": {},
   "outputs": [],
   "source": [
    "# Running this cell is required to get the examples to work in this online\n",
    "# notebook until there is a way to preinstall packages\n",
    "# You have to wait until it has executed before you click to run the next cell\n",
    "import micropip\n",
    "micropip.install(['altair', 'vega_datasets'])"
   ]
  },
  {
   "cell_type": "code",
   "execution_count": null,
   "id": "f2191ca0",
   "metadata": {},
   "outputs": [],
   "source": [
    "\"\"\"\n",
    "Using Selection Interval with mark_area\n",
    "=========================================\n",
    "\n",
    "Because area is considered one object, just using the plain \n",
    "selector will select the entire area instead of just one part of it.\n",
    "\n",
    "This example shows how to use two areas, one on top of the other, and a\n",
    "`transform_filter` to fake out this effect.\n",
    "\n",
    "\"\"\"\n",
    "# category: interactive charts\n",
    "import altair as alt\n",
    "from vega_datasets import data\n",
    "\n",
    "source = data.unemployment_across_industries.url\n",
    "\n",
    "base = alt.Chart(source).mark_area(\n",
    "    color='goldenrod',\n",
    "    opacity=0.3\n",
    ").encode(\n",
    "    x='yearmonth(date):T',\n",
    "    y='sum(count):Q',\n",
    ")\n",
    "\n",
    "brush = alt.selection_interval(encodings=['x'],empty='all')\n",
    "background = base.add_selection(brush)\n",
    "selected = base.transform_filter(brush).mark_area(color='goldenrod')\n",
    "\n",
    "background + selected"
   ]
  }
 ],
 "metadata": {
  "jupytext": {
   "cell_metadata_filter": "-all"
  },
  "kernelspec": {
   "display_name": "Python 3 (ipykernel)",
   "language": "python",
   "name": "python"
  }
 },
 "nbformat": 4,
 "nbformat_minor": 5
}
