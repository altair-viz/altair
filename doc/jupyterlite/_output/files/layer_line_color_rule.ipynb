{
 "cells": [
  {
   "cell_type": "code",
   "execution_count": null,
   "id": "c85b094a",
   "metadata": {},
   "outputs": [],
   "source": [
    "# Running this cell is required to get the examples to work in this online\n",
    "# notebook until there is a way to preinstall packages\n",
    "# You have to wait until it has executed before you click to run the next cell\n",
    "import micropip\n",
    "micropip.install(['altair', 'vega_datasets'])"
   ]
  },
  {
   "cell_type": "code",
   "execution_count": null,
   "id": "65306655",
   "metadata": {},
   "outputs": [],
   "source": [
    "\"\"\"\n",
    "Line Chart with Layered Aggregates\n",
    "----------------------------------\n",
    "This example shows how to make a multi-series line chart of the daily closing\n",
    "stock prices for AAPL, AMZN, GOOG, IBM, and MSFT between 2000 and 2010, along\n",
    "with a layered rule showing the average values.\n",
    "\"\"\"\n",
    "# category: line charts\n",
    "import altair as alt\n",
    "from vega_datasets import data\n",
    "\n",
    "source = data.stocks()\n",
    "\n",
    "base = alt.Chart(source).properties(width=550)\n",
    "\n",
    "line = base.mark_line().encode(\n",
    "    x='date',\n",
    "    y='price',\n",
    "    color='symbol'\n",
    ")\n",
    "\n",
    "rule = base.mark_rule().encode(\n",
    "    y='average(price)',\n",
    "    color='symbol',\n",
    "    size=alt.value(2)\n",
    ")\n",
    "\n",
    "line + rule"
   ]
  }
 ],
 "metadata": {
  "jupytext": {
   "cell_metadata_filter": "-all"
  },
  "kernelspec": {
   "display_name": "Python 3 (ipykernel)",
   "language": "python",
   "name": "python"
  }
 },
 "nbformat": 4,
 "nbformat_minor": 5
}
