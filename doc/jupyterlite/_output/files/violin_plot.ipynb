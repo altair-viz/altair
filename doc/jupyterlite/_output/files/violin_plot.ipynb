{
 "cells": [
  {
   "cell_type": "code",
   "execution_count": null,
   "id": "9cbb945a",
   "metadata": {},
   "outputs": [],
   "source": [
    "# Running this cell is required to get the examples to work in this online\n",
    "# notebook until there is a way to preinstall packages\n",
    "# You have to wait until it has executed before you click to run the next cell\n",
    "import micropip\n",
    "micropip.install(['altair', 'vega_datasets'])"
   ]
  },
  {
   "cell_type": "code",
   "execution_count": null,
   "id": "b22ed1b5",
   "metadata": {},
   "outputs": [],
   "source": [
    "\"\"\"\n",
    "Violin Plot\n",
    "-----------\n",
    "This example shows how to make a Violin Plot using Altair's density transform.\n",
    "\"\"\"\n",
    "# category: other charts\n",
    "import altair as alt\n",
    "from vega_datasets import data\n",
    "\n",
    "alt.Chart(data.cars()).transform_density(\n",
    "    'Miles_per_Gallon',\n",
    "    as_=['Miles_per_Gallon', 'density'],\n",
    "    extent=[5, 50],\n",
    "    groupby=['Origin']\n",
    ").mark_area(orient='horizontal').encode(\n",
    "    y='Miles_per_Gallon:Q',\n",
    "    color='Origin:N',\n",
    "    x=alt.X(\n",
    "        'density:Q',\n",
    "        stack='center',\n",
    "        impute=None,\n",
    "        title=None,\n",
    "        axis=alt.Axis(labels=False, values=[0],grid=False, ticks=True),\n",
    "    ),\n",
    "    column=alt.Column(\n",
    "        'Origin:N',\n",
    "        header=alt.Header(\n",
    "            titleOrient='bottom',\n",
    "            labelOrient='bottom',\n",
    "            labelPadding=0,\n",
    "        ),\n",
    "    )\n",
    ").properties(\n",
    "    width=100\n",
    ").configure_facet(\n",
    "    spacing=0\n",
    ").configure_view(\n",
    "    stroke=None\n",
    ")"
   ]
  }
 ],
 "metadata": {
  "jupytext": {
   "cell_metadata_filter": "-all"
  },
  "kernelspec": {
   "display_name": "Python 3 (ipykernel)",
   "language": "python",
   "name": "python"
  }
 },
 "nbformat": 4,
 "nbformat_minor": 5
}
