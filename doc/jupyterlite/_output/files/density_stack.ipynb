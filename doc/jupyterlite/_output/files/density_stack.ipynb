{
 "cells": [
  {
   "cell_type": "code",
   "execution_count": null,
   "id": "06243191",
   "metadata": {},
   "outputs": [],
   "source": [
    "# Running this cell is required to get the examples to work in this online\n",
    "# notebook until there is a way to preinstall packages\n",
    "# You have to wait until it has executed before you click to run the next cell\n",
    "import micropip\n",
    "micropip.install(['altair', 'vega_datasets'])"
   ]
  },
  {
   "cell_type": "code",
   "execution_count": null,
   "id": "ea86ce74",
   "metadata": {},
   "outputs": [],
   "source": [
    "\"\"\"\n",
    "Stacked Density Estimates\n",
    "-------------------------\n",
    "To plot a stacked graph of estimates, use a shared ``extent`` and a fixed\n",
    "number of subdivision ``steps`` to ensure that the points for each area align\n",
    "well.  Density estimates of measurements for each iris flower feature are plot\n",
    "in a stacked method.  In addition, setting ``counts`` to true multiplies the\n",
    "densities by the number of data points in each group, preserving proportional\n",
    "differences.\n",
    "\"\"\"\n",
    "# category: area charts\n",
    "\n",
    "import altair as alt\n",
    "from vega_datasets import data\n",
    "\n",
    "source = data.iris()\n",
    "\n",
    "alt.Chart(source).transform_fold(\n",
    "    ['petalWidth', \n",
    "     'petalLength', \n",
    "     'sepalWidth', \n",
    "     'sepalLength'], \n",
    "    as_ = ['Measurement_type', 'value']\n",
    ").transform_density(\n",
    "    density='value', \n",
    "    bandwidth=0.3, \n",
    "    groupby=['Measurement_type'], \n",
    "    extent= [0, 8], \n",
    "    counts = True, \n",
    "    steps=200\n",
    ").mark_area().encode(\n",
    "    alt.X('value:Q'), \n",
    "    alt.Y('density:Q', stack='zero'),\n",
    "    alt.Color('Measurement_type:N')\n",
    ").properties(width=400, height=100)"
   ]
  }
 ],
 "metadata": {
  "jupytext": {
   "cell_metadata_filter": "-all"
  },
  "kernelspec": {
   "display_name": "Python 3 (ipykernel)",
   "language": "python",
   "name": "python"
  }
 },
 "nbformat": 4,
 "nbformat_minor": 5
}
