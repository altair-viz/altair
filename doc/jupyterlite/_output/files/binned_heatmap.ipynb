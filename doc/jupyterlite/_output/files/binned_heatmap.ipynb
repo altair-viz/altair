{
 "cells": [
  {
   "cell_type": "code",
   "execution_count": null,
   "id": "b7278f06",
   "metadata": {},
   "outputs": [],
   "source": [
    "# Running this cell is required to get the examples to work in this online\n",
    "# notebook until there is a way to preinstall packages\n",
    "# You have to wait until it has executed before you click to run the next cell\n",
    "import micropip\n",
    "micropip.install(['altair', 'vega_datasets'])"
   ]
  },
  {
   "cell_type": "code",
   "execution_count": null,
   "id": "960c260e",
   "metadata": {},
   "outputs": [],
   "source": [
    "\"\"\"\n",
    "Binned Heatmap\n",
    "--------------\n",
    "This example shows how to make a heatmap from binned quantitative data.\n",
    "\"\"\"\n",
    "# category: other charts\n",
    "import altair as alt\n",
    "from vega_datasets import data\n",
    "\n",
    "source = data.movies.url\n",
    "\n",
    "alt.Chart(source).mark_rect().encode(\n",
    "    alt.X('IMDB_Rating:Q', bin=alt.Bin(maxbins=60)),\n",
    "    alt.Y('Rotten_Tomatoes_Rating:Q', bin=alt.Bin(maxbins=40)),\n",
    "    alt.Color('count():Q', scale=alt.Scale(scheme='greenblue'))\n",
    ")"
   ]
  }
 ],
 "metadata": {
  "jupytext": {
   "cell_metadata_filter": "-all"
  },
  "kernelspec": {
   "display_name": "Python 3 (ipykernel)",
   "language": "python",
   "name": "python"
  }
 },
 "nbformat": 4,
 "nbformat_minor": 5
}
