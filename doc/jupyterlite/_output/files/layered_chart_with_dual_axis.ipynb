{
 "cells": [
  {
   "cell_type": "code",
   "execution_count": null,
   "id": "29fed018",
   "metadata": {},
   "outputs": [],
   "source": [
    "# Running this cell is required to get the examples to work in this online\n",
    "# notebook until there is a way to preinstall packages\n",
    "# You have to wait until it has executed before you click to run the next cell\n",
    "import micropip\n",
    "micropip.install(['altair', 'vega_datasets'])"
   ]
  },
  {
   "cell_type": "code",
   "execution_count": null,
   "id": "e5931012",
   "metadata": {},
   "outputs": [],
   "source": [
    "\"\"\"\n",
    "Layered chart with Dual-Axis\n",
    "----------------------------\n",
    "This example shows how to create a second independent y axis.\n",
    "\"\"\"\n",
    "# category: other charts\n",
    "\n",
    "import altair as alt\n",
    "from vega_datasets import data\n",
    "\n",
    "source = data.seattle_weather()\n",
    "\n",
    "base = alt.Chart(source).encode(\n",
    "    alt.X('month(date):T', axis=alt.Axis(title=None))\n",
    ")\n",
    "\n",
    "area = base.mark_area(opacity=0.3, color='#57A44C').encode(\n",
    "    alt.Y('average(temp_max)',\n",
    "          axis=alt.Axis(title='Avg. Temperature (°C)', titleColor='#57A44C')),\n",
    "    alt.Y2('average(temp_min)')\n",
    ")\n",
    "\n",
    "line = base.mark_line(stroke='#5276A7', interpolate='monotone').encode(\n",
    "    alt.Y('average(precipitation)',\n",
    "          axis=alt.Axis(title='Precipitation (inches)', titleColor='#5276A7'))\n",
    ")\n",
    "\n",
    "alt.layer(area, line).resolve_scale(\n",
    "    y = 'independent'\n",
    ")"
   ]
  }
 ],
 "metadata": {
  "jupytext": {
   "cell_metadata_filter": "-all"
  },
  "kernelspec": {
   "display_name": "Python 3 (ipykernel)",
   "language": "python",
   "name": "python"
  }
 },
 "nbformat": 4,
 "nbformat_minor": 5
}
