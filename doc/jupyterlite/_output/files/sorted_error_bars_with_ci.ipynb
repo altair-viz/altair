{
 "cells": [
  {
   "cell_type": "code",
   "execution_count": null,
   "id": "63156cde",
   "metadata": {},
   "outputs": [],
   "source": [
    "# Running this cell is required to get the examples to work in this online\n",
    "# notebook until there is a way to preinstall packages\n",
    "# You have to wait until it has executed before you click to run the next cell\n",
    "import micropip\n",
    "micropip.install(['altair', 'vega_datasets'])"
   ]
  },
  {
   "cell_type": "code",
   "execution_count": null,
   "id": "30d1c717",
   "metadata": {},
   "outputs": [],
   "source": [
    "\"\"\"\n",
    "Sorted Error Bars showing Confidence Interval\n",
    "=============================================\n",
    "This example shows how to show error bars using confidence intervals, while also sorting the y-axis based on x-axis values. \n",
    "\"\"\"\n",
    "# category: other charts\n",
    "\n",
    "import altair as alt\n",
    "from vega_datasets import data\n",
    "\n",
    "source = data.barley()\n",
    "\n",
    "points = alt.Chart(source).mark_point(\n",
    "    filled=True,\n",
    "    color='black'\n",
    ").encode(\n",
    "    x=alt.X('mean(yield)', title='Barley Yield'),\n",
    "    y=alt.Y(\n",
    "        'variety',\n",
    "         sort=alt.EncodingSortField(\n",
    "             field='yield',\n",
    "             op='mean',\n",
    "             order='descending'\n",
    "         )\n",
    "    )\n",
    ").properties(\n",
    "    width=400,\n",
    "    height=250\n",
    ")\n",
    "\n",
    "error_bars = points.mark_rule().encode(\n",
    "    x='ci0(yield)',\n",
    "    x2='ci1(yield)',\n",
    ")\n",
    "\n",
    "points + error_bars"
   ]
  }
 ],
 "metadata": {
  "jupytext": {
   "cell_metadata_filter": "-all"
  },
  "kernelspec": {
   "display_name": "Python 3 (ipykernel)",
   "language": "python",
   "name": "python"
  }
 },
 "nbformat": 4,
 "nbformat_minor": 5
}
