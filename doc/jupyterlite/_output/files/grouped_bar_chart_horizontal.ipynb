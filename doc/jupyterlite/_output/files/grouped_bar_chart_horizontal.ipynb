{
 "cells": [
  {
   "cell_type": "code",
   "execution_count": null,
   "id": "0562723b",
   "metadata": {},
   "outputs": [],
   "source": [
    "# Running this cell is required to get the examples to work in this online\n",
    "# notebook until there is a way to preinstall packages\n",
    "# You have to wait until it has executed before you click to run the next cell\n",
    "import micropip\n",
    "micropip.install(['altair', 'vega_datasets'])"
   ]
  },
  {
   "cell_type": "code",
   "execution_count": null,
   "id": "7714a54e",
   "metadata": {},
   "outputs": [],
   "source": [
    "\"\"\"\n",
    "Horizontal Grouped Bar Chart\n",
    "----------------------------\n",
    "This example shows a horizontal grouped bar chart.\n",
    "\"\"\"\n",
    "# category: bar charts\n",
    "import altair as alt\n",
    "from vega_datasets import data\n",
    "\n",
    "source = data.barley()\n",
    "\n",
    "alt.Chart(source).mark_bar().encode(\n",
    "    x='sum(yield):Q',\n",
    "    y='year:O',\n",
    "    color='year:N',\n",
    "    row='site:N'\n",
    ")"
   ]
  }
 ],
 "metadata": {
  "jupytext": {
   "cell_metadata_filter": "-all"
  },
  "kernelspec": {
   "display_name": "Python 3 (ipykernel)",
   "language": "python",
   "name": "python"
  }
 },
 "nbformat": 4,
 "nbformat_minor": 5
}
