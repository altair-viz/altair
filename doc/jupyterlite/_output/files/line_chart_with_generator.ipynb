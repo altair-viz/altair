{
 "cells": [
  {
   "cell_type": "code",
   "execution_count": null,
   "id": "058911cc",
   "metadata": {},
   "outputs": [],
   "source": [
    "# Running this cell is required to get the examples to work in this online\n",
    "# notebook until there is a way to preinstall packages\n",
    "# You have to wait until it has executed before you click to run the next cell\n",
    "import micropip\n",
    "micropip.install(['altair', 'vega_datasets'])"
   ]
  },
  {
   "cell_type": "code",
   "execution_count": null,
   "id": "967af987",
   "metadata": {},
   "outputs": [],
   "source": [
    "\"\"\"\n",
    "Line Chart with Sequence Generator\n",
    "----------------------------------\n",
    "This examples shows how to create multiple lines using the sequence generator.\n",
    "\"\"\"\n",
    "# category: line charts\n",
    "\n",
    "import altair as alt\n",
    "\n",
    "source = alt.sequence(start=0, stop=12.7, step=0.1, as_='x')\n",
    "\n",
    "alt.Chart(source).mark_line().transform_calculate(\n",
    "    sin='sin(datum.x)',\n",
    "    cos='cos(datum.x)'\n",
    ").transform_fold(\n",
    "    ['sin', 'cos']\n",
    ").encode(\n",
    "    x='x:Q', \n",
    "    y='value:Q', \n",
    "    color='key:N'\n",
    ")"
   ]
  }
 ],
 "metadata": {
  "jupytext": {
   "cell_metadata_filter": "-all"
  },
  "kernelspec": {
   "display_name": "Python 3 (ipykernel)",
   "language": "python",
   "name": "python"
  }
 },
 "nbformat": 4,
 "nbformat_minor": 5
}
