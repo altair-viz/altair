{
 "cells": [
  {
   "cell_type": "code",
   "execution_count": null,
   "id": "a0e7b96d",
   "metadata": {},
   "outputs": [],
   "source": [
    "# Running this cell is required to get the examples to work in this online\n",
    "# notebook until there is a way to preinstall packages\n",
    "# You have to wait until it has executed before you click to run the next cell\n",
    "import micropip\n",
    "micropip.install(['altair', 'vega_datasets'])"
   ]
  },
  {
   "cell_type": "code",
   "execution_count": null,
   "id": "5bea8669",
   "metadata": {},
   "outputs": [],
   "source": [
    "\"\"\"\n",
    "Connected Scatterplot (Lines with Custom Paths)\n",
    "-----------------------------------------------\n",
    "\n",
    "This example show how the order encoding can be used to draw a custom path. The dataset tracks miles driven per capita along with gas prices annually from 1956 to 2010.\n",
    "It is based on Hannah Fairfield's article 'Driving Shifts Into Reverse'. See https://archive.nytimes.com/www.nytimes.com/imagepages/2010/05/02/business/02metrics.html for the original.\n",
    "\"\"\"\n",
    "# category: scatter plots\n",
    "import altair as alt\n",
    "from vega_datasets import data\n",
    "\n",
    "source = data.driving()\n",
    "\n",
    "alt.Chart(source).mark_line(point=True).encode(\n",
    "    alt.X('miles', scale=alt.Scale(zero=False)),\n",
    "    alt.Y('gas', scale=alt.Scale(zero=False)),\n",
    "    order='year'\n",
    ")"
   ]
  }
 ],
 "metadata": {
  "jupytext": {
   "cell_metadata_filter": "-all"
  },
  "kernelspec": {
   "display_name": "Python 3 (ipykernel)",
   "language": "python",
   "name": "python"
  }
 },
 "nbformat": 4,
 "nbformat_minor": 5
}
