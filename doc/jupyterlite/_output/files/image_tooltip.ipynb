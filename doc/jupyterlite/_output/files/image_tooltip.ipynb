{
 "cells": [
  {
   "cell_type": "code",
   "execution_count": null,
   "id": "d41a1000",
   "metadata": {},
   "outputs": [],
   "source": [
    "# Running this cell is required to get the examples to work in this online\n",
    "# notebook until there is a way to preinstall packages\n",
    "# You have to wait until it has executed before you click to run the next cell\n",
    "import micropip\n",
    "micropip.install(['altair', 'vega_datasets'])"
   ]
  },
  {
   "cell_type": "code",
   "execution_count": null,
   "id": "ab06bd34",
   "metadata": {},
   "outputs": [],
   "source": [
    "\"\"\"\n",
    "Image tooltip\n",
    "-------------\n",
    "This example shows how to render images in tooltips.\n",
    "Either URLs or local file paths can be used to reference\n",
    "the images.\n",
    "\"\"\"\n",
    "# category: other charts\n",
    "\n",
    "import altair as alt\n",
    "import pandas as pd\n",
    "\n",
    "source = pd.DataFrame.from_records(\n",
    "    [{'a': 1, 'b': 1, 'image': 'https://altair-viz.github.io/_static/altair-logo-light.png'},\n",
    "     {'a': 2, 'b': 2, 'image': 'https://avatars.githubusercontent.com/u/11796929?s=200&v=4'}]\n",
    ")\n",
    "alt.Chart(source).mark_circle(size=200).encode(\n",
    "    x='a',\n",
    "    y='b',\n",
    "    tooltip=['image']  # Must be a list for the image to render\n",
    ")"
   ]
  }
 ],
 "metadata": {
  "jupytext": {
   "cell_metadata_filter": "-all"
  },
  "kernelspec": {
   "display_name": "Python 3 (ipykernel)",
   "language": "python",
   "name": "python"
  }
 },
 "nbformat": 4,
 "nbformat_minor": 5
}
