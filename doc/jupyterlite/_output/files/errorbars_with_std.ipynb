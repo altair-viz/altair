{
 "cells": [
  {
   "cell_type": "code",
   "execution_count": null,
   "id": "5b452a62",
   "metadata": {},
   "outputs": [],
   "source": [
    "# Running this cell is required to get the examples to work in this online\n",
    "# notebook until there is a way to preinstall packages\n",
    "# You have to wait until it has executed before you click to run the next cell\n",
    "import micropip\n",
    "micropip.install(['altair', 'vega_datasets'])"
   ]
  },
  {
   "cell_type": "code",
   "execution_count": null,
   "id": "25e506ca",
   "metadata": {},
   "outputs": [],
   "source": [
    "\"\"\"\n",
    "Error Bar with Standard Deviation\n",
    "---------------------------------\n",
    "This example shows how to show error bars with standard deviation using crop yields data of different\n",
    "in the years of 1930s.\n",
    "\"\"\"\n",
    "# category: other charts\n",
    "import altair as alt\n",
    "from vega_datasets import data\n",
    "\n",
    "source = data.barley()\n",
    "\n",
    "error_bars = alt.Chart(source).mark_errorbar(extent='stdev').encode(\n",
    "  x=alt.X('yield:Q', scale=alt.Scale(zero=False)),\n",
    "  y=alt.Y('variety:N')\n",
    ")\n",
    "\n",
    "points = alt.Chart(source).mark_point(filled=True, color='black').encode(\n",
    "  x=alt.X('yield:Q', aggregate='mean'),\n",
    "  y=alt.Y('variety:N'),\n",
    ")\n",
    "\n",
    "error_bars + points"
   ]
  }
 ],
 "metadata": {
  "jupytext": {
   "cell_metadata_filter": "-all"
  },
  "kernelspec": {
   "display_name": "Python 3 (ipykernel)",
   "language": "python",
   "name": "python"
  }
 },
 "nbformat": 4,
 "nbformat_minor": 5
}
