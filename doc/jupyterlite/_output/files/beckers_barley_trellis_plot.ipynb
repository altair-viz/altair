{
 "cells": [
  {
   "cell_type": "code",
   "execution_count": null,
   "id": "01223d36",
   "metadata": {},
   "outputs": [],
   "source": [
    "# Running this cell is required to get the examples to work in this online\n",
    "# notebook until there is a way to preinstall packages\n",
    "# You have to wait until it has executed before you click to run the next cell\n",
    "import micropip\n",
    "micropip.install(['altair', 'vega_datasets'])"
   ]
  },
  {
   "cell_type": "code",
   "execution_count": null,
   "id": "f9e4ddd8",
   "metadata": {},
   "outputs": [],
   "source": [
    "\"\"\"\n",
    "Becker's Barley Trellis Plot\n",
    "----------------------------\n",
    "The example demonstrates the trellis charts created by Richard Becker, William Cleveland and others in the 1990s. Using the visualization technique below they identified an anomoly in a widely used agriculatural dataset, which they termed `\"The Morris Mistake.\" <http://ml.stat.purdue.edu/stat695t/writings/Trellis.User.pdf>`_. It became their favored way of showcasing the power of this pioneering plot.\n",
    "\"\"\"\n",
    "# category: case studies\n",
    "import altair as alt\n",
    "from vega_datasets import data\n",
    "\n",
    "source = data.barley()\n",
    "\n",
    "alt.Chart(source, title=\"The Morris Mistake\").mark_point().encode(\n",
    "    alt.X(\n",
    "        'yield:Q',\n",
    "        title=\"Barley Yield (bushels/acre)\",\n",
    "        scale=alt.Scale(zero=False),\n",
    "        axis=alt.Axis(grid=False)\n",
    "    ),\n",
    "    alt.Y(\n",
    "        'variety:N',\n",
    "        title=\"\",\n",
    "        sort='-x',\n",
    "        axis=alt.Axis(grid=True)\n",
    "    ),\n",
    "    color=alt.Color('year:N', legend=alt.Legend(title=\"Year\")),\n",
    "    row=alt.Row(\n",
    "        'site:N',\n",
    "        title=\"\",\n",
    "        sort=alt.EncodingSortField(field='yield', op='sum', order='descending'),\n",
    "    )\n",
    ").properties(\n",
    "    height=alt.Step(20)\n",
    ").configure_view(stroke=\"transparent\")"
   ]
  }
 ],
 "metadata": {
  "jupytext": {
   "cell_metadata_filter": "-all"
  },
  "kernelspec": {
   "display_name": "Python 3 (ipykernel)",
   "language": "python",
   "name": "python"
  }
 },
 "nbformat": 4,
 "nbformat_minor": 5
}
