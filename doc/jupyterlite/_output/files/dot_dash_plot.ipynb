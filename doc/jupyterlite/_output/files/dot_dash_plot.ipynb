{
 "cells": [
  {
   "cell_type": "code",
   "execution_count": null,
   "id": "45f09aa7",
   "metadata": {},
   "outputs": [],
   "source": [
    "# Running this cell is required to get the examples to work in this online\n",
    "# notebook until there is a way to preinstall packages\n",
    "# You have to wait until it has executed before you click to run the next cell\n",
    "import micropip\n",
    "micropip.install(['altair', 'vega_datasets'])"
   ]
  },
  {
   "cell_type": "code",
   "execution_count": null,
   "id": "3ae9d32d",
   "metadata": {},
   "outputs": [],
   "source": [
    "\"\"\"\n",
    "Dot Dash Plot\n",
    "=============\n",
    "How to make the dot-dash plot presented in Edward Tufte's `Visual Display of Quantitative Information <https://www.edwardtufte.com/tufte/books_vdqi>`_. Based\n",
    "on a JavaScript implementation by `g3o2 <https://bl.ocks.org/g3o2/bd4362574137061c243a2994ba648fb8>`_.\n",
    "\"\"\"\n",
    "# category: scatter plots\n",
    "import altair as alt\n",
    "from vega_datasets import data\n",
    "\n",
    "source = data.cars()\n",
    "\n",
    "# Configure the options common to all layers\n",
    "brush = alt.selection(type='interval')\n",
    "base = alt.Chart(source).add_selection(brush)\n",
    "\n",
    "# Configure the points\n",
    "points = base.mark_point().encode(\n",
    "    x=alt.X('Miles_per_Gallon', title=''),\n",
    "    y=alt.Y('Horsepower', title=''),\n",
    "    color=alt.condition(brush, 'Origin', alt.value('grey'))\n",
    ")\n",
    "\n",
    "# Configure the ticks\n",
    "tick_axis = alt.Axis(labels=False, domain=False, ticks=False)\n",
    "\n",
    "x_ticks = base.mark_tick().encode(\n",
    "    alt.X('Miles_per_Gallon', axis=tick_axis),\n",
    "    alt.Y('Origin', title='', axis=tick_axis),\n",
    "    color=alt.condition(brush, 'Origin', alt.value('lightgrey'))\n",
    ")\n",
    "\n",
    "y_ticks = base.mark_tick().encode(\n",
    "    alt.X('Origin', title='', axis=tick_axis),\n",
    "    alt.Y('Horsepower', axis=tick_axis),\n",
    "    color=alt.condition(brush, 'Origin', alt.value('lightgrey'))\n",
    ")\n",
    "\n",
    "# Build the chart\n",
    "y_ticks | (points & x_ticks)"
   ]
  }
 ],
 "metadata": {
  "jupytext": {
   "cell_metadata_filter": "-all"
  },
  "kernelspec": {
   "display_name": "Python 3 (ipykernel)",
   "language": "python",
   "name": "python"
  }
 },
 "nbformat": 4,
 "nbformat_minor": 5
}
