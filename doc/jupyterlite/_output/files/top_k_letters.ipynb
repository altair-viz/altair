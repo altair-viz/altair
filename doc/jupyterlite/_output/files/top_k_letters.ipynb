{
 "cells": [
  {
   "cell_type": "code",
   "execution_count": null,
   "id": "951e67af",
   "metadata": {},
   "outputs": [],
   "source": [
    "# Running this cell is required to get the examples to work in this online\n",
    "# notebook until there is a way to preinstall packages\n",
    "# You have to wait until it has executed before you click to run the next cell\n",
    "import micropip\n",
    "micropip.install(['altair', 'vega_datasets'])"
   ]
  },
  {
   "cell_type": "code",
   "execution_count": null,
   "id": "78dcd45e",
   "metadata": {},
   "outputs": [],
   "source": [
    "\"\"\"\n",
    "Top K Letters\n",
    "-------------\n",
    "This example shows how to use a window transform in order to display only the\n",
    "top K categories by number of entries. In this case, we rank the characters in\n",
    "the first paragraph of Dickens' *A Tale of Two Cities* by number of occurances.\n",
    "\"\"\"\n",
    "# category: case studies\n",
    "import altair as alt\n",
    "import pandas as pd\n",
    "import numpy as np\n",
    "\n",
    "# Excerpt from A Tale of Two Cities; public domain text\n",
    "text = \"\"\"\n",
    "It was the best of times, it was the worst of times, it was the age of wisdom,\n",
    "it was the age of foolishness, it was the epoch of belief, it was the epoch of\n",
    "incredulity, it was the season of Light, it was the season of Darkness, it was\n",
    "the spring of hope, it was the winter of despair, we had everything before us,\n",
    "we had nothing before us, we were all going direct to Heaven, we were all going\n",
    "direct the other way - in short, the period was so far like the present period,\n",
    "that some of its noisiest authorities insisted on its being received, for good\n",
    "or for evil, in the superlative degree of comparison only.\n",
    "\"\"\"\n",
    "\n",
    "source = pd.DataFrame(\n",
    "    {'letters': np.array([c for c in text if c.isalpha()])}\n",
    ")\n",
    "\n",
    "alt.Chart(source).transform_aggregate(\n",
    "    count='count()',\n",
    "    groupby=['letters']\n",
    ").transform_window(\n",
    "    rank='rank(count)',\n",
    "    sort=[alt.SortField('count', order='descending')]\n",
    ").transform_filter(\n",
    "    alt.datum.rank < 10\n",
    ").mark_bar().encode(\n",
    "    y=alt.Y('letters:N', sort='-x'),\n",
    "    x='count:Q',\n",
    ")"
   ]
  }
 ],
 "metadata": {
  "jupytext": {
   "cell_metadata_filter": "-all"
  },
  "kernelspec": {
   "display_name": "Python 3 (ipykernel)",
   "language": "python",
   "name": "python"
  }
 },
 "nbformat": 4,
 "nbformat_minor": 5
}
