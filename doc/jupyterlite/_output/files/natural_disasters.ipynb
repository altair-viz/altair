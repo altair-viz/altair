{
 "cells": [
  {
   "cell_type": "code",
   "execution_count": null,
   "id": "b2ef1651",
   "metadata": {},
   "outputs": [],
   "source": [
    "# Running this cell is required to get the examples to work in this online\n",
    "# notebook until there is a way to preinstall packages\n",
    "# You have to wait until it has executed before you click to run the next cell\n",
    "import micropip\n",
    "micropip.install(['altair', 'vega_datasets'])"
   ]
  },
  {
   "cell_type": "code",
   "execution_count": null,
   "id": "07f16166",
   "metadata": {},
   "outputs": [],
   "source": [
    "\"\"\"\n",
    "Natural Disasters\n",
    "-----------------\n",
    "This example shows a visualization of global deaths from natural disasters.\n",
    "\"\"\"\n",
    "# category: case studies\n",
    "import altair as alt\n",
    "from vega_datasets import data\n",
    "\n",
    "source = data.disasters.url\n",
    "\n",
    "alt.Chart(source).mark_circle(\n",
    "    opacity=0.8,\n",
    "    stroke='black',\n",
    "    strokeWidth=1\n",
    ").encode(\n",
    "    alt.X('Year:O', axis=alt.Axis(labelAngle=0)),\n",
    "    alt.Y('Entity:N'),\n",
    "    alt.Size('Deaths:Q',\n",
    "        scale=alt.Scale(range=[0, 4000]),\n",
    "        legend=alt.Legend(title='Annual Global Deaths')\n",
    "    ),\n",
    "    alt.Color('Entity:N', legend=None)\n",
    ").properties(\n",
    "    width=450,\n",
    "    height=320\n",
    ").transform_filter(\n",
    "    alt.datum.Entity != 'All natural disasters'\n",
    ")"
   ]
  }
 ],
 "metadata": {
  "jupytext": {
   "cell_metadata_filter": "-all"
  },
  "kernelspec": {
   "display_name": "Python 3 (ipykernel)",
   "language": "python",
   "name": "python"
  }
 },
 "nbformat": 4,
 "nbformat_minor": 5
}
