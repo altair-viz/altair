{
 "cells": [
  {
   "cell_type": "code",
   "execution_count": null,
   "id": "8d2fd35b",
   "metadata": {},
   "outputs": [],
   "source": [
    "# Running this cell is required to get the examples to work in this online\n",
    "# notebook until there is a way to preinstall packages\n",
    "# You have to wait until it has executed before you click to run the next cell\n",
    "import micropip\n",
    "micropip.install(['altair', 'vega_datasets'])"
   ]
  },
  {
   "cell_type": "code",
   "execution_count": null,
   "id": "2616b174",
   "metadata": {},
   "outputs": [],
   "source": [
    "\"\"\"\n",
    "Layered Area Chart\n",
    "------------------\n",
    "This example shows a layered area chart.\n",
    "\"\"\"\n",
    "# category: area charts\n",
    "import altair as alt\n",
    "from vega_datasets import data\n",
    "\n",
    "source = data.iowa_electricity()\n",
    "\n",
    "alt.Chart(source).mark_area(opacity=0.3).encode(\n",
    "    x=\"year:T\",\n",
    "    y=alt.Y(\"net_generation:Q\", stack=None),\n",
    "    color=\"source:N\"\n",
    ")"
   ]
  }
 ],
 "metadata": {
  "jupytext": {
   "cell_metadata_filter": "-all"
  },
  "kernelspec": {
   "display_name": "Python 3 (ipykernel)",
   "language": "python",
   "name": "python"
  }
 },
 "nbformat": 4,
 "nbformat_minor": 5
}
