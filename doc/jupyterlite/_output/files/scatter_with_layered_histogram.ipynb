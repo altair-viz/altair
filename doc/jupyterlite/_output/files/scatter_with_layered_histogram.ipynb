{
 "cells": [
  {
   "cell_type": "code",
   "execution_count": null,
   "id": "4e578263",
   "metadata": {},
   "outputs": [],
   "source": [
    "# Running this cell is required to get the examples to work in this online\n",
    "# notebook until there is a way to preinstall packages\n",
    "# You have to wait until it has executed before you click to run the next cell\n",
    "import micropip\n",
    "micropip.install(['altair', 'vega_datasets'])"
   ]
  },
  {
   "cell_type": "code",
   "execution_count": null,
   "id": "9c9a41f6",
   "metadata": {},
   "outputs": [],
   "source": [
    "\"\"\"\n",
    "Interactive Scatter Plot and Linked Layered Histogram\n",
    "=====================================================\n",
    "\n",
    "This example shows how to link a scatter plot and a histogram\n",
    "together such that clicking on a point in the scatter plot will\n",
    "isolate the distribution corresponding to that point, and vice versa.\n",
    "\"\"\"\n",
    "# category: interactive charts\n",
    "\n",
    "import altair as alt\n",
    "import pandas as pd\n",
    "import numpy as np\n",
    "\n",
    "# generate fake data\n",
    "source = pd.DataFrame({'gender': ['M']*1000 + ['F']*1000,\n",
    "               'height':np.concatenate((np.random.normal(69, 7, 1000),\n",
    "                                       np.random.normal(64, 6, 1000))),\n",
    "               'weight': np.concatenate((np.random.normal(195.8, 144, 1000),\n",
    "                                        np.random.normal(167, 100, 1000))),\n",
    "               'age': np.concatenate((np.random.normal(45, 8, 1000),\n",
    "                                        np.random.normal(51, 6, 1000)))\n",
    "        })\n",
    "\n",
    "selector = alt.selection_single(empty='all', fields=['gender'])\n",
    "\n",
    "color_scale = alt.Scale(domain=['M', 'F'],\n",
    "                        range=['#1FC3AA', '#8624F5'])\n",
    "\n",
    "base = alt.Chart(source).properties(\n",
    "    width=250,\n",
    "    height=250\n",
    ").add_selection(selector)\n",
    "\n",
    "points = base.mark_point(filled=True, size=200).encode(\n",
    "    x=alt.X('mean(height):Q',\n",
    "            scale=alt.Scale(domain=[0,84])),\n",
    "    y=alt.Y('mean(weight):Q',\n",
    "            scale=alt.Scale(domain=[0,250])),\n",
    "    color=alt.condition(selector,\n",
    "                        'gender:N',\n",
    "                        alt.value('lightgray'),\n",
    "                        scale=color_scale),\n",
    ")\n",
    "\n",
    "hists = base.mark_bar(opacity=0.5, thickness=100).encode(\n",
    "    x=alt.X('age',\n",
    "            bin=alt.Bin(step=5), # step keeps bin size the same\n",
    "            scale=alt.Scale(domain=[0,100])),\n",
    "    y=alt.Y('count()',\n",
    "            stack=None,\n",
    "            scale=alt.Scale(domain=[0,350])),\n",
    "    color=alt.Color('gender:N',\n",
    "                    scale=color_scale)\n",
    ").transform_filter(\n",
    "    selector\n",
    ")\n",
    "\n",
    "\n",
    "points | hists"
   ]
  }
 ],
 "metadata": {
  "jupytext": {
   "cell_metadata_filter": "-all"
  },
  "kernelspec": {
   "display_name": "Python 3 (ipykernel)",
   "language": "python",
   "name": "python"
  }
 },
 "nbformat": 4,
 "nbformat_minor": 5
}
