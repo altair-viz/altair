{
 "cells": [
  {
   "cell_type": "code",
   "execution_count": null,
   "id": "5fccee34",
   "metadata": {},
   "outputs": [],
   "source": [
    "# Running this cell is required to get the examples to work in this online\n",
    "# notebook until there is a way to preinstall packages\n",
    "# You have to wait until it has executed before you click to run the next cell\n",
    "import micropip\n",
    "micropip.install(['altair', 'vega_datasets'])"
   ]
  },
  {
   "cell_type": "code",
   "execution_count": null,
   "id": "a44e072e",
   "metadata": {},
   "outputs": [],
   "source": [
    "\"\"\"\n",
    "Line Chart with datum for color\n",
    "-------------------------------\n",
    "An example of using ``datum`` and ``repeat`` to color a multi-series line chart.\n",
    "This is adapted from this corresponding Vega-Lite Example:\n",
    "`Repeat and Layer to Show Different Movie Measures <https://vega.github.io/vega-lite/examples/repeat_layer.html>`_.\n",
    "\"\"\"\n",
    "# category: line charts\n",
    "\n",
    "import altair as alt\n",
    "from vega_datasets import data\n",
    "\n",
    "source = data.movies()\n",
    "\n",
    "alt.Chart(source).mark_line().encode(\n",
    "    x=alt.X(\"IMDB_Rating\", bin=True),\n",
    "    y=alt.Y(\n",
    "        alt.repeat(\"layer\"), aggregate=\"mean\", title=\"Mean of US and Worldwide Gross\"\n",
    "    ),\n",
    "    color=alt.datum(alt.repeat(\"layer\")),\n",
    ").repeat(layer=[\"US_Gross\", \"Worldwide_Gross\"])"
   ]
  }
 ],
 "metadata": {
  "jupytext": {
   "cell_metadata_filter": "-all"
  },
  "kernelspec": {
   "display_name": "Python 3 (ipykernel)",
   "language": "python",
   "name": "python"
  }
 },
 "nbformat": 4,
 "nbformat_minor": 5
}
