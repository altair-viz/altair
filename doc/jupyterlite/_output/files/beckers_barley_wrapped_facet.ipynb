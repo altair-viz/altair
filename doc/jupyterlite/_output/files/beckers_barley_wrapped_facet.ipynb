{
 "cells": [
  {
   "cell_type": "code",
   "execution_count": null,
   "id": "f2b419c6",
   "metadata": {},
   "outputs": [],
   "source": [
    "# Running this cell is required to get the examples to work in this online\n",
    "# notebook until there is a way to preinstall packages\n",
    "# You have to wait until it has executed before you click to run the next cell\n",
    "import micropip\n",
    "micropip.install(['altair', 'vega_datasets'])"
   ]
  },
  {
   "cell_type": "code",
   "execution_count": null,
   "id": "1d330389",
   "metadata": {},
   "outputs": [],
   "source": [
    "\"\"\"\n",
    "Becker's Barley Trellis Plot (wrapped facet)\n",
    "--------------------------------------------\n",
    "The example demonstrates the trellis charts created by Richard Becker, William Cleveland and others in the 1990s. \n",
    "This is the Altair replicate of `the VegaLite version <https://vega.github.io/vega-lite/docs/facet.html#facet-full>`_ \n",
    "demonstrating the usage of `columns` argument to create wrapped facet.\n",
    "\"\"\"\n",
    "# category: other charts\n",
    "import altair as alt\n",
    "from vega_datasets import data\n",
    "\n",
    "source = data.barley.url\n",
    "\n",
    "alt.Chart(source).mark_point().encode(\n",
    "    alt.X('median(yield):Q', scale=alt.Scale(zero=False)),\n",
    "    y='variety:O',\n",
    "    color='year:N',\n",
    "    facet=alt.Facet('site:O', columns=2),\n",
    ").properties(\n",
    "    width=200,\n",
    "    height=100,\n",
    ")"
   ]
  }
 ],
 "metadata": {
  "jupytext": {
   "cell_metadata_filter": "-all"
  },
  "kernelspec": {
   "display_name": "Python 3 (ipykernel)",
   "language": "python",
   "name": "python"
  }
 },
 "nbformat": 4,
 "nbformat_minor": 5
}
