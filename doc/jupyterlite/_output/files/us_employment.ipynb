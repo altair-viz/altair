{
 "cells": [
  {
   "cell_type": "code",
   "execution_count": null,
   "id": "b1bbc45d",
   "metadata": {},
   "outputs": [],
   "source": [
    "# Running this cell is required to get the examples to work in this online\n",
    "# notebook until there is a way to preinstall packages\n",
    "# You have to wait until it has executed before you click to run the next cell\n",
    "import micropip\n",
    "micropip.install(['altair', 'vega_datasets'])"
   ]
  },
  {
   "cell_type": "code",
   "execution_count": null,
   "id": "72273761",
   "metadata": {},
   "outputs": [],
   "source": [
    "\"\"\"\n",
    "The U.S. employment crash during the Great Recession\n",
    "----------------------------------------------------\n",
    "This example is a fully developed bar chart with negative values using the sample dataset of U.S. employment changes during the Great Recession.\n",
    "\"\"\"\n",
    "# category: case studies\n",
    "import altair as alt\n",
    "import pandas as pd\n",
    "from vega_datasets import data\n",
    "\n",
    "source = data.us_employment()\n",
    "presidents = pd.DataFrame([\n",
    "    {\n",
    "        \"start\": \"2006-01-01\",\n",
    "        \"end\": \"2009-01-19\",\n",
    "        \"president\": \"Bush\"\n",
    "    },\n",
    "    {\n",
    "        \"start\": \"2009-01-20\",\n",
    "        \"end\": \"2015-12-31\",\n",
    "        \"president\": \"Obama\"\n",
    "    }\n",
    "])\n",
    "\n",
    "bars = alt.Chart(\n",
    "    source,\n",
    "    title=\"The U.S. employment crash during the Great Recession\"\n",
    ").mark_bar().encode(\n",
    "    x=alt.X(\"month:T\", title=\"\"),\n",
    "    y=alt.Y(\"nonfarm_change:Q\", title=\"Change in non-farm employment (in thousands)\"),\n",
    "    color=alt.condition(\n",
    "        alt.datum.nonfarm_change > 0,\n",
    "        alt.value(\"steelblue\"),\n",
    "        alt.value(\"orange\")\n",
    "    )\n",
    ")\n",
    "\n",
    "rule = alt.Chart(presidents).mark_rule(\n",
    "    color=\"black\",\n",
    "    strokeWidth=2\n",
    ").encode(\n",
    "    x='end:T'\n",
    ").transform_filter(alt.datum.president == \"Bush\")\n",
    "\n",
    "text = alt.Chart(presidents).mark_text(\n",
    "    align='left',\n",
    "    baseline='middle',\n",
    "    dx=7,\n",
    "    dy=-135,\n",
    "    size=11\n",
    ").encode(\n",
    "    x='start:T',\n",
    "    x2='end:T',\n",
    "    text='president',\n",
    "    color=alt.value('#000000')\n",
    ")\n",
    "\n",
    "(bars + rule + text).properties(width=600)"
   ]
  }
 ],
 "metadata": {
  "jupytext": {
   "cell_metadata_filter": "-all"
  },
  "kernelspec": {
   "display_name": "Python 3 (ipykernel)",
   "language": "python",
   "name": "python"
  }
 },
 "nbformat": 4,
 "nbformat_minor": 5
}
