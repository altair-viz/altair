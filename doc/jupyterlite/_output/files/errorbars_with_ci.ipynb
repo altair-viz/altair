{
 "cells": [
  {
   "cell_type": "code",
   "execution_count": null,
   "id": "9232e83b",
   "metadata": {},
   "outputs": [],
   "source": [
    "# Running this cell is required to get the examples to work in this online\n",
    "# notebook until there is a way to preinstall packages\n",
    "# You have to wait until it has executed before you click to run the next cell\n",
    "import micropip\n",
    "micropip.install(['altair', 'vega_datasets'])"
   ]
  },
  {
   "cell_type": "code",
   "execution_count": null,
   "id": "d1b3aac2",
   "metadata": {},
   "outputs": [],
   "source": [
    "\"\"\"\n",
    "Error Bars showing Confidence Interval\n",
    "======================================\n",
    "This example shows how to show error bars using confidence intervals.\n",
    "The confidence intervals are computed internally in vega by a non-parametric\n",
    "`bootstrap of the mean <https://github.com/vega/vega-statistics/blob/master/src/bootstrapCI.js>`_.\n",
    "\"\"\"\n",
    "# category: other charts\n",
    "import altair as alt\n",
    "from vega_datasets import data\n",
    "\n",
    "source = data.barley()\n",
    "\n",
    "error_bars = alt.Chart(source).mark_errorbar(extent='ci').encode(\n",
    "  x=alt.X('yield:Q', scale=alt.Scale(zero=False)),\n",
    "  y=alt.Y('variety:N')\n",
    ")\n",
    "\n",
    "points = alt.Chart(source).mark_point(filled=True, color='black').encode(\n",
    "  x=alt.X('yield:Q', aggregate='mean'),\n",
    "  y=alt.Y('variety:N'),\n",
    ")\n",
    "\n",
    "error_bars + points"
   ]
  }
 ],
 "metadata": {
  "jupytext": {
   "cell_metadata_filter": "-all"
  },
  "kernelspec": {
   "display_name": "Python 3 (ipykernel)",
   "language": "python",
   "name": "python"
  }
 },
 "nbformat": 4,
 "nbformat_minor": 5
}
