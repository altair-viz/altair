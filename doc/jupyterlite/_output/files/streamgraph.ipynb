{
 "cells": [
  {
   "cell_type": "code",
   "execution_count": null,
   "id": "0cfe1eed",
   "metadata": {},
   "outputs": [],
   "source": [
    "# Running this cell is required to get the examples to work in this online\n",
    "# notebook until there is a way to preinstall packages\n",
    "# You have to wait until it has executed before you click to run the next cell\n",
    "import micropip\n",
    "micropip.install(['altair', 'vega_datasets'])"
   ]
  },
  {
   "cell_type": "code",
   "execution_count": null,
   "id": "efbb45a3",
   "metadata": {},
   "outputs": [],
   "source": [
    "\"\"\"\n",
    "Streamgraph\n",
    "-----------------\n",
    "This example shows the streamgraph from vega-lite examples.\n",
    "\"\"\"\n",
    "# category: area charts\n",
    "import altair as alt\n",
    "from vega_datasets import data\n",
    "\n",
    "source = data.unemployment_across_industries.url\n",
    "\n",
    "alt.Chart(source).mark_area().encode(\n",
    "    alt.X('yearmonth(date):T',\n",
    "        axis=alt.Axis(format='%Y', domain=False, tickSize=0)\n",
    "    ),\n",
    "    alt.Y('sum(count):Q', stack='center', axis=None),\n",
    "    alt.Color('series:N',\n",
    "        scale=alt.Scale(scheme='category20b')\n",
    "    )\n",
    ").interactive()"
   ]
  }
 ],
 "metadata": {
  "jupytext": {
   "cell_metadata_filter": "-all"
  },
  "kernelspec": {
   "display_name": "Python 3 (ipykernel)",
   "language": "python",
   "name": "python"
  }
 },
 "nbformat": 4,
 "nbformat_minor": 5
}
