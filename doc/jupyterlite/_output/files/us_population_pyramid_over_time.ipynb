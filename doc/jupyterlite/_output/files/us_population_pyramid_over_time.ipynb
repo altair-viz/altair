{
 "cells": [
  {
   "cell_type": "code",
   "execution_count": null,
   "id": "e7ce4442",
   "metadata": {},
   "outputs": [],
   "source": [
    "# Running this cell is required to get the examples to work in this online\n",
    "# notebook until there is a way to preinstall packages\n",
    "# You have to wait until it has executed before you click to run the next cell\n",
    "import micropip\n",
    "micropip.install(['altair', 'vega_datasets'])"
   ]
  },
  {
   "cell_type": "code",
   "execution_count": null,
   "id": "d2fc8aab",
   "metadata": {},
   "outputs": [],
   "source": [
    "'''\n",
    "US Population Pyramid Over Time\n",
    "===============================\n",
    "A population pyramid shows the distribution of age groups within a population.\n",
    "It uses a slider widget that is bound to the year to visualize the age\n",
    "distribution over time.\n",
    "'''\n",
    "# category: case studies\n",
    "import altair as alt\n",
    "from vega_datasets import data\n",
    "\n",
    "source = data.population.url\n",
    "\n",
    "slider = alt.binding_range(min=1850, max=2000, step=10)\n",
    "select_year = alt.selection_single(name='year', fields=['year'],\n",
    "                                   bind=slider, init={'year': 2000})\n",
    "\n",
    "base = alt.Chart(source).add_selection(\n",
    "    select_year\n",
    ").transform_filter(\n",
    "    select_year\n",
    ").transform_calculate(\n",
    "    gender=alt.expr.if_(alt.datum.sex == 1, 'Male', 'Female')\n",
    ").properties(\n",
    "    width=250\n",
    ")\n",
    "\n",
    "\n",
    "color_scale = alt.Scale(domain=['Male', 'Female'],\n",
    "                        range=['#1f77b4', '#e377c2'])\n",
    "\n",
    "left = base.transform_filter(\n",
    "    alt.datum.gender == 'Female'\n",
    ").encode(\n",
    "    y=alt.Y('age:O', axis=None),\n",
    "    x=alt.X('sum(people):Q',\n",
    "            title='population',\n",
    "            sort=alt.SortOrder('descending')),\n",
    "    color=alt.Color('gender:N', scale=color_scale, legend=None)\n",
    ").mark_bar().properties(title='Female')\n",
    "\n",
    "middle = base.encode(\n",
    "    y=alt.Y('age:O', axis=None),\n",
    "    text=alt.Text('age:Q'),\n",
    ").mark_text().properties(width=20)\n",
    "\n",
    "right = base.transform_filter(\n",
    "    alt.datum.gender == 'Male'\n",
    ").encode(\n",
    "    y=alt.Y('age:O', axis=None),\n",
    "    x=alt.X('sum(people):Q', title='population'),\n",
    "    color=alt.Color('gender:N', scale=color_scale, legend=None)\n",
    ").mark_bar().properties(title='Male')\n",
    "\n",
    "alt.concat(left, middle, right, spacing=5)"
   ]
  }
 ],
 "metadata": {
  "jupytext": {
   "cell_metadata_filter": "-all"
  },
  "kernelspec": {
   "display_name": "Python 3 (ipykernel)",
   "language": "python",
   "name": "python"
  }
 },
 "nbformat": 4,
 "nbformat_minor": 5
}
