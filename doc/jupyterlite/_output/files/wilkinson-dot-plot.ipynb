{
 "cells": [
  {
   "cell_type": "code",
   "execution_count": null,
   "id": "8bc6c129",
   "metadata": {},
   "outputs": [],
   "source": [
    "# Running this cell is required to get the examples to work in this online\n",
    "# notebook until there is a way to preinstall packages\n",
    "# You have to wait until it has executed before you click to run the next cell\n",
    "import micropip\n",
    "micropip.install(['altair', 'vega_datasets'])"
   ]
  },
  {
   "cell_type": "code",
   "execution_count": null,
   "id": "39481723",
   "metadata": {},
   "outputs": [],
   "source": [
    "\"\"\"\n",
    "Wilkinson Dot Plot\n",
    "------------------\n",
    "An example of a `Wilkinson Dot Plot <https://en.wikipedia.org/wiki/Dot_plot_(statistics)>`_\n",
    "\"\"\"\n",
    "# category: other charts\n",
    "\n",
    "import altair as alt\n",
    "import pandas as pd\n",
    "\n",
    "source = pd.DataFrame(\n",
    "    {\"data\":[1,1,1,1,1,1,1,1,1,1,\n",
    "             2,2,2,\n",
    "             3,3,\n",
    "             4,4,4,4,4,4]\n",
    "    }\n",
    ")\n",
    "\n",
    "alt.Chart(source).mark_circle(opacity=1).transform_window(\n",
    "    id='rank()', \n",
    "    groupby=['data']\n",
    ").encode(\n",
    "    alt.X('data:O'), \n",
    "    alt.Y('id:O', \n",
    "          axis=None, \n",
    "          sort='descending')\n",
    ").properties(height=100)"
   ]
  }
 ],
 "metadata": {
  "jupytext": {
   "cell_metadata_filter": "-all"
  },
  "kernelspec": {
   "display_name": "Python 3 (ipykernel)",
   "language": "python",
   "name": "python"
  }
 },
 "nbformat": 4,
 "nbformat_minor": 5
}
