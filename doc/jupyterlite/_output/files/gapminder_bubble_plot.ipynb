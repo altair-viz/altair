{
 "cells": [
  {
   "cell_type": "code",
   "execution_count": null,
   "id": "a360db90",
   "metadata": {},
   "outputs": [],
   "source": [
    "# Running this cell is required to get the examples to work in this online\n",
    "# notebook until there is a way to preinstall packages\n",
    "# You have to wait until it has executed before you click to run the next cell\n",
    "import micropip\n",
    "micropip.install(['altair', 'vega_datasets'])"
   ]
  },
  {
   "cell_type": "code",
   "execution_count": null,
   "id": "50bf1c9c",
   "metadata": {},
   "outputs": [],
   "source": [
    "\"\"\"\n",
    "Gapminder Bubble Plot\n",
    "=====================\n",
    "This example shows how to make a bubble plot showing the correlation between\n",
    "health and income for 187 countries in the world (modified from an example\n",
    "in Lisa Charlotte Rost's blog post `'One Chart, Twelve Charting Libraries' <http://lisacharlotterost.github.io/2016/05/17/one-chart-code/>`_.\n",
    "\"\"\"\n",
    "# category: case studies\n",
    "import altair as alt\n",
    "from vega_datasets import data\n",
    "\n",
    "source = data.gapminder_health_income.url\n",
    "\n",
    "alt.Chart(source).mark_circle().encode(\n",
    "    alt.X('income:Q', scale=alt.Scale(type='log')),\n",
    "    alt.Y('health:Q', scale=alt.Scale(zero=False)),\n",
    "    size='population:Q'\n",
    ")"
   ]
  }
 ],
 "metadata": {
  "jupytext": {
   "cell_metadata_filter": "-all"
  },
  "kernelspec": {
   "display_name": "Python 3 (ipykernel)",
   "language": "python",
   "name": "python"
  }
 },
 "nbformat": 4,
 "nbformat_minor": 5
}
