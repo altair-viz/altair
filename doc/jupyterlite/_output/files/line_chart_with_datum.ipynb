{
 "cells": [
  {
   "cell_type": "code",
   "execution_count": null,
   "id": "6f6c1fe4",
   "metadata": {},
   "outputs": [],
   "source": [
    "# Running this cell is required to get the examples to work in this online\n",
    "# notebook until there is a way to preinstall packages\n",
    "# You have to wait until it has executed before you click to run the next cell\n",
    "import micropip\n",
    "micropip.install(['altair', 'vega_datasets'])"
   ]
  },
  {
   "cell_type": "code",
   "execution_count": null,
   "id": "221bb7c8",
   "metadata": {},
   "outputs": [],
   "source": [
    "\"\"\"\n",
    "Line Chart with datum\n",
    "---------------------------------\n",
    "An example of using ``datum`` to highlight certain values, including a ``DateTime`` value.\n",
    "This is adapted from two corresponding Vega-Lite Examples:\n",
    "`Highlight a Specific Value <https://vega.github.io/vega-lite/docs/datum.html#highlight-a-specific-data-value>`_.\n",
    "\"\"\"\n",
    "# category: line charts\n",
    "\n",
    "import altair as alt\n",
    "from vega_datasets import data\n",
    "\n",
    "source = data.stocks()\n",
    "\n",
    "lines = (\n",
    "    alt.Chart(source)\n",
    "    .mark_line()\n",
    "    .encode(x=\"date\", y=\"price\", color=\"symbol\")\n",
    ")\n",
    "\n",
    "xrule = (\n",
    "    alt.Chart()\n",
    "    .mark_rule(color=\"cyan\", strokeWidth=2)\n",
    "    .encode(x=alt.datum(alt.DateTime(year=2006, month=\"November\")))\n",
    ")\n",
    "\n",
    "yrule = (\n",
    "    alt.Chart().mark_rule(strokeDash=[12, 6], size=2).encode(y=alt.datum(350))\n",
    ")\n",
    "\n",
    "\n",
    "lines + yrule + xrule"
   ]
  }
 ],
 "metadata": {
  "jupytext": {
   "cell_metadata_filter": "-all"
  },
  "kernelspec": {
   "display_name": "Python 3 (ipykernel)",
   "language": "python",
   "name": "python"
  }
 },
 "nbformat": 4,
 "nbformat_minor": 5
}
