{
 "cells": [
  {
   "cell_type": "code",
   "execution_count": null,
   "id": "734cffc6",
   "metadata": {},
   "outputs": [],
   "source": [
    "# Running this cell is required to get the examples to work in this online\n",
    "# notebook until there is a way to preinstall packages\n",
    "# You have to wait until it has executed before you click to run the next cell\n",
    "import micropip\n",
    "micropip.install(['altair', 'vega_datasets'])"
   ]
  },
  {
   "cell_type": "code",
   "execution_count": null,
   "id": "18583b8a",
   "metadata": {},
   "outputs": [],
   "source": [
    "\"\"\"\n",
    "Simple Stacked Area Chart\n",
    "-------------------------\n",
    "This example shows how to make a simple stacked area chart.\n",
    "\"\"\"\n",
    "# category: simple charts\n",
    "import altair as alt\n",
    "from vega_datasets import data\n",
    "\n",
    "source = data.iowa_electricity()\n",
    "\n",
    "alt.Chart(source).mark_area().encode(\n",
    "    x=\"year:T\",\n",
    "    y=\"net_generation:Q\",\n",
    "    color=\"source:N\"\n",
    ")"
   ]
  }
 ],
 "metadata": {
  "jupytext": {
   "cell_metadata_filter": "-all"
  },
  "kernelspec": {
   "display_name": "Python 3 (ipykernel)",
   "language": "python",
   "name": "python"
  }
 },
 "nbformat": 4,
 "nbformat_minor": 5
}
